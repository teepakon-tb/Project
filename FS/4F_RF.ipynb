{
 "cells": [
  {
   "cell_type": "code",
   "execution_count": 2,
   "metadata": {},
   "outputs": [
    {
     "name": "stdout",
     "output_type": "stream",
     "text": [
      "Accuracy: 0.9415438136245687\n",
      "Confusion Matrix:\n",
      "[[ 9896  1269]\n",
      " [  781 23123]]\n",
      "Classification Report:\n",
      "              precision    recall  f1-score   support\n",
      "\n",
      "           0       0.93      0.89      0.91     11165\n",
      "           1       0.95      0.97      0.96     23904\n",
      "\n",
      "    accuracy                           0.94     35069\n",
      "   macro avg       0.94      0.93      0.93     35069\n",
      "weighted avg       0.94      0.94      0.94     35069\n",
      "\n"
     ]
    }
   ],
   "source": [
    "import pandas as pd\n",
    "from sklearn.model_selection import train_test_split\n",
    "from sklearn.ensemble import RandomForestClassifier\n",
    "from sklearn import metrics\n",
    "\n",
    "# โหลดข้อมูลจากไฟล์ CSV\n",
    "df = pd.read_csv('UNSW_NB15_testing-set.csv')\n",
    "\n",
    "\n",
    "X = df[['spkts', 'dpkts', 'sbytes','dbytes']]\n",
    "y = df['label']\n",
    "\n",
    "# แบ่งข้อมูลเป็นชุดฝึกและชุดทดสอบ\n",
    "X_train, X_test, y_train, y_test = train_test_split(X, y, test_size=0.2, random_state=2)\n",
    "\n",
    "# ใช้ RandomForestClassifier\n",
    "model = RandomForestClassifier()\n",
    "model.fit(X_train, y_train)\n",
    "\n",
    "# ทำนายค่า 'label' ด้วยชุดทดสอบ\n",
    "y_pred = model.predict(X_test)\n",
    "\n",
    "# ประเมินประสิทธิภาพ\n",
    "accuracy = metrics.accuracy_score(y_test, y_pred)\n",
    "print(f'Accuracy: {accuracy}')\n",
    "\n",
    "# แสดง Confusion Matrix\n",
    "conf_matrix = metrics.confusion_matrix(y_test, y_pred)\n",
    "print('Confusion Matrix:')\n",
    "print(conf_matrix)\n",
    "\n",
    "# แสดง Classification Report\n",
    "class_report = metrics.classification_report(y_test, y_pred)\n",
    "print('Classification Report:')\n",
    "print(class_report)\n"
   ]
  }
 ],
 "metadata": {
  "kernelspec": {
   "display_name": "Python 3",
   "language": "python",
   "name": "python3"
  },
  "language_info": {
   "codemirror_mode": {
    "name": "ipython",
    "version": 3
   },
   "file_extension": ".py",
   "mimetype": "text/x-python",
   "name": "python",
   "nbconvert_exporter": "python",
   "pygments_lexer": "ipython3",
   "version": "3.12.0"
  }
 },
 "nbformat": 4,
 "nbformat_minor": 2
}
