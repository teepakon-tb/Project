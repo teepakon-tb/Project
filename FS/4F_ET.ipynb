{
 "cells": [
  {
   "cell_type": "code",
   "execution_count": 3,
   "metadata": {},
   "outputs": [
    {
     "name": "stdout",
     "output_type": "stream",
     "text": [
      "Information Gain for spkts: 0.17638782766219618\n",
      "Information Gain for dpkts: 0.27329108091097276\n",
      "Information Gain for sbytes: 0.4669911913826714\n",
      "Information Gain for dbytes: 0.37246446161199254\n",
      "Accuracy: 0.940317659471328\n",
      "Confusion Matrix:\n",
      "[[ 9938  1227]\n",
      " [  866 23038]]\n",
      "Classification Report:\n",
      "              precision    recall  f1-score   support\n",
      "\n",
      "           0       0.92      0.89      0.90     11165\n",
      "           1       0.95      0.96      0.96     23904\n",
      "\n",
      "    accuracy                           0.94     35069\n",
      "   macro avg       0.93      0.93      0.93     35069\n",
      "weighted avg       0.94      0.94      0.94     35069\n",
      "\n"
     ]
    }
   ],
   "source": [
    "import pandas as pd\n",
    "from sklearn.model_selection import train_test_split\n",
    "from sklearn.ensemble import ExtraTreesClassifier\n",
    "from sklearn import metrics\n",
    "from sklearn.feature_selection import mutual_info_classif\n",
    "\n",
    "# โหลดข้อมูลจากไฟล์ CSV\n",
    "df = pd.read_csv('UNSW_NB15_testing-set.csv')\n",
    "\n",
    "X = df[['spkts', 'dpkts', 'sbytes','dbytes']]\n",
    "y = df['label']\n",
    "\n",
    "# แบ่งข้อมูลเป็นชุดฝึกและชุดทดสอบ\n",
    "X_train, X_test, y_train, y_test = train_test_split(X, y, test_size=0.2, random_state=2)\n",
    "\n",
    "# หา Information Gain ของแต่ละ feature\n",
    "ig_scores = mutual_info_classif(X_train, y_train)\n",
    "\n",
    "# แสดง Information Gain ของแต่ละ feature\n",
    "for feature, ig_score in zip(X_train.columns, ig_scores):\n",
    "    print(f'Information Gain for {feature}: {ig_score}')\n",
    "\n",
    "# ใช้ ExtraTreesClassifier\n",
    "model = ExtraTreesClassifier()\n",
    "model.fit(X_train, y_train)\n",
    "\n",
    "# ทำนายค่า 'label' ด้วยชุดทดสอบ\n",
    "y_pred = model.predict(X_test)\n",
    "\n",
    "# ประเมินประสิทธิภาพ\n",
    "accuracy = metrics.accuracy_score(y_test, y_pred)\n",
    "print(f'Accuracy: {accuracy}')\n",
    "\n",
    "# แสดง Confusion Matrix\n",
    "conf_matrix = metrics.confusion_matrix(y_test, y_pred)\n",
    "print('Confusion Matrix:')\n",
    "print(conf_matrix)\n",
    "\n",
    "# แสดง Classification Report\n",
    "class_report = metrics.classification_report(y_test, y_pred)\n",
    "print('Classification Report:')\n",
    "print(class_report)\n"
   ]
  },
  {
   "cell_type": "code",
   "execution_count": null,
   "metadata": {},
   "outputs": [],
   "source": []
  }
 ],
 "metadata": {
  "kernelspec": {
   "display_name": "Python 3",
   "language": "python",
   "name": "python3"
  },
  "language_info": {
   "codemirror_mode": {
    "name": "ipython",
    "version": 3
   },
   "file_extension": ".py",
   "mimetype": "text/x-python",
   "name": "python",
   "nbconvert_exporter": "python",
   "pygments_lexer": "ipython3",
   "version": "3.12.0"
  }
 },
 "nbformat": 4,
 "nbformat_minor": 2
}
