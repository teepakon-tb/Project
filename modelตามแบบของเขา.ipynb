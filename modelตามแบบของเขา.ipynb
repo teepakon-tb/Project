{
 "cells": [
  {
   "cell_type": "code",
   "execution_count": 1,
   "metadata": {},
   "outputs": [
    {
     "name": "stderr",
     "output_type": "stream",
     "text": [
      "C:\\Users\\NITRO 5\\AppData\\Local\\Temp\\ipykernel_11040\\3351227904.py:4: DeprecationWarning: Importing display from IPython.core.display is deprecated since IPython 7.14, please import from IPython display\n",
      "  from IPython.core.display import display, HTML\n"
     ]
    }
   ],
   "source": [
    "import numpy as np\n",
    "import pandas as pd\n",
    "\n",
    "from IPython.core.display import display, HTML\n",
    "import plotly.graph_objects as go\n",
    "import plotly.express as px\n",
    "from plotly.subplots import make_subplots\n",
    "import plotly.io as pio\n",
    "\n",
    "\n",
    "import seaborn as sns\n",
    "from importlib import reload\n",
    "import matplotlib.pyplot as plt\n",
    "import matplotlib\n",
    "import warnings\n",
    "\n",
    "from sklearn import preprocessing\n",
    "from sklearn.neural_network import MLPClassifier\n",
    "from scipy import stats\n",
    "from sklearn.preprocessing import MinMaxScaler\n",
    "import seaborn as sns\n",
    "import matplotlib.pyplot as plt"
   ]
  },
  {
   "cell_type": "code",
   "execution_count": 2,
   "metadata": {},
   "outputs": [
    {
     "name": "stderr",
     "output_type": "stream",
     "text": [
      "C:\\Users\\NITRO 5\\AppData\\Local\\Temp\\ipykernel_11040\\3089525748.py:14: DtypeWarning: Columns (1,3,47) have mixed types. Specify dtype option on import or set low_memory=False.\n",
      "  total_df = pd.concat((pd.read_csv(f) for f in data_files), ignore_index=True)\n",
      "C:\\Users\\NITRO 5\\AppData\\Local\\Temp\\ipykernel_11040\\3089525748.py:14: DtypeWarning: Columns (3,39,47) have mixed types. Specify dtype option on import or set low_memory=False.\n",
      "  total_df = pd.concat((pd.read_csv(f) for f in data_files), ignore_index=True)\n"
     ]
    }
   ],
   "source": [
    "\n",
    "testing = pd.read_csv('UNSW_NB15_testing-set.csv', encoding='utf-8')\n",
    "train = pd.read_csv('UNSW_NB15_training-set.csv', encoding='utf-8')\n",
    "\n",
    "testing_df = pd.DataFrame(testing)\n",
    "train_df = pd.DataFrame(train)\n",
    "\n",
    "data_files = [\n",
    "    'UNSW-NB15_1.csv',\n",
    "    'UNSW-NB15_2.csv',\n",
    "    'UNSW-NB15_3.csv',\n",
    "    'UNSW-NB15_4.csv',\n",
    "]\n",
    "\n",
    "total_df = pd.concat((pd.read_csv(f) for f in data_files), ignore_index=True)\n",
    "\n"
   ]
  },
  {
   "cell_type": "code",
   "execution_count": null,
   "metadata": {},
   "outputs": [],
   "source": []
  },
  {
   "cell_type": "markdown",
   "metadata": {},
   "source": [
    "ทำการเลือกเฉพาะฟีเจอร์ที่ต้องการ"
   ]
  },
  {
   "cell_type": "code",
   "execution_count": 3,
   "metadata": {},
   "outputs": [
    {
     "name": "stderr",
     "output_type": "stream",
     "text": [
      "C:\\Users\\NITRO 5\\AppData\\Local\\Temp\\ipykernel_11040\\201852868.py:2: DtypeWarning: Columns (1,3,47) have mixed types. Specify dtype option on import or set low_memory=False.\n",
      "  data1 = pd.read_csv(\"UNSW-NB15_1.csv\")\n",
      "C:\\Users\\NITRO 5\\AppData\\Local\\Temp\\ipykernel_11040\\201852868.py:3: DtypeWarning: Columns (3,39,47) have mixed types. Specify dtype option on import or set low_memory=False.\n",
      "  data2 = pd.read_csv(\"UNSW-NB15_2.csv\")\n"
     ]
    },
    {
     "data": {
      "text/html": [
       "<div>\n",
       "<style scoped>\n",
       "    .dataframe tbody tr th:only-of-type {\n",
       "        vertical-align: middle;\n",
       "    }\n",
       "\n",
       "    .dataframe tbody tr th {\n",
       "        vertical-align: top;\n",
       "    }\n",
       "\n",
       "    .dataframe thead th {\n",
       "        text-align: right;\n",
       "    }\n",
       "</style>\n",
       "<table border=\"1\" class=\"dataframe\">\n",
       "  <thead>\n",
       "    <tr style=\"text-align: right;\">\n",
       "      <th></th>\n",
       "      <th>id</th>\n",
       "      <th>dur</th>\n",
       "      <th>proto</th>\n",
       "      <th>service</th>\n",
       "      <th>state</th>\n",
       "      <th>spkts</th>\n",
       "      <th>dpkts</th>\n",
       "      <th>sbytes</th>\n",
       "      <th>dbytes</th>\n",
       "      <th>rate</th>\n",
       "      <th>...</th>\n",
       "      <th>ct_dst_sport_ltm</th>\n",
       "      <th>ct_dst_src_ltm</th>\n",
       "      <th>is_ftp_login</th>\n",
       "      <th>ct_ftp_cmd</th>\n",
       "      <th>ct_flw_http_mthd</th>\n",
       "      <th>ct_src_ltm</th>\n",
       "      <th>ct_srv_dst</th>\n",
       "      <th>is_sm_ips_ports</th>\n",
       "      <th>attack_cat</th>\n",
       "      <th>label</th>\n",
       "    </tr>\n",
       "  </thead>\n",
       "  <tbody>\n",
       "    <tr>\n",
       "      <th>0</th>\n",
       "      <td>1</td>\n",
       "      <td>0.000011</td>\n",
       "      <td>udp</td>\n",
       "      <td>-</td>\n",
       "      <td>INT</td>\n",
       "      <td>2</td>\n",
       "      <td>0</td>\n",
       "      <td>496</td>\n",
       "      <td>0</td>\n",
       "      <td>90909.0902</td>\n",
       "      <td>...</td>\n",
       "      <td>1</td>\n",
       "      <td>2</td>\n",
       "      <td>0</td>\n",
       "      <td>0</td>\n",
       "      <td>0</td>\n",
       "      <td>1</td>\n",
       "      <td>2</td>\n",
       "      <td>0</td>\n",
       "      <td>Normal</td>\n",
       "      <td>0</td>\n",
       "    </tr>\n",
       "    <tr>\n",
       "      <th>1</th>\n",
       "      <td>2</td>\n",
       "      <td>0.000008</td>\n",
       "      <td>udp</td>\n",
       "      <td>-</td>\n",
       "      <td>INT</td>\n",
       "      <td>2</td>\n",
       "      <td>0</td>\n",
       "      <td>1762</td>\n",
       "      <td>0</td>\n",
       "      <td>125000.0003</td>\n",
       "      <td>...</td>\n",
       "      <td>1</td>\n",
       "      <td>2</td>\n",
       "      <td>0</td>\n",
       "      <td>0</td>\n",
       "      <td>0</td>\n",
       "      <td>1</td>\n",
       "      <td>2</td>\n",
       "      <td>0</td>\n",
       "      <td>Normal</td>\n",
       "      <td>0</td>\n",
       "    </tr>\n",
       "    <tr>\n",
       "      <th>2</th>\n",
       "      <td>3</td>\n",
       "      <td>0.000005</td>\n",
       "      <td>udp</td>\n",
       "      <td>-</td>\n",
       "      <td>INT</td>\n",
       "      <td>2</td>\n",
       "      <td>0</td>\n",
       "      <td>1068</td>\n",
       "      <td>0</td>\n",
       "      <td>200000.0051</td>\n",
       "      <td>...</td>\n",
       "      <td>1</td>\n",
       "      <td>3</td>\n",
       "      <td>0</td>\n",
       "      <td>0</td>\n",
       "      <td>0</td>\n",
       "      <td>1</td>\n",
       "      <td>3</td>\n",
       "      <td>0</td>\n",
       "      <td>Normal</td>\n",
       "      <td>0</td>\n",
       "    </tr>\n",
       "    <tr>\n",
       "      <th>3</th>\n",
       "      <td>4</td>\n",
       "      <td>0.000006</td>\n",
       "      <td>udp</td>\n",
       "      <td>-</td>\n",
       "      <td>INT</td>\n",
       "      <td>2</td>\n",
       "      <td>0</td>\n",
       "      <td>900</td>\n",
       "      <td>0</td>\n",
       "      <td>166666.6608</td>\n",
       "      <td>...</td>\n",
       "      <td>1</td>\n",
       "      <td>3</td>\n",
       "      <td>0</td>\n",
       "      <td>0</td>\n",
       "      <td>0</td>\n",
       "      <td>2</td>\n",
       "      <td>3</td>\n",
       "      <td>0</td>\n",
       "      <td>Normal</td>\n",
       "      <td>0</td>\n",
       "    </tr>\n",
       "    <tr>\n",
       "      <th>4</th>\n",
       "      <td>5</td>\n",
       "      <td>0.000010</td>\n",
       "      <td>udp</td>\n",
       "      <td>-</td>\n",
       "      <td>INT</td>\n",
       "      <td>2</td>\n",
       "      <td>0</td>\n",
       "      <td>2126</td>\n",
       "      <td>0</td>\n",
       "      <td>100000.0025</td>\n",
       "      <td>...</td>\n",
       "      <td>1</td>\n",
       "      <td>3</td>\n",
       "      <td>0</td>\n",
       "      <td>0</td>\n",
       "      <td>0</td>\n",
       "      <td>2</td>\n",
       "      <td>3</td>\n",
       "      <td>0</td>\n",
       "      <td>Normal</td>\n",
       "      <td>0</td>\n",
       "    </tr>\n",
       "  </tbody>\n",
       "</table>\n",
       "<p>5 rows × 45 columns</p>\n",
       "</div>"
      ],
      "text/plain": [
       "   id       dur proto service state  spkts  dpkts  sbytes  dbytes  \\\n",
       "0   1  0.000011   udp       -   INT      2      0     496       0   \n",
       "1   2  0.000008   udp       -   INT      2      0    1762       0   \n",
       "2   3  0.000005   udp       -   INT      2      0    1068       0   \n",
       "3   4  0.000006   udp       -   INT      2      0     900       0   \n",
       "4   5  0.000010   udp       -   INT      2      0    2126       0   \n",
       "\n",
       "          rate  ...  ct_dst_sport_ltm  ct_dst_src_ltm  is_ftp_login  \\\n",
       "0   90909.0902  ...                 1               2             0   \n",
       "1  125000.0003  ...                 1               2             0   \n",
       "2  200000.0051  ...                 1               3             0   \n",
       "3  166666.6608  ...                 1               3             0   \n",
       "4  100000.0025  ...                 1               3             0   \n",
       "\n",
       "   ct_ftp_cmd  ct_flw_http_mthd  ct_src_ltm  ct_srv_dst  is_sm_ips_ports  \\\n",
       "0           0                 0           1           2                0   \n",
       "1           0                 0           1           2                0   \n",
       "2           0                 0           1           3                0   \n",
       "3           0                 0           2           3                0   \n",
       "4           0                 0           2           3                0   \n",
       "\n",
       "   attack_cat  label  \n",
       "0      Normal      0  \n",
       "1      Normal      0  \n",
       "2      Normal      0  \n",
       "3      Normal      0  \n",
       "4      Normal      0  \n",
       "\n",
       "[5 rows x 45 columns]"
      ]
     },
     "execution_count": 3,
     "metadata": {},
     "output_type": "execute_result"
    }
   ],
   "source": [
    "# สร้าง DataFrame หรือโหลดข้อมูลจากแหล่งข้อมูล\n",
    "data1 = pd.read_csv(\"UNSW-NB15_1.csv\") \n",
    "data2 = pd.read_csv(\"UNSW-NB15_2.csv\")\n",
    "data3 = pd.read_csv(\"UNSW-NB15_3.csv\") \n",
    "data4 = pd.read_csv(\"UNSW-NB15_4.csv\")\n",
    "\n",
    "# เลือกเฉพาะคอลัมน์ที่คุณต้องการ\n",
    "selected_columns1 = data1[[\"srcip\", \"sport\", \"dstip\", \"dsport\", \"proto\", \"dur\", \"sbytes\", \"dbytes\", \"service\", \"Spkts\", \"Dpkts\"]]\n",
    "selected_columns2 = data2[[\"srcip\", \"sport\", \"dstip\", \"dsport\", \"proto\", \"dur\", \"sbytes\", \"dbytes\", \"service\", \"Spkts\", \"Dpkts\"]]\n",
    "selected_columns3 = data3[[\"srcip\", \"sport\", \"dstip\", \"dsport\", \"proto\", \"dur\", \"sbytes\", \"dbytes\", \"service\", \"Spkts\", \"Dpkts\"]]\n",
    "selected_columns4 = data4[[\"srcip\", \"sport\", \"dstip\", \"dsport\", \"proto\", \"dur\", \"sbytes\", \"dbytes\", \"service\", \"Spkts\", \"Dpkts\"]]\n",
    "\n",
    "# สร้าง DataFrame ใหม่ที่มีเฉพาะคอลัมน์ที่คุณเลือก\n",
    "df1 = pd.DataFrame(selected_columns1)\n",
    "df2 = pd.DataFrame(selected_columns2)\n",
    "df3 = pd.DataFrame(selected_columns3)\n",
    "df4 = pd.DataFrame(selected_columns4)\n",
    "\n",
    "train_df.head()\n",
    "\n"
   ]
  },
  {
   "cell_type": "markdown",
   "metadata": {},
   "source": [
    "เปลี่ยนค่า NaN จาก column attack_cat เป็น Normal"
   ]
  },
  {
   "cell_type": "code",
   "execution_count": 4,
   "metadata": {},
   "outputs": [],
   "source": [
    "# ตรวจสอบและแทนค่า NaN ในคอลัมน์ \"attack_cat\" ด้วย \"Normal\"\n",
    "train_df['attack_cat'] = train_df['attack_cat'].fillna('Normal')"
   ]
  },
  {
   "cell_type": "markdown",
   "metadata": {},
   "source": [
    "ตรวจสอบ missing values"
   ]
  },
  {
   "cell_type": "code",
   "execution_count": 5,
   "metadata": {},
   "outputs": [
    {
     "data": {
      "text/plain": [
       "id                   0\n",
       "dur                  0\n",
       "proto                0\n",
       "service              0\n",
       "state                0\n",
       "spkts                0\n",
       "dpkts                0\n",
       "sbytes               0\n",
       "dbytes               0\n",
       "rate                 0\n",
       "sttl                 0\n",
       "dttl                 0\n",
       "sload                0\n",
       "dload                0\n",
       "sloss                0\n",
       "dloss                0\n",
       "sinpkt               0\n",
       "dinpkt               0\n",
       "sjit                 0\n",
       "djit                 0\n",
       "swin                 0\n",
       "stcpb                0\n",
       "dtcpb                0\n",
       "dwin                 0\n",
       "tcprtt               0\n",
       "synack               0\n",
       "ackdat               0\n",
       "smean                0\n",
       "dmean                0\n",
       "trans_depth          0\n",
       "response_body_len    0\n",
       "ct_srv_src           0\n",
       "ct_state_ttl         0\n",
       "ct_dst_ltm           0\n",
       "ct_src_dport_ltm     0\n",
       "ct_dst_sport_ltm     0\n",
       "ct_dst_src_ltm       0\n",
       "is_ftp_login         0\n",
       "ct_ftp_cmd           0\n",
       "ct_flw_http_mthd     0\n",
       "ct_src_ltm           0\n",
       "ct_srv_dst           0\n",
       "is_sm_ips_ports      0\n",
       "attack_cat           0\n",
       "label                0\n",
       "dtype: int64"
      ]
     },
     "execution_count": 5,
     "metadata": {},
     "output_type": "execute_result"
    }
   ],
   "source": [
    "missing_values_training = train_df.isnull().sum()\n",
    "missing_values_training"
   ]
  },
  {
   "cell_type": "code",
   "execution_count": 6,
   "metadata": {},
   "outputs": [
    {
     "data": {
      "text/plain": [
       "(175341, 45)"
      ]
     },
     "execution_count": 6,
     "metadata": {},
     "output_type": "execute_result"
    }
   ],
   "source": [
    "testing_df.shape\n",
    "# removing the ID and the label column from the dataset\n",
    "# testing_df = testing_df.drop('id', axis=1)\n",
    "# testing_df = testing_df.drop('label', axis=1)"
   ]
  },
  {
   "cell_type": "code",
   "execution_count": 7,
   "metadata": {},
   "outputs": [
    {
     "data": {
      "text/plain": [
       "(82332, 45)"
      ]
     },
     "execution_count": 7,
     "metadata": {},
     "output_type": "execute_result"
    }
   ],
   "source": [
    "# removing the same from the training dataset\n",
    "\n",
    "# train_df = train_df.drop('id', axis=1)\n",
    "# train_df = train_df.drop('label', axis=1)\n",
    "train_df.shape"
   ]
  },
  {
   "cell_type": "code",
   "execution_count": 8,
   "metadata": {},
   "outputs": [
    {
     "name": "stdout",
     "output_type": "stream",
     "text": [
      "Columns in the Training DataFrame:\n",
      "Index(['id', 'dur', 'proto', 'service', 'state', 'spkts', 'dpkts', 'sbytes',\n",
      "       'dbytes', 'rate', 'sttl', 'dttl', 'sload', 'dload', 'sloss', 'dloss',\n",
      "       'sinpkt', 'dinpkt', 'sjit', 'djit', 'swin', 'stcpb', 'dtcpb', 'dwin',\n",
      "       'tcprtt', 'synack', 'ackdat', 'smean', 'dmean', 'trans_depth',\n",
      "       'response_body_len', 'ct_srv_src', 'ct_state_ttl', 'ct_dst_ltm',\n",
      "       'ct_src_dport_ltm', 'ct_dst_sport_ltm', 'ct_dst_src_ltm',\n",
      "       'is_ftp_login', 'ct_ftp_cmd', 'ct_flw_http_mthd', 'ct_src_ltm',\n",
      "       'ct_srv_dst', 'is_sm_ips_ports', 'attack_cat', 'label'],\n",
      "      dtype='object')\n",
      "\n",
      "Columns in the Testing DataFrame:\n",
      "Index(['id', 'dur', 'proto', 'service', 'state', 'spkts', 'dpkts', 'sbytes',\n",
      "       'dbytes', 'rate', 'sttl', 'dttl', 'sload', 'dload', 'sloss', 'dloss',\n",
      "       'sinpkt', 'dinpkt', 'sjit', 'djit', 'swin', 'stcpb', 'dtcpb', 'dwin',\n",
      "       'tcprtt', 'synack', 'ackdat', 'smean', 'dmean', 'trans_depth',\n",
      "       'response_body_len', 'ct_srv_src', 'ct_state_ttl', 'ct_dst_ltm',\n",
      "       'ct_src_dport_ltm', 'ct_dst_sport_ltm', 'ct_dst_src_ltm',\n",
      "       'is_ftp_login', 'ct_ftp_cmd', 'ct_flw_http_mthd', 'ct_src_ltm',\n",
      "       'ct_srv_dst', 'is_sm_ips_ports', 'attack_cat', 'label'],\n",
      "      dtype='object')\n"
     ]
    }
   ],
   "source": [
    "# List columns in the training dataset\n",
    "train_columns = train_df.columns\n",
    "print(\"Columns in the Training DataFrame:\")\n",
    "print(train_columns)\n",
    "\n",
    "# List columns in the testing dataset\n",
    "test_columns = testing_df.columns\n",
    "print(\"\\nColumns in the Testing DataFrame:\")\n",
    "print(test_columns)"
   ]
  },
  {
   "cell_type": "code",
   "execution_count": 9,
   "metadata": {},
   "outputs": [
    {
     "data": {
      "text/plain": [
       "label\n",
       "1    45332\n",
       "0    37000\n",
       "Name: count, dtype: int64"
      ]
     },
     "execution_count": 9,
     "metadata": {},
     "output_type": "execute_result"
    }
   ],
   "source": [
    "# Assuming 'label' is the name of the target variable (change it if it's different)\n",
    "target_variable = 'label'\n",
    "\n",
    "# Calculate class counts in the training dataset\n",
    "train_class_counts = train_df[target_variable].value_counts()\n",
    "train_class_counts"
   ]
  },
  {
   "cell_type": "code",
   "execution_count": 10,
   "metadata": {},
   "outputs": [
    {
     "name": "stderr",
     "output_type": "stream",
     "text": [
      "C:\\Users\\NITRO 5\\AppData\\Local\\Temp\\ipykernel_11040\\2199120543.py:4: FutureWarning: \n",
      "\n",
      "Passing `palette` without assigning `hue` is deprecated and will be removed in v0.14.0. Assign the `x` variable to `hue` and set `legend=False` for the same effect.\n",
      "\n",
      "  sns.barplot(x=train_class_counts.index, y=train_class_counts.values, palette=\"viridis\")\n"
     ]
    },
    {
     "data": {
      "image/png": "[encoded data removed]",
      "text/plain": [
       "<Figure size 800x600 with 1 Axes>"
      ]
     },
     "metadata": {},
     "output_type": "display_data"
    }
   ],
   "source": [
    "# Create a bar chart to visualize class distribution in the training dataset\n",
    "plt.figure(figsize=(8, 6))\n",
    "sns.set(style=\"whitegrid\")\n",
    "sns.barplot(x=train_class_counts.index, y=train_class_counts.values, palette=\"viridis\")\n",
    "plt.title('Class Distribution in the Training Dataset')\n",
    "plt.xlabel('Class')\n",
    "plt.ylabel('Count')\n",
    "plt.show()"
   ]
  },
  {
   "cell_type": "code",
   "execution_count": 11,
   "metadata": {},
   "outputs": [
    {
     "name": "stderr",
     "output_type": "stream",
     "text": [
      "C:\\Users\\NITRO 5\\AppData\\Local\\Temp\\ipykernel_11040\\3953324038.py:7: FutureWarning: \n",
      "\n",
      "Passing `palette` without assigning `hue` is deprecated and will be removed in v0.14.0. Assign the `x` variable to `hue` and set `legend=False` for the same effect.\n",
      "\n",
      "  sns.barplot(x=test_class_counts.index, y=test_class_counts.values, palette=\"viridis\")\n"
     ]
    },
    {
     "data": {
      "image/png": "[encoded data removed]",
      "text/plain": [
       "<Figure size 800x600 with 1 Axes>"
      ]
     },
     "metadata": {},
     "output_type": "display_data"
    }
   ],
   "source": [
    "# Calculate class counts in the testing dataset\n",
    "test_class_counts = testing_df[target_variable].value_counts()\n",
    "\n",
    "# Create a bar chart to visualize class distribution in the testing dataset\n",
    "plt.figure(figsize=(8, 6))\n",
    "sns.set(style=\"whitegrid\")\n",
    "sns.barplot(x=test_class_counts.index, y=test_class_counts.values, palette=\"viridis\")\n",
    "plt.title('Class Distribution in the Testing Dataset')\n",
    "plt.xlabel('Class')\n",
    "plt.ylabel('Count')\n",
    "plt.show()"
   ]
  },
  {
   "cell_type": "code",
   "execution_count": 12,
   "metadata": {},
   "outputs": [
    {
     "data": {
      "text/plain": [
       "label\n",
       "1    119341\n",
       "0     56000\n",
       "Name: count, dtype: int64"
      ]
     },
     "execution_count": 12,
     "metadata": {},
     "output_type": "execute_result"
    }
   ],
   "source": [
    "test_class_counts"
   ]
  },
  {
   "cell_type": "markdown",
   "metadata": {},
   "source": [
    "สุ่มกลุ่มตัวอย่าง โดยทำให้เท่ากัน"
   ]
  },
  {
   "cell_type": "code",
   "execution_count": 13,
   "metadata": {},
   "outputs": [
    {
     "name": "stderr",
     "output_type": "stream",
     "text": [
      "C:\\Users\\NITRO 5\\AppData\\Local\\Packages\\PythonSoftwareFoundation.Python.3.11_qbz5n2kfra8p0\\LocalCache\\local-packages\\Python311\\site-packages\\sklearn\\preprocessing\\_encoders.py:975: FutureWarning: `sparse` was renamed to `sparse_output` in version 1.2 and will be removed in 1.4. `sparse_output` is ignored unless you leave `sparse` to its default value.\n",
      "  warnings.warn(\n"
     ]
    },
    {
     "name": "stdout",
     "output_type": "stream",
     "text": [
      "Class Distribution after SMOTE Oversampling:\n",
      "Counter({0: 45332, 1: 45332})\n"
     ]
    }
   ],
   "source": [
    "from imblearn.over_sampling import SMOTE\n",
    "from collections import Counter\n",
    "from sklearn.preprocessing import OneHotEncoder\n",
    "\n",
    "# Assuming you have identified the target variable name as 'label'\n",
    "target_variable = 'label'\n",
    "\n",
    "# Extract features and target variable from the training dataset\n",
    "X_train = train_df.drop(target_variable, axis=1)\n",
    "y_train = train_df[target_variable]\n",
    "\n",
    "# Identify the categorical columns in your dataset\n",
    "categorical_columns = X_train.select_dtypes(include=['object']).columns\n",
    "\n",
    "# Apply one-hot encoding to the categorical columns\n",
    "encoder = OneHotEncoder(sparse=False, handle_unknown='ignore')\n",
    "X_train_encoded = encoder.fit_transform(X_train[categorical_columns])\n",
    "\n",
    "# Combine the one-hot encoded features with the numerical features\n",
    "X_train_numeric = X_train.drop(categorical_columns, axis=1)\n",
    "X_train_combined = np.hstack((X_train_numeric, X_train_encoded))\n",
    "\n",
    "# Initialize the SMOTE object\n",
    "smote = SMOTE(random_state=42)\n",
    "\n",
    "# Apply SMOTE to oversample the minority class\n",
    "X_resampled, y_resampled = smote.fit_resample(X_train_combined, y_train)\n",
    "\n",
    "# Check the class distribution after oversampling\n",
    "class_counts_resampled = Counter(y_resampled)\n",
    "print(\"Class Distribution after SMOTE Oversampling:\")\n",
    "print(class_counts_resampled)"
   ]
  },
  {
   "cell_type": "code",
   "execution_count": 14,
   "metadata": {},
   "outputs": [
    {
     "data": {
      "image/png": "[encoded data removed]",
      "text/plain": [
       "<Figure size 800x600 with 1 Axes>"
      ]
     },
     "metadata": {},
     "output_type": "display_data"
    }
   ],
   "source": [
    "# class_counts_resampled is a Counter object\n",
    "class_counts_resampled_dict = dict(class_counts_resampled)\n",
    "\n",
    "# Separate class labels and their counts\n",
    "class_labels = list(class_counts_resampled_dict.keys())\n",
    "class_counts = list(class_counts_resampled_dict.values())\n",
    "\n",
    "# Create a bar plot\n",
    "plt.figure(figsize=(8, 6))\n",
    "plt.bar(class_labels, class_counts, color=['lightgreen', 'lightblue'])\n",
    "plt.xticks(class_labels)\n",
    "plt.xlabel('Class')\n",
    "plt.ylabel('Count')\n",
    "plt.title('Class Distribution after SMOTE Oversampling')\n",
    "plt.show()\n"
   ]
  },
  {
   "cell_type": "code",
   "execution_count": 15,
   "metadata": {},
   "outputs": [
    {
     "data": {
      "text/html": [
       "<div>\n",
       "<style scoped>\n",
       "    .dataframe tbody tr th:only-of-type {\n",
       "        vertical-align: middle;\n",
       "    }\n",
       "\n",
       "    .dataframe tbody tr th {\n",
       "        vertical-align: top;\n",
       "    }\n",
       "\n",
       "    .dataframe thead th {\n",
       "        text-align: right;\n",
       "    }\n",
       "</style>\n",
       "<table border=\"1\" class=\"dataframe\">\n",
       "  <thead>\n",
       "    <tr style=\"text-align: right;\">\n",
       "      <th></th>\n",
       "      <th>id</th>\n",
       "      <th>dur</th>\n",
       "      <th>proto</th>\n",
       "      <th>service</th>\n",
       "      <th>state</th>\n",
       "      <th>spkts</th>\n",
       "      <th>dpkts</th>\n",
       "      <th>sbytes</th>\n",
       "      <th>dbytes</th>\n",
       "      <th>rate</th>\n",
       "      <th>...</th>\n",
       "      <th>ct_dst_sport_ltm</th>\n",
       "      <th>ct_dst_src_ltm</th>\n",
       "      <th>is_ftp_login</th>\n",
       "      <th>ct_ftp_cmd</th>\n",
       "      <th>ct_flw_http_mthd</th>\n",
       "      <th>ct_src_ltm</th>\n",
       "      <th>ct_srv_dst</th>\n",
       "      <th>is_sm_ips_ports</th>\n",
       "      <th>attack_cat</th>\n",
       "      <th>label</th>\n",
       "    </tr>\n",
       "  </thead>\n",
       "  <tbody>\n",
       "    <tr>\n",
       "      <th>count</th>\n",
       "      <td>82332.000000</td>\n",
       "      <td>82332.000000</td>\n",
       "      <td>82332</td>\n",
       "      <td>82332</td>\n",
       "      <td>82332</td>\n",
       "      <td>82332.000000</td>\n",
       "      <td>82332.000000</td>\n",
       "      <td>8.233200e+04</td>\n",
       "      <td>8.233200e+04</td>\n",
       "      <td>8.233200e+04</td>\n",
       "      <td>...</td>\n",
       "      <td>82332.000000</td>\n",
       "      <td>82332.000000</td>\n",
       "      <td>82332.000000</td>\n",
       "      <td>82332.000000</td>\n",
       "      <td>82332.000000</td>\n",
       "      <td>82332.000000</td>\n",
       "      <td>82332.000000</td>\n",
       "      <td>82332.000000</td>\n",
       "      <td>82332</td>\n",
       "      <td>82332.000000</td>\n",
       "    </tr>\n",
       "    <tr>\n",
       "      <th>unique</th>\n",
       "      <td>NaN</td>\n",
       "      <td>NaN</td>\n",
       "      <td>131</td>\n",
       "      <td>13</td>\n",
       "      <td>7</td>\n",
       "      <td>NaN</td>\n",
       "      <td>NaN</td>\n",
       "      <td>NaN</td>\n",
       "      <td>NaN</td>\n",
       "      <td>NaN</td>\n",
       "      <td>...</td>\n",
       "      <td>NaN</td>\n",
       "      <td>NaN</td>\n",
       "      <td>NaN</td>\n",
       "      <td>NaN</td>\n",
       "      <td>NaN</td>\n",
       "      <td>NaN</td>\n",
       "      <td>NaN</td>\n",
       "      <td>NaN</td>\n",
       "      <td>10</td>\n",
       "      <td>NaN</td>\n",
       "    </tr>\n",
       "    <tr>\n",
       "      <th>top</th>\n",
       "      <td>NaN</td>\n",
       "      <td>NaN</td>\n",
       "      <td>tcp</td>\n",
       "      <td>-</td>\n",
       "      <td>FIN</td>\n",
       "      <td>NaN</td>\n",
       "      <td>NaN</td>\n",
       "      <td>NaN</td>\n",
       "      <td>NaN</td>\n",
       "      <td>NaN</td>\n",
       "      <td>...</td>\n",
       "      <td>NaN</td>\n",
       "      <td>NaN</td>\n",
       "      <td>NaN</td>\n",
       "      <td>NaN</td>\n",
       "      <td>NaN</td>\n",
       "      <td>NaN</td>\n",
       "      <td>NaN</td>\n",
       "      <td>NaN</td>\n",
       "      <td>Normal</td>\n",
       "      <td>NaN</td>\n",
       "    </tr>\n",
       "    <tr>\n",
       "      <th>freq</th>\n",
       "      <td>NaN</td>\n",
       "      <td>NaN</td>\n",
       "      <td>43095</td>\n",
       "      <td>47153</td>\n",
       "      <td>39339</td>\n",
       "      <td>NaN</td>\n",
       "      <td>NaN</td>\n",
       "      <td>NaN</td>\n",
       "      <td>NaN</td>\n",
       "      <td>NaN</td>\n",
       "      <td>...</td>\n",
       "      <td>NaN</td>\n",
       "      <td>NaN</td>\n",
       "      <td>NaN</td>\n",
       "      <td>NaN</td>\n",
       "      <td>NaN</td>\n",
       "      <td>NaN</td>\n",
       "      <td>NaN</td>\n",
       "      <td>NaN</td>\n",
       "      <td>37000</td>\n",
       "      <td>NaN</td>\n",
       "    </tr>\n",
       "    <tr>\n",
       "      <th>mean</th>\n",
       "      <td>41166.500000</td>\n",
       "      <td>1.006756</td>\n",
       "      <td>NaN</td>\n",
       "      <td>NaN</td>\n",
       "      <td>NaN</td>\n",
       "      <td>18.666472</td>\n",
       "      <td>17.545936</td>\n",
       "      <td>7.993908e+03</td>\n",
       "      <td>1.323379e+04</td>\n",
       "      <td>8.241089e+04</td>\n",
       "      <td>...</td>\n",
       "      <td>3.663011</td>\n",
       "      <td>7.456360</td>\n",
       "      <td>0.008284</td>\n",
       "      <td>0.008381</td>\n",
       "      <td>0.129743</td>\n",
       "      <td>6.468360</td>\n",
       "      <td>9.164262</td>\n",
       "      <td>0.011126</td>\n",
       "      <td>NaN</td>\n",
       "      <td>0.550600</td>\n",
       "    </tr>\n",
       "    <tr>\n",
       "      <th>std</th>\n",
       "      <td>23767.345519</td>\n",
       "      <td>4.710444</td>\n",
       "      <td>NaN</td>\n",
       "      <td>NaN</td>\n",
       "      <td>NaN</td>\n",
       "      <td>133.916353</td>\n",
       "      <td>115.574086</td>\n",
       "      <td>1.716423e+05</td>\n",
       "      <td>1.514715e+05</td>\n",
       "      <td>1.486204e+05</td>\n",
       "      <td>...</td>\n",
       "      <td>5.915386</td>\n",
       "      <td>11.415191</td>\n",
       "      <td>0.091171</td>\n",
       "      <td>0.092485</td>\n",
       "      <td>0.638683</td>\n",
       "      <td>8.543927</td>\n",
       "      <td>11.121413</td>\n",
       "      <td>0.104891</td>\n",
       "      <td>NaN</td>\n",
       "      <td>0.497436</td>\n",
       "    </tr>\n",
       "    <tr>\n",
       "      <th>min</th>\n",
       "      <td>1.000000</td>\n",
       "      <td>0.000000</td>\n",
       "      <td>NaN</td>\n",
       "      <td>NaN</td>\n",
       "      <td>NaN</td>\n",
       "      <td>1.000000</td>\n",
       "      <td>0.000000</td>\n",
       "      <td>2.400000e+01</td>\n",
       "      <td>0.000000e+00</td>\n",
       "      <td>0.000000e+00</td>\n",
       "      <td>...</td>\n",
       "      <td>1.000000</td>\n",
       "      <td>1.000000</td>\n",
       "      <td>0.000000</td>\n",
       "      <td>0.000000</td>\n",
       "      <td>0.000000</td>\n",
       "      <td>1.000000</td>\n",
       "      <td>1.000000</td>\n",
       "      <td>0.000000</td>\n",
       "      <td>NaN</td>\n",
       "      <td>0.000000</td>\n",
       "    </tr>\n",
       "    <tr>\n",
       "      <th>25%</th>\n",
       "      <td>20583.750000</td>\n",
       "      <td>0.000008</td>\n",
       "      <td>NaN</td>\n",
       "      <td>NaN</td>\n",
       "      <td>NaN</td>\n",
       "      <td>2.000000</td>\n",
       "      <td>0.000000</td>\n",
       "      <td>1.140000e+02</td>\n",
       "      <td>0.000000e+00</td>\n",
       "      <td>2.860611e+01</td>\n",
       "      <td>...</td>\n",
       "      <td>1.000000</td>\n",
       "      <td>1.000000</td>\n",
       "      <td>0.000000</td>\n",
       "      <td>0.000000</td>\n",
       "      <td>0.000000</td>\n",
       "      <td>1.000000</td>\n",
       "      <td>2.000000</td>\n",
       "      <td>0.000000</td>\n",
       "      <td>NaN</td>\n",
       "      <td>0.000000</td>\n",
       "    </tr>\n",
       "    <tr>\n",
       "      <th>50%</th>\n",
       "      <td>41166.500000</td>\n",
       "      <td>0.014138</td>\n",
       "      <td>NaN</td>\n",
       "      <td>NaN</td>\n",
       "      <td>NaN</td>\n",
       "      <td>6.000000</td>\n",
       "      <td>2.000000</td>\n",
       "      <td>5.340000e+02</td>\n",
       "      <td>1.780000e+02</td>\n",
       "      <td>2.650177e+03</td>\n",
       "      <td>...</td>\n",
       "      <td>1.000000</td>\n",
       "      <td>3.000000</td>\n",
       "      <td>0.000000</td>\n",
       "      <td>0.000000</td>\n",
       "      <td>0.000000</td>\n",
       "      <td>3.000000</td>\n",
       "      <td>5.000000</td>\n",
       "      <td>0.000000</td>\n",
       "      <td>NaN</td>\n",
       "      <td>1.000000</td>\n",
       "    </tr>\n",
       "    <tr>\n",
       "      <th>75%</th>\n",
       "      <td>61749.250000</td>\n",
       "      <td>0.719360</td>\n",
       "      <td>NaN</td>\n",
       "      <td>NaN</td>\n",
       "      <td>NaN</td>\n",
       "      <td>12.000000</td>\n",
       "      <td>10.000000</td>\n",
       "      <td>1.280000e+03</td>\n",
       "      <td>9.560000e+02</td>\n",
       "      <td>1.111111e+05</td>\n",
       "      <td>...</td>\n",
       "      <td>3.000000</td>\n",
       "      <td>6.000000</td>\n",
       "      <td>0.000000</td>\n",
       "      <td>0.000000</td>\n",
       "      <td>0.000000</td>\n",
       "      <td>7.000000</td>\n",
       "      <td>11.000000</td>\n",
       "      <td>0.000000</td>\n",
       "      <td>NaN</td>\n",
       "      <td>1.000000</td>\n",
       "    </tr>\n",
       "    <tr>\n",
       "      <th>max</th>\n",
       "      <td>82332.000000</td>\n",
       "      <td>59.999989</td>\n",
       "      <td>NaN</td>\n",
       "      <td>NaN</td>\n",
       "      <td>NaN</td>\n",
       "      <td>10646.000000</td>\n",
       "      <td>11018.000000</td>\n",
       "      <td>1.435577e+07</td>\n",
       "      <td>1.465753e+07</td>\n",
       "      <td>1.000000e+06</td>\n",
       "      <td>...</td>\n",
       "      <td>38.000000</td>\n",
       "      <td>63.000000</td>\n",
       "      <td>2.000000</td>\n",
       "      <td>2.000000</td>\n",
       "      <td>16.000000</td>\n",
       "      <td>60.000000</td>\n",
       "      <td>62.000000</td>\n",
       "      <td>1.000000</td>\n",
       "      <td>NaN</td>\n",
       "      <td>1.000000</td>\n",
       "    </tr>\n",
       "  </tbody>\n",
       "</table>\n",
       "<p>11 rows × 45 columns</p>\n",
       "</div>"
      ],
      "text/plain": [
       "                  id           dur  proto service  state         spkts  \\\n",
       "count   82332.000000  82332.000000  82332   82332  82332  82332.000000   \n",
       "unique           NaN           NaN    131      13      7           NaN   \n",
       "top              NaN           NaN    tcp       -    FIN           NaN   \n",
       "freq             NaN           NaN  43095   47153  39339           NaN   \n",
       "mean    41166.500000      1.006756    NaN     NaN    NaN     18.666472   \n",
       "std     23767.345519      4.710444    NaN     NaN    NaN    133.916353   \n",
       "min         1.000000      0.000000    NaN     NaN    NaN      1.000000   \n",
       "25%     20583.750000      0.000008    NaN     NaN    NaN      2.000000   \n",
       "50%     41166.500000      0.014138    NaN     NaN    NaN      6.000000   \n",
       "75%     61749.250000      0.719360    NaN     NaN    NaN     12.000000   \n",
       "max     82332.000000     59.999989    NaN     NaN    NaN  10646.000000   \n",
       "\n",
       "               dpkts        sbytes        dbytes          rate  ...  \\\n",
       "count   82332.000000  8.233200e+04  8.233200e+04  8.233200e+04  ...   \n",
       "unique           NaN           NaN           NaN           NaN  ...   \n",
       "top              NaN           NaN           NaN           NaN  ...   \n",
       "freq             NaN           NaN           NaN           NaN  ...   \n",
       "mean       17.545936  7.993908e+03  1.323379e+04  8.241089e+04  ...   \n",
       "std       115.574086  1.716423e+05  1.514715e+05  1.486204e+05  ...   \n",
       "min         0.000000  2.400000e+01  0.000000e+00  0.000000e+00  ...   \n",
       "25%         0.000000  1.140000e+02  0.000000e+00  2.860611e+01  ...   \n",
       "50%         2.000000  5.340000e+02  1.780000e+02  2.650177e+03  ...   \n",
       "75%        10.000000  1.280000e+03  9.560000e+02  1.111111e+05  ...   \n",
       "max     11018.000000  1.435577e+07  1.465753e+07  1.000000e+06  ...   \n",
       "\n",
       "        ct_dst_sport_ltm  ct_dst_src_ltm  is_ftp_login    ct_ftp_cmd  \\\n",
       "count       82332.000000    82332.000000  82332.000000  82332.000000   \n",
       "unique               NaN             NaN           NaN           NaN   \n",
       "top                  NaN             NaN           NaN           NaN   \n",
       "freq                 NaN             NaN           NaN           NaN   \n",
       "mean            3.663011        7.456360      0.008284      0.008381   \n",
       "std             5.915386       11.415191      0.091171      0.092485   \n",
       "min             1.000000        1.000000      0.000000      0.000000   \n",
       "25%             1.000000        1.000000      0.000000      0.000000   \n",
       "50%             1.000000        3.000000      0.000000      0.000000   \n",
       "75%             3.000000        6.000000      0.000000      0.000000   \n",
       "max            38.000000       63.000000      2.000000      2.000000   \n",
       "\n",
       "        ct_flw_http_mthd    ct_src_ltm    ct_srv_dst  is_sm_ips_ports  \\\n",
       "count       82332.000000  82332.000000  82332.000000     82332.000000   \n",
       "unique               NaN           NaN           NaN              NaN   \n",
       "top                  NaN           NaN           NaN              NaN   \n",
       "freq                 NaN           NaN           NaN              NaN   \n",
       "mean            0.129743      6.468360      9.164262         0.011126   \n",
       "std             0.638683      8.543927     11.121413         0.104891   \n",
       "min             0.000000      1.000000      1.000000         0.000000   \n",
       "25%             0.000000      1.000000      2.000000         0.000000   \n",
       "50%             0.000000      3.000000      5.000000         0.000000   \n",
       "75%             0.000000      7.000000     11.000000         0.000000   \n",
       "max            16.000000     60.000000     62.000000         1.000000   \n",
       "\n",
       "        attack_cat         label  \n",
       "count        82332  82332.000000  \n",
       "unique          10           NaN  \n",
       "top         Normal           NaN  \n",
       "freq         37000           NaN  \n",
       "mean           NaN      0.550600  \n",
       "std            NaN      0.497436  \n",
       "min            NaN      0.000000  \n",
       "25%            NaN      0.000000  \n",
       "50%            NaN      1.000000  \n",
       "75%            NaN      1.000000  \n",
       "max            NaN      1.000000  \n",
       "\n",
       "[11 rows x 45 columns]"
      ]
     },
     "execution_count": 15,
     "metadata": {},
     "output_type": "execute_result"
    }
   ],
   "source": [
    "train_df.describe(include='all')"
   ]
  },
  {
   "cell_type": "markdown",
   "metadata": {},
   "source": [
    "Drop irrelevant or excess feastures"
   ]
  },
  {
   "cell_type": "code",
   "execution_count": 16,
   "metadata": {},
   "outputs": [],
   "source": [
    "list_drop = ['id','attack_cat']"
   ]
  },
  {
   "cell_type": "code",
   "execution_count": 17,
   "metadata": {},
   "outputs": [],
   "source": [
    "train_df.drop(list_drop,axis=1,inplace=True)"
   ]
  },
  {
   "cell_type": "markdown",
   "metadata": {},
   "source": [
    "Apply Clamping"
   ]
  },
  {
   "cell_type": "code",
   "execution_count": 18,
   "metadata": {},
   "outputs": [
    {
     "data": {
      "text/html": [
       "<div>\n",
       "<style scoped>\n",
       "    .dataframe tbody tr th:only-of-type {\n",
       "        vertical-align: middle;\n",
       "    }\n",
       "\n",
       "    .dataframe tbody tr th {\n",
       "        vertical-align: top;\n",
       "    }\n",
       "\n",
       "    .dataframe thead th {\n",
       "        text-align: right;\n",
       "    }\n",
       "</style>\n",
       "<table border=\"1\" class=\"dataframe\">\n",
       "  <thead>\n",
       "    <tr style=\"text-align: right;\">\n",
       "      <th></th>\n",
       "      <th>dur</th>\n",
       "      <th>spkts</th>\n",
       "      <th>dpkts</th>\n",
       "      <th>sbytes</th>\n",
       "      <th>dbytes</th>\n",
       "      <th>rate</th>\n",
       "      <th>sttl</th>\n",
       "      <th>dttl</th>\n",
       "      <th>sload</th>\n",
       "      <th>dload</th>\n",
       "      <th>...</th>\n",
       "      <th>ct_src_dport_ltm</th>\n",
       "      <th>ct_dst_sport_ltm</th>\n",
       "      <th>ct_dst_src_ltm</th>\n",
       "      <th>is_ftp_login</th>\n",
       "      <th>ct_ftp_cmd</th>\n",
       "      <th>ct_flw_http_mthd</th>\n",
       "      <th>ct_src_ltm</th>\n",
       "      <th>ct_srv_dst</th>\n",
       "      <th>is_sm_ips_ports</th>\n",
       "      <th>label</th>\n",
       "    </tr>\n",
       "  </thead>\n",
       "  <tbody>\n",
       "    <tr>\n",
       "      <th>count</th>\n",
       "      <td>82332.000000</td>\n",
       "      <td>82332.000000</td>\n",
       "      <td>82332.000000</td>\n",
       "      <td>8.233200e+04</td>\n",
       "      <td>8.233200e+04</td>\n",
       "      <td>8.233200e+04</td>\n",
       "      <td>82332.000000</td>\n",
       "      <td>82332.000000</td>\n",
       "      <td>8.233200e+04</td>\n",
       "      <td>8.233200e+04</td>\n",
       "      <td>...</td>\n",
       "      <td>82332.000000</td>\n",
       "      <td>82332.000000</td>\n",
       "      <td>82332.000000</td>\n",
       "      <td>82332.000000</td>\n",
       "      <td>82332.000000</td>\n",
       "      <td>82332.000000</td>\n",
       "      <td>82332.000000</td>\n",
       "      <td>82332.000000</td>\n",
       "      <td>82332.000000</td>\n",
       "      <td>82332.000000</td>\n",
       "    </tr>\n",
       "    <tr>\n",
       "      <th>mean</th>\n",
       "      <td>1.006756</td>\n",
       "      <td>18.666472</td>\n",
       "      <td>17.545936</td>\n",
       "      <td>7.993908e+03</td>\n",
       "      <td>1.323379e+04</td>\n",
       "      <td>8.241089e+04</td>\n",
       "      <td>180.967667</td>\n",
       "      <td>95.713003</td>\n",
       "      <td>6.454902e+07</td>\n",
       "      <td>6.305470e+05</td>\n",
       "      <td>...</td>\n",
       "      <td>4.928898</td>\n",
       "      <td>3.663011</td>\n",
       "      <td>7.456360</td>\n",
       "      <td>0.008284</td>\n",
       "      <td>0.008381</td>\n",
       "      <td>0.129743</td>\n",
       "      <td>6.468360</td>\n",
       "      <td>9.164262</td>\n",
       "      <td>0.011126</td>\n",
       "      <td>0.550600</td>\n",
       "    </tr>\n",
       "    <tr>\n",
       "      <th>std</th>\n",
       "      <td>4.710444</td>\n",
       "      <td>133.916353</td>\n",
       "      <td>115.574086</td>\n",
       "      <td>1.716423e+05</td>\n",
       "      <td>1.514715e+05</td>\n",
       "      <td>1.486204e+05</td>\n",
       "      <td>101.513358</td>\n",
       "      <td>116.667722</td>\n",
       "      <td>1.798618e+08</td>\n",
       "      <td>2.393001e+06</td>\n",
       "      <td>...</td>\n",
       "      <td>8.389545</td>\n",
       "      <td>5.915386</td>\n",
       "      <td>11.415191</td>\n",
       "      <td>0.091171</td>\n",
       "      <td>0.092485</td>\n",
       "      <td>0.638683</td>\n",
       "      <td>8.543927</td>\n",
       "      <td>11.121413</td>\n",
       "      <td>0.104891</td>\n",
       "      <td>0.497436</td>\n",
       "    </tr>\n",
       "    <tr>\n",
       "      <th>min</th>\n",
       "      <td>0.000000</td>\n",
       "      <td>1.000000</td>\n",
       "      <td>0.000000</td>\n",
       "      <td>2.400000e+01</td>\n",
       "      <td>0.000000e+00</td>\n",
       "      <td>0.000000e+00</td>\n",
       "      <td>0.000000</td>\n",
       "      <td>0.000000</td>\n",
       "      <td>0.000000e+00</td>\n",
       "      <td>0.000000e+00</td>\n",
       "      <td>...</td>\n",
       "      <td>1.000000</td>\n",
       "      <td>1.000000</td>\n",
       "      <td>1.000000</td>\n",
       "      <td>0.000000</td>\n",
       "      <td>0.000000</td>\n",
       "      <td>0.000000</td>\n",
       "      <td>1.000000</td>\n",
       "      <td>1.000000</td>\n",
       "      <td>0.000000</td>\n",
       "      <td>0.000000</td>\n",
       "    </tr>\n",
       "    <tr>\n",
       "      <th>25%</th>\n",
       "      <td>0.000008</td>\n",
       "      <td>2.000000</td>\n",
       "      <td>0.000000</td>\n",
       "      <td>1.140000e+02</td>\n",
       "      <td>0.000000e+00</td>\n",
       "      <td>2.860611e+01</td>\n",
       "      <td>62.000000</td>\n",
       "      <td>0.000000</td>\n",
       "      <td>1.120247e+04</td>\n",
       "      <td>0.000000e+00</td>\n",
       "      <td>...</td>\n",
       "      <td>1.000000</td>\n",
       "      <td>1.000000</td>\n",
       "      <td>1.000000</td>\n",
       "      <td>0.000000</td>\n",
       "      <td>0.000000</td>\n",
       "      <td>0.000000</td>\n",
       "      <td>1.000000</td>\n",
       "      <td>2.000000</td>\n",
       "      <td>0.000000</td>\n",
       "      <td>0.000000</td>\n",
       "    </tr>\n",
       "    <tr>\n",
       "      <th>50%</th>\n",
       "      <td>0.014138</td>\n",
       "      <td>6.000000</td>\n",
       "      <td>2.000000</td>\n",
       "      <td>5.340000e+02</td>\n",
       "      <td>1.780000e+02</td>\n",
       "      <td>2.650177e+03</td>\n",
       "      <td>254.000000</td>\n",
       "      <td>29.000000</td>\n",
       "      <td>5.770032e+05</td>\n",
       "      <td>2.112951e+03</td>\n",
       "      <td>...</td>\n",
       "      <td>1.000000</td>\n",
       "      <td>1.000000</td>\n",
       "      <td>3.000000</td>\n",
       "      <td>0.000000</td>\n",
       "      <td>0.000000</td>\n",
       "      <td>0.000000</td>\n",
       "      <td>3.000000</td>\n",
       "      <td>5.000000</td>\n",
       "      <td>0.000000</td>\n",
       "      <td>1.000000</td>\n",
       "    </tr>\n",
       "    <tr>\n",
       "      <th>75%</th>\n",
       "      <td>0.719360</td>\n",
       "      <td>12.000000</td>\n",
       "      <td>10.000000</td>\n",
       "      <td>1.280000e+03</td>\n",
       "      <td>9.560000e+02</td>\n",
       "      <td>1.111111e+05</td>\n",
       "      <td>254.000000</td>\n",
       "      <td>252.000000</td>\n",
       "      <td>6.514286e+07</td>\n",
       "      <td>1.585808e+04</td>\n",
       "      <td>...</td>\n",
       "      <td>4.000000</td>\n",
       "      <td>3.000000</td>\n",
       "      <td>6.000000</td>\n",
       "      <td>0.000000</td>\n",
       "      <td>0.000000</td>\n",
       "      <td>0.000000</td>\n",
       "      <td>7.000000</td>\n",
       "      <td>11.000000</td>\n",
       "      <td>0.000000</td>\n",
       "      <td>1.000000</td>\n",
       "    </tr>\n",
       "    <tr>\n",
       "      <th>max</th>\n",
       "      <td>59.999989</td>\n",
       "      <td>10646.000000</td>\n",
       "      <td>11018.000000</td>\n",
       "      <td>1.435577e+07</td>\n",
       "      <td>1.465753e+07</td>\n",
       "      <td>1.000000e+06</td>\n",
       "      <td>255.000000</td>\n",
       "      <td>253.000000</td>\n",
       "      <td>5.268000e+09</td>\n",
       "      <td>2.082111e+07</td>\n",
       "      <td>...</td>\n",
       "      <td>59.000000</td>\n",
       "      <td>38.000000</td>\n",
       "      <td>63.000000</td>\n",
       "      <td>2.000000</td>\n",
       "      <td>2.000000</td>\n",
       "      <td>16.000000</td>\n",
       "      <td>60.000000</td>\n",
       "      <td>62.000000</td>\n",
       "      <td>1.000000</td>\n",
       "      <td>1.000000</td>\n",
       "    </tr>\n",
       "  </tbody>\n",
       "</table>\n",
       "<p>8 rows × 40 columns</p>\n",
       "</div>"
      ],
      "text/plain": [
       "                dur         spkts         dpkts        sbytes        dbytes  \\\n",
       "count  82332.000000  82332.000000  82332.000000  8.233200e+04  8.233200e+04   \n",
       "mean       1.006756     18.666472     17.545936  7.993908e+03  1.323379e+04   \n",
       "std        4.710444    133.916353    115.574086  1.716423e+05  1.514715e+05   \n",
       "min        0.000000      1.000000      0.000000  2.400000e+01  0.000000e+00   \n",
       "25%        0.000008      2.000000      0.000000  1.140000e+02  0.000000e+00   \n",
       "50%        0.014138      6.000000      2.000000  5.340000e+02  1.780000e+02   \n",
       "75%        0.719360     12.000000     10.000000  1.280000e+03  9.560000e+02   \n",
       "max       59.999989  10646.000000  11018.000000  1.435577e+07  1.465753e+07   \n",
       "\n",
       "               rate          sttl          dttl         sload         dload  \\\n",
       "count  8.233200e+04  82332.000000  82332.000000  8.233200e+04  8.233200e+04   \n",
       "mean   8.241089e+04    180.967667     95.713003  6.454902e+07  6.305470e+05   \n",
       "std    1.486204e+05    101.513358    116.667722  1.798618e+08  2.393001e+06   \n",
       "min    0.000000e+00      0.000000      0.000000  0.000000e+00  0.000000e+00   \n",
       "25%    2.860611e+01     62.000000      0.000000  1.120247e+04  0.000000e+00   \n",
       "50%    2.650177e+03    254.000000     29.000000  5.770032e+05  2.112951e+03   \n",
       "75%    1.111111e+05    254.000000    252.000000  6.514286e+07  1.585808e+04   \n",
       "max    1.000000e+06    255.000000    253.000000  5.268000e+09  2.082111e+07   \n",
       "\n",
       "       ...  ct_src_dport_ltm  ct_dst_sport_ltm  ct_dst_src_ltm  is_ftp_login  \\\n",
       "count  ...      82332.000000      82332.000000    82332.000000  82332.000000   \n",
       "mean   ...          4.928898          3.663011        7.456360      0.008284   \n",
       "std    ...          8.389545          5.915386       11.415191      0.091171   \n",
       "min    ...          1.000000          1.000000        1.000000      0.000000   \n",
       "25%    ...          1.000000          1.000000        1.000000      0.000000   \n",
       "50%    ...          1.000000          1.000000        3.000000      0.000000   \n",
       "75%    ...          4.000000          3.000000        6.000000      0.000000   \n",
       "max    ...         59.000000         38.000000       63.000000      2.000000   \n",
       "\n",
       "         ct_ftp_cmd  ct_flw_http_mthd    ct_src_ltm    ct_srv_dst  \\\n",
       "count  82332.000000      82332.000000  82332.000000  82332.000000   \n",
       "mean       0.008381          0.129743      6.468360      9.164262   \n",
       "std        0.092485          0.638683      8.543927     11.121413   \n",
       "min        0.000000          0.000000      1.000000      1.000000   \n",
       "25%        0.000000          0.000000      1.000000      2.000000   \n",
       "50%        0.000000          0.000000      3.000000      5.000000   \n",
       "75%        0.000000          0.000000      7.000000     11.000000   \n",
       "max        2.000000         16.000000     60.000000     62.000000   \n",
       "\n",
       "       is_sm_ips_ports         label  \n",
       "count     82332.000000  82332.000000  \n",
       "mean          0.011126      0.550600  \n",
       "std           0.104891      0.497436  \n",
       "min           0.000000      0.000000  \n",
       "25%           0.000000      0.000000  \n",
       "50%           0.000000      1.000000  \n",
       "75%           0.000000      1.000000  \n",
       "max           1.000000      1.000000  \n",
       "\n",
       "[8 rows x 40 columns]"
      ]
     },
     "execution_count": 18,
     "metadata": {},
     "output_type": "execute_result"
    }
   ],
   "source": [
    "# Clamp extreme Values\n",
    "df_numeric = train_df.select_dtypes(include=[np.number])\n",
    "df_numeric.describe(include='all')"
   ]
  },
  {
   "cell_type": "code",
   "execution_count": 19,
   "metadata": {},
   "outputs": [],
   "source": [
    "DEBUG =0\n",
    "\n",
    "for feature in df_numeric.columns:\n",
    "    if DEBUG == 1:\n",
    "        print(feature)\n",
    "        print('max = '+str(df_numeric[feature].max()))\n",
    "        print('75th = '+str(df_numeric[feature].quantile(0.95)))\n",
    "        print('median = '+str(df_numeric[feature].median()))\n",
    "        print(df_numeric[feature].max()>10*df_numeric[feature].median())\n",
    "        print('----------------------------------------------------')\n",
    "    if df_numeric[feature].max()>10*df_numeric[feature].median() and df_numeric[feature].max()>10 :\n",
    "        train_df[feature] = np.where(train_df[feature]<train_df[feature].quantile(0.95), train_df[feature], train_df[feature].quantile(0.95))"
   ]
  },
  {
   "cell_type": "code",
   "execution_count": 20,
   "metadata": {},
   "outputs": [
    {
     "data": {
      "text/html": [
       "<div>\n",
       "<style scoped>\n",
       "    .dataframe tbody tr th:only-of-type {\n",
       "        vertical-align: middle;\n",
       "    }\n",
       "\n",
       "    .dataframe tbody tr th {\n",
       "        vertical-align: top;\n",
       "    }\n",
       "\n",
       "    .dataframe thead th {\n",
       "        text-align: right;\n",
       "    }\n",
       "</style>\n",
       "<table border=\"1\" class=\"dataframe\">\n",
       "  <thead>\n",
       "    <tr style=\"text-align: right;\">\n",
       "      <th></th>\n",
       "      <th>dur</th>\n",
       "      <th>spkts</th>\n",
       "      <th>dpkts</th>\n",
       "      <th>sbytes</th>\n",
       "      <th>dbytes</th>\n",
       "      <th>rate</th>\n",
       "      <th>sttl</th>\n",
       "      <th>dttl</th>\n",
       "      <th>sload</th>\n",
       "      <th>dload</th>\n",
       "      <th>...</th>\n",
       "      <th>ct_src_dport_ltm</th>\n",
       "      <th>ct_dst_sport_ltm</th>\n",
       "      <th>ct_dst_src_ltm</th>\n",
       "      <th>is_ftp_login</th>\n",
       "      <th>ct_ftp_cmd</th>\n",
       "      <th>ct_flw_http_mthd</th>\n",
       "      <th>ct_src_ltm</th>\n",
       "      <th>ct_srv_dst</th>\n",
       "      <th>is_sm_ips_ports</th>\n",
       "      <th>label</th>\n",
       "    </tr>\n",
       "  </thead>\n",
       "  <tbody>\n",
       "    <tr>\n",
       "      <th>count</th>\n",
       "      <td>82332.000000</td>\n",
       "      <td>82332.00000</td>\n",
       "      <td>82332.000000</td>\n",
       "      <td>82332.000000</td>\n",
       "      <td>82332.000000</td>\n",
       "      <td>82332.000000</td>\n",
       "      <td>82332.000000</td>\n",
       "      <td>82332.000000</td>\n",
       "      <td>8.233200e+04</td>\n",
       "      <td>8.233200e+04</td>\n",
       "      <td>...</td>\n",
       "      <td>82332.000000</td>\n",
       "      <td>82332.000000</td>\n",
       "      <td>82332.000000</td>\n",
       "      <td>82332.000000</td>\n",
       "      <td>82332.000000</td>\n",
       "      <td>82332.000000</td>\n",
       "      <td>82332.000000</td>\n",
       "      <td>82332.000000</td>\n",
       "      <td>82332.000000</td>\n",
       "      <td>82332.000000</td>\n",
       "    </tr>\n",
       "    <tr>\n",
       "      <th>mean</th>\n",
       "      <td>0.445016</td>\n",
       "      <td>11.84186</td>\n",
       "      <td>9.178424</td>\n",
       "      <td>1580.566135</td>\n",
       "      <td>2866.918367</td>\n",
       "      <td>71576.702810</td>\n",
       "      <td>180.967667</td>\n",
       "      <td>95.713003</td>\n",
       "      <td>4.649418e+07</td>\n",
       "      <td>3.105380e+05</td>\n",
       "      <td>...</td>\n",
       "      <td>4.466611</td>\n",
       "      <td>3.388901</td>\n",
       "      <td>7.160679</td>\n",
       "      <td>0.008284</td>\n",
       "      <td>0.008381</td>\n",
       "      <td>0.092066</td>\n",
       "      <td>5.974809</td>\n",
       "      <td>8.832532</td>\n",
       "      <td>0.011126</td>\n",
       "      <td>0.550600</td>\n",
       "    </tr>\n",
       "    <tr>\n",
       "      <th>std</th>\n",
       "      <td>0.672222</td>\n",
       "      <td>15.66461</td>\n",
       "      <td>14.504212</td>\n",
       "      <td>2948.850472</td>\n",
       "      <td>7525.606738</td>\n",
       "      <td>102631.946851</td>\n",
       "      <td>101.513358</td>\n",
       "      <td>116.667722</td>\n",
       "      <td>7.417784e+07</td>\n",
       "      <td>8.918691e+05</td>\n",
       "      <td>...</td>\n",
       "      <td>6.685037</td>\n",
       "      <td>5.029129</td>\n",
       "      <td>10.481621</td>\n",
       "      <td>0.091171</td>\n",
       "      <td>0.092485</td>\n",
       "      <td>0.289121</td>\n",
       "      <td>6.867156</td>\n",
       "      <td>10.124902</td>\n",
       "      <td>0.104891</td>\n",
       "      <td>0.497436</td>\n",
       "    </tr>\n",
       "    <tr>\n",
       "      <th>min</th>\n",
       "      <td>0.000000</td>\n",
       "      <td>1.00000</td>\n",
       "      <td>0.000000</td>\n",
       "      <td>24.000000</td>\n",
       "      <td>0.000000</td>\n",
       "      <td>0.000000</td>\n",
       "      <td>0.000000</td>\n",
       "      <td>0.000000</td>\n",
       "      <td>0.000000e+00</td>\n",
       "      <td>0.000000e+00</td>\n",
       "      <td>...</td>\n",
       "      <td>1.000000</td>\n",
       "      <td>1.000000</td>\n",
       "      <td>1.000000</td>\n",
       "      <td>0.000000</td>\n",
       "      <td>0.000000</td>\n",
       "      <td>0.000000</td>\n",
       "      <td>1.000000</td>\n",
       "      <td>1.000000</td>\n",
       "      <td>0.000000</td>\n",
       "      <td>0.000000</td>\n",
       "    </tr>\n",
       "    <tr>\n",
       "      <th>25%</th>\n",
       "      <td>0.000008</td>\n",
       "      <td>2.00000</td>\n",
       "      <td>0.000000</td>\n",
       "      <td>114.000000</td>\n",
       "      <td>0.000000</td>\n",
       "      <td>28.606114</td>\n",
       "      <td>62.000000</td>\n",
       "      <td>0.000000</td>\n",
       "      <td>1.120247e+04</td>\n",
       "      <td>0.000000e+00</td>\n",
       "      <td>...</td>\n",
       "      <td>1.000000</td>\n",
       "      <td>1.000000</td>\n",
       "      <td>1.000000</td>\n",
       "      <td>0.000000</td>\n",
       "      <td>0.000000</td>\n",
       "      <td>0.000000</td>\n",
       "      <td>1.000000</td>\n",
       "      <td>2.000000</td>\n",
       "      <td>0.000000</td>\n",
       "      <td>0.000000</td>\n",
       "    </tr>\n",
       "    <tr>\n",
       "      <th>50%</th>\n",
       "      <td>0.014138</td>\n",
       "      <td>6.00000</td>\n",
       "      <td>2.000000</td>\n",
       "      <td>534.000000</td>\n",
       "      <td>178.000000</td>\n",
       "      <td>2650.176667</td>\n",
       "      <td>254.000000</td>\n",
       "      <td>29.000000</td>\n",
       "      <td>5.770032e+05</td>\n",
       "      <td>2.112951e+03</td>\n",
       "      <td>...</td>\n",
       "      <td>1.000000</td>\n",
       "      <td>1.000000</td>\n",
       "      <td>3.000000</td>\n",
       "      <td>0.000000</td>\n",
       "      <td>0.000000</td>\n",
       "      <td>0.000000</td>\n",
       "      <td>3.000000</td>\n",
       "      <td>5.000000</td>\n",
       "      <td>0.000000</td>\n",
       "      <td>1.000000</td>\n",
       "    </tr>\n",
       "    <tr>\n",
       "      <th>75%</th>\n",
       "      <td>0.719360</td>\n",
       "      <td>12.00000</td>\n",
       "      <td>10.000000</td>\n",
       "      <td>1280.000000</td>\n",
       "      <td>956.000000</td>\n",
       "      <td>111111.107200</td>\n",
       "      <td>254.000000</td>\n",
       "      <td>252.000000</td>\n",
       "      <td>6.514286e+07</td>\n",
       "      <td>1.585808e+04</td>\n",
       "      <td>...</td>\n",
       "      <td>4.000000</td>\n",
       "      <td>3.000000</td>\n",
       "      <td>6.000000</td>\n",
       "      <td>0.000000</td>\n",
       "      <td>0.000000</td>\n",
       "      <td>0.000000</td>\n",
       "      <td>7.000000</td>\n",
       "      <td>11.000000</td>\n",
       "      <td>0.000000</td>\n",
       "      <td>1.000000</td>\n",
       "    </tr>\n",
       "    <tr>\n",
       "      <th>max</th>\n",
       "      <td>2.403792</td>\n",
       "      <td>60.00000</td>\n",
       "      <td>54.000000</td>\n",
       "      <td>12472.000000</td>\n",
       "      <td>30622.000000</td>\n",
       "      <td>333333.321500</td>\n",
       "      <td>255.000000</td>\n",
       "      <td>253.000000</td>\n",
       "      <td>2.666667e+08</td>\n",
       "      <td>3.741446e+06</td>\n",
       "      <td>...</td>\n",
       "      <td>25.000000</td>\n",
       "      <td>18.000000</td>\n",
       "      <td>37.000000</td>\n",
       "      <td>2.000000</td>\n",
       "      <td>2.000000</td>\n",
       "      <td>1.000000</td>\n",
       "      <td>25.000000</td>\n",
       "      <td>36.000000</td>\n",
       "      <td>1.000000</td>\n",
       "      <td>1.000000</td>\n",
       "    </tr>\n",
       "  </tbody>\n",
       "</table>\n",
       "<p>8 rows × 40 columns</p>\n",
       "</div>"
      ],
      "text/plain": [
       "                dur        spkts         dpkts        sbytes        dbytes  \\\n",
       "count  82332.000000  82332.00000  82332.000000  82332.000000  82332.000000   \n",
       "mean       0.445016     11.84186      9.178424   1580.566135   2866.918367   \n",
       "std        0.672222     15.66461     14.504212   2948.850472   7525.606738   \n",
       "min        0.000000      1.00000      0.000000     24.000000      0.000000   \n",
       "25%        0.000008      2.00000      0.000000    114.000000      0.000000   \n",
       "50%        0.014138      6.00000      2.000000    534.000000    178.000000   \n",
       "75%        0.719360     12.00000     10.000000   1280.000000    956.000000   \n",
       "max        2.403792     60.00000     54.000000  12472.000000  30622.000000   \n",
       "\n",
       "                rate          sttl          dttl         sload         dload  \\\n",
       "count   82332.000000  82332.000000  82332.000000  8.233200e+04  8.233200e+04   \n",
       "mean    71576.702810    180.967667     95.713003  4.649418e+07  3.105380e+05   \n",
       "std    102631.946851    101.513358    116.667722  7.417784e+07  8.918691e+05   \n",
       "min         0.000000      0.000000      0.000000  0.000000e+00  0.000000e+00   \n",
       "25%        28.606114     62.000000      0.000000  1.120247e+04  0.000000e+00   \n",
       "50%      2650.176667    254.000000     29.000000  5.770032e+05  2.112951e+03   \n",
       "75%    111111.107200    254.000000    252.000000  6.514286e+07  1.585808e+04   \n",
       "max    333333.321500    255.000000    253.000000  2.666667e+08  3.741446e+06   \n",
       "\n",
       "       ...  ct_src_dport_ltm  ct_dst_sport_ltm  ct_dst_src_ltm  is_ftp_login  \\\n",
       "count  ...      82332.000000      82332.000000    82332.000000  82332.000000   \n",
       "mean   ...          4.466611          3.388901        7.160679      0.008284   \n",
       "std    ...          6.685037          5.029129       10.481621      0.091171   \n",
       "min    ...          1.000000          1.000000        1.000000      0.000000   \n",
       "25%    ...          1.000000          1.000000        1.000000      0.000000   \n",
       "50%    ...          1.000000          1.000000        3.000000      0.000000   \n",
       "75%    ...          4.000000          3.000000        6.000000      0.000000   \n",
       "max    ...         25.000000         18.000000       37.000000      2.000000   \n",
       "\n",
       "         ct_ftp_cmd  ct_flw_http_mthd    ct_src_ltm    ct_srv_dst  \\\n",
       "count  82332.000000      82332.000000  82332.000000  82332.000000   \n",
       "mean       0.008381          0.092066      5.974809      8.832532   \n",
       "std        0.092485          0.289121      6.867156     10.124902   \n",
       "min        0.000000          0.000000      1.000000      1.000000   \n",
       "25%        0.000000          0.000000      1.000000      2.000000   \n",
       "50%        0.000000          0.000000      3.000000      5.000000   \n",
       "75%        0.000000          0.000000      7.000000     11.000000   \n",
       "max        2.000000          1.000000     25.000000     36.000000   \n",
       "\n",
       "       is_sm_ips_ports         label  \n",
       "count     82332.000000  82332.000000  \n",
       "mean          0.011126      0.550600  \n",
       "std           0.104891      0.497436  \n",
       "min           0.000000      0.000000  \n",
       "25%           0.000000      0.000000  \n",
       "50%           0.000000      1.000000  \n",
       "75%           0.000000      1.000000  \n",
       "max           1.000000      1.000000  \n",
       "\n",
       "[8 rows x 40 columns]"
      ]
     },
     "execution_count": 20,
     "metadata": {},
     "output_type": "execute_result"
    }
   ],
   "source": [
    "df_numeric = train_df.select_dtypes(include=[np.number])\n",
    "df_numeric.describe(include='all')"
   ]
  },
  {
   "cell_type": "markdown",
   "metadata": {},
   "source": [
    "Apply log function to nearly all numeric, since they are all mostly skewed to the right"
   ]
  },
  {
   "cell_type": "code",
   "execution_count": 21,
   "metadata": {},
   "outputs": [],
   "source": [
    "df_numeric = train_df.select_dtypes(include=[np.number])\n",
    "df_before = df_numeric.copy()\n",
    "DEBUG = 0\n",
    "for feature in df_numeric.columns:\n",
    "    if DEBUG == 1:\n",
    "        print(feature)\n",
    "        print('nunique = '+str(df_numeric[feature].nunique()))\n",
    "        print(df_numeric[feature].nunique()>50)\n",
    "        print('----------------------------------------------------')\n",
    "    if df_numeric[feature].nunique()>50:\n",
    "        if df_numeric[feature].min()==0:\n",
    "            train_df[feature] = np.log(train_df[feature]+1)\n",
    "        else:\n",
    "            train_df[feature] = np.log(train_df[feature])\n",
    "\n",
    "df_numeric = train_df.select_dtypes(include=[np.number])"
   ]
  },
  {
   "cell_type": "markdown",
   "metadata": {},
   "source": [
    "Reduce the labels in catagorical features"
   ]
  },
  {
   "cell_type": "code",
   "execution_count": 22,
   "metadata": {},
   "outputs": [
    {
     "data": {
      "text/html": [
       "<div>\n",
       "<style scoped>\n",
       "    .dataframe tbody tr th:only-of-type {\n",
       "        vertical-align: middle;\n",
       "    }\n",
       "\n",
       "    .dataframe tbody tr th {\n",
       "        vertical-align: top;\n",
       "    }\n",
       "\n",
       "    .dataframe thead th {\n",
       "        text-align: right;\n",
       "    }\n",
       "</style>\n",
       "<table border=\"1\" class=\"dataframe\">\n",
       "  <thead>\n",
       "    <tr style=\"text-align: right;\">\n",
       "      <th></th>\n",
       "      <th>proto</th>\n",
       "      <th>service</th>\n",
       "      <th>state</th>\n",
       "    </tr>\n",
       "  </thead>\n",
       "  <tbody>\n",
       "    <tr>\n",
       "      <th>count</th>\n",
       "      <td>82332</td>\n",
       "      <td>82332</td>\n",
       "      <td>82332</td>\n",
       "    </tr>\n",
       "    <tr>\n",
       "      <th>unique</th>\n",
       "      <td>131</td>\n",
       "      <td>13</td>\n",
       "      <td>7</td>\n",
       "    </tr>\n",
       "    <tr>\n",
       "      <th>top</th>\n",
       "      <td>tcp</td>\n",
       "      <td>-</td>\n",
       "      <td>FIN</td>\n",
       "    </tr>\n",
       "    <tr>\n",
       "      <th>freq</th>\n",
       "      <td>43095</td>\n",
       "      <td>47153</td>\n",
       "      <td>39339</td>\n",
       "    </tr>\n",
       "  </tbody>\n",
       "</table>\n",
       "</div>"
      ],
      "text/plain": [
       "        proto service  state\n",
       "count   82332   82332  82332\n",
       "unique    131      13      7\n",
       "top       tcp       -    FIN\n",
       "freq    43095   47153  39339"
      ]
     },
     "execution_count": 22,
     "metadata": {},
     "output_type": "execute_result"
    }
   ],
   "source": [
    "df_cat = train_df.select_dtypes(exclude=[np.number])\n",
    "df_cat.describe(include='all')"
   ]
  },
  {
   "cell_type": "code",
   "execution_count": 23,
   "metadata": {},
   "outputs": [],
   "source": [
    "DEBUG = 0\n",
    "for feature in df_cat.columns:\n",
    "    if DEBUG == 1:\n",
    "        print(feature)\n",
    "        print('nunique = '+str(df_cat[feature].nunique()))\n",
    "        print(df_cat[feature].nunique()>6)\n",
    "        print(sum(train_df[feature].isin(train_df[feature].value_counts().head().index)))\n",
    "        print('----------------------------------------------------')\n",
    "    \n",
    "    if df_cat[feature].nunique()>6:\n",
    "        train_df[feature] = np.where(train_df[feature].isin(train_df[feature].value_counts().head().index), train_df[feature], '-')"
   ]
  },
  {
   "cell_type": "code",
   "execution_count": 24,
   "metadata": {},
   "outputs": [
    {
     "data": {
      "text/html": [
       "<div>\n",
       "<style scoped>\n",
       "    .dataframe tbody tr th:only-of-type {\n",
       "        vertical-align: middle;\n",
       "    }\n",
       "\n",
       "    .dataframe tbody tr th {\n",
       "        vertical-align: top;\n",
       "    }\n",
       "\n",
       "    .dataframe thead th {\n",
       "        text-align: right;\n",
       "    }\n",
       "</style>\n",
       "<table border=\"1\" class=\"dataframe\">\n",
       "  <thead>\n",
       "    <tr style=\"text-align: right;\">\n",
       "      <th></th>\n",
       "      <th>proto</th>\n",
       "      <th>service</th>\n",
       "      <th>state</th>\n",
       "    </tr>\n",
       "  </thead>\n",
       "  <tbody>\n",
       "    <tr>\n",
       "      <th>count</th>\n",
       "      <td>82332</td>\n",
       "      <td>82332</td>\n",
       "      <td>82332</td>\n",
       "    </tr>\n",
       "    <tr>\n",
       "      <th>unique</th>\n",
       "      <td>6</td>\n",
       "      <td>5</td>\n",
       "      <td>6</td>\n",
       "    </tr>\n",
       "    <tr>\n",
       "      <th>top</th>\n",
       "      <td>tcp</td>\n",
       "      <td>-</td>\n",
       "      <td>FIN</td>\n",
       "    </tr>\n",
       "    <tr>\n",
       "      <th>freq</th>\n",
       "      <td>43095</td>\n",
       "      <td>49275</td>\n",
       "      <td>39339</td>\n",
       "    </tr>\n",
       "  </tbody>\n",
       "</table>\n",
       "</div>"
      ],
      "text/plain": [
       "        proto service  state\n",
       "count   82332   82332  82332\n",
       "unique      6       5      6\n",
       "top       tcp       -    FIN\n",
       "freq    43095   49275  39339"
      ]
     },
     "execution_count": 24,
     "metadata": {},
     "output_type": "execute_result"
    }
   ],
   "source": [
    "df_cat = train_df.select_dtypes(exclude=[np.number])\n",
    "df_cat.describe(include='all')"
   ]
  },
  {
   "cell_type": "code",
   "execution_count": 25,
   "metadata": {},
   "outputs": [
    {
     "data": {
      "text/plain": [
       "Index(['tcp', 'udp', '-', 'unas', 'arp'], dtype='object', name='proto')"
      ]
     },
     "execution_count": 25,
     "metadata": {},
     "output_type": "execute_result"
    }
   ],
   "source": [
    "train_df['proto'].value_counts().head().index"
   ]
  },
  {
   "cell_type": "code",
   "execution_count": 26,
   "metadata": {},
   "outputs": [
    {
     "data": {
      "text/plain": [
       "Index(['tcp', 'udp', '-', 'unas', 'arp', 'ospf'], dtype='object', name='proto')"
      ]
     },
     "execution_count": 26,
     "metadata": {},
     "output_type": "execute_result"
    }
   ],
   "source": [
    "train_df['proto'].value_counts().index"
   ]
  },
  {
   "cell_type": "markdown",
   "metadata": {},
   "source": [
    "View before and after of features"
   ]
  },
  {
   "cell_type": "code",
   "execution_count": 27,
   "metadata": {},
   "outputs": [
    {
     "data": {
      "application/vnd.plotly.v1+json": {
       "config": {
        "plotlyServerURL": "https://plot.ly"
       },
       "data": [
        {
         "orientation": "h",
         "type": "bar",
         "x": [
          21.69647944558269,
          24.680756534658585,
          96.80493186216107,
          110.0448183944138,
          228.43588445567497,
          229.12401557202247,
          255.0030368212306,
          315.72508517726925,
          3278.4897809859676,
          5078.488347161956,
          5255.736251650316,
          6947.356050517556,
          7812.780545954319,
          9971.425496539752,
          11576.590172781118,
          17474.112904795125,
          20644.510905609306,
          24789.45161086672,
          24796.05202494729,
          34031.61380169249,
          42790.384152547136
         ],
         "y": [
          "is_ftp_login",
          "ct_ftp_cmd",
          "smean",
          "ackdat",
          "trans_depth",
          "ct_flw_http_mthd",
          "synack",
          "tcprtt",
          "sbytes",
          "dinpkt",
          "response_body_len",
          "ct_state_ttl",
          "spkts",
          "sinpkt",
          "djit",
          "sload",
          "dpkts",
          "rate",
          "sjit",
          "sloss",
          "dmean"
         ]
        }
       ],
       "layout": {
        "height": 1200,
        "showlegend": false,
        "template": {
         "data": {
          "bar": [
           {
            "error_x": {
             "color": "#2a3f5f"
            },
            "error_y": {
             "color": "#2a3f5f"
            },
            "marker": {
             "line": {
              "color": "#E5ECF6",
              "width": 0.5
             },
             "pattern": {
              "fillmode": "overlay",
              "size": 10,
              "solidity": 0.2
             }
            },
            "type": "bar"
           }
          ],
          "barpolar": [
           {
            "marker": {
             "line": {
              "color": "#E5ECF6",
              "width": 0.5
             },
             "pattern": {
              "fillmode": "overlay",
              "size": 10,
              "solidity": 0.2
             }
            },
            "type": "barpolar"
           }
          ],
          "carpet": [
           {
            "aaxis": {
             "endlinecolor": "#2a3f5f",
             "gridcolor": "white",
             "linecolor": "white",
             "minorgridcolor": "white",
             "startlinecolor": "#2a3f5f"
            },
            "baxis": {
             "endlinecolor": "#2a3f5f",
             "gridcolor": "white",
             "linecolor": "white",
             "minorgridcolor": "white",
             "startlinecolor": "#2a3f5f"
            },
            "type": "carpet"
           }
          ],
          "choropleth": [
           {
            "colorbar": {
             "outlinewidth": 0,
             "ticks": ""
            },
            "type": "choropleth"
           }
          ],
          "contour": [
           {
            "colorbar": {
             "outlinewidth": 0,
             "ticks": ""
            },
            "colorscale": [
             [
              0,
              "#0d0887"
             ],
             [
              0.1111111111111111,
              "#46039f"
             ],
             [
              0.2222222222222222,
              "#7201a8"
             ],
             [
              0.3333333333333333,
              "#9c179e"
             ],
             [
              0.4444444444444444,
              "#bd3786"
             ],
             [
              0.5555555555555556,
              "#d8576b"
             ],
             [
              0.6666666666666666,
              "#ed7953"
             ],
             [
              0.7777777777777778,
              "#fb9f3a"
             ],
             [
              0.8888888888888888,
              "#fdca26"
             ],
             [
              1,
              "#f0f921"
             ]
            ],
            "type": "contour"
           }
          ],
          "contourcarpet": [
           {
            "colorbar": {
             "outlinewidth": 0,
             "ticks": ""
            },
            "type": "contourcarpet"
           }
          ],
          "heatmap": [
           {
            "colorbar": {
             "outlinewidth": 0,
             "ticks": ""
            },
            "colorscale": [
             [
              0,
              "#0d0887"
             ],
             [
              0.1111111111111111,
              "#46039f"
             ],
             [
              0.2222222222222222,
              "#7201a8"
             ],
             [
              0.3333333333333333,
              "#9c179e"
             ],
             [
              0.4444444444444444,
              "#bd3786"
             ],
             [
              0.5555555555555556,
              "#d8576b"
             ],
             [
              0.6666666666666666,
              "#ed7953"
             ],
             [
              0.7777777777777778,
              "#fb9f3a"
             ],
             [
              0.8888888888888888,
              "#fdca26"
             ],
             [
              1,
              "#f0f921"
             ]
            ],
            "type": "heatmap"
           }
          ],
          "heatmapgl": [
           {
            "colorbar": {
             "outlinewidth": 0,
             "ticks": ""
            },
            "colorscale": [
             [
              0,
              "#0d0887"
             ],
             [
              0.1111111111111111,
              "#46039f"
             ],
             [
              0.2222222222222222,
              "#7201a8"
             ],
             [
              0.3333333333333333,
              "#9c179e"
             ],
             [
              0.4444444444444444,
              "#bd3786"
             ],
             [
              0.5555555555555556,
              "#d8576b"
             ],
             [
              0.6666666666666666,
              "#ed7953"
             ],
             [
              0.7777777777777778,
              "#fb9f3a"
             ],
             [
              0.8888888888888888,
              "#fdca26"
             ],
             [
              1,
              "#f0f921"
             ]
            ],
            "type": "heatmapgl"
           }
          ],
          "histogram": [
           {
            "marker": {
             "pattern": {
              "fillmode": "overlay",
              "size": 10,
              "solidity": 0.2
             }
            },
            "type": "histogram"
           }
          ],
          "histogram2d": [
           {
            "colorbar": {
             "outlinewidth": 0,
             "ticks": ""
            },
            "colorscale": [
             [
              0,
              "#0d0887"
             ],
             [
              0.1111111111111111,
              "#46039f"
             ],
             [
              0.2222222222222222,
              "#7201a8"
             ],
             [
              0.3333333333333333,
              "#9c179e"
             ],
             [
              0.4444444444444444,
              "#bd3786"
             ],
             [
              0.5555555555555556,
              "#d8576b"
             ],
             [
              0.6666666666666666,
              "#ed7953"
             ],
             [
              0.7777777777777778,
              "#fb9f3a"
             ],
             [
              0.8888888888888888,
              "#fdca26"
             ],
             [
              1,
              "#f0f921"
             ]
            ],
            "type": "histogram2d"
           }
          ],
          "histogram2dcontour": [
           {
            "colorbar": {
             "outlinewidth": 0,
             "ticks": ""
            },
            "colorscale": [
             [
              0,
              "#0d0887"
             ],
             [
              0.1111111111111111,
              "#46039f"
             ],
             [
              0.2222222222222222,
              "#7201a8"
             ],
             [
              0.3333333333333333,
              "#9c179e"
             ],
             [
              0.4444444444444444,
              "#bd3786"
             ],
             [
              0.5555555555555556,
              "#d8576b"
             ],
             [
              0.6666666666666666,
              "#ed7953"
             ],
             [
              0.7777777777777778,
              "#fb9f3a"
             ],
             [
              0.8888888888888888,
              "#fdca26"
             ],
             [
              1,
              "#f0f921"
             ]
            ],
            "type": "histogram2dcontour"
           }
          ],
          "mesh3d": [
           {
            "colorbar": {
             "outlinewidth": 0,
             "ticks": ""
            },
            "type": "mesh3d"
           }
          ],
          "parcoords": [
           {
            "line": {
             "colorbar": {
              "outlinewidth": 0,
              "ticks": ""
             }
            },
            "type": "parcoords"
           }
          ],
          "pie": [
           {
            "automargin": true,
            "type": "pie"
           }
          ],
          "scatter": [
           {
            "fillpattern": {
             "fillmode": "overlay",
             "size": 10,
             "solidity": 0.2
            },
            "type": "scatter"
           }
          ],
          "scatter3d": [
           {
            "line": {
             "colorbar": {
              "outlinewidth": 0,
              "ticks": ""
             }
            },
            "marker": {
             "colorbar": {
              "outlinewidth": 0,
              "ticks": ""
             }
            },
            "type": "scatter3d"
           }
          ],
          "scattercarpet": [
           {
            "marker": {
             "colorbar": {
              "outlinewidth": 0,
              "ticks": ""
             }
            },
            "type": "scattercarpet"
           }
          ],
          "scattergeo": [
           {
            "marker": {
             "colorbar": {
              "outlinewidth": 0,
              "ticks": ""
             }
            },
            "type": "scattergeo"
           }
          ],
          "scattergl": [
           {
            "marker": {
             "colorbar": {
              "outlinewidth": 0,
              "ticks": ""
             }
            },
            "type": "scattergl"
           }
          ],
          "scattermapbox": [
           {
            "marker": {
             "colorbar": {
              "outlinewidth": 0,
              "ticks": ""
             }
            },
            "type": "scattermapbox"
           }
          ],
          "scatterpolar": [
           {
            "marker": {
             "colorbar": {
              "outlinewidth": 0,
              "ticks": ""
             }
            },
            "type": "scatterpolar"
           }
          ],
          "scatterpolargl": [
           {
            "marker": {
             "colorbar": {
              "outlinewidth": 0,
              "ticks": ""
             }
            },
            "type": "scatterpolargl"
           }
          ],
          "scatterternary": [
           {
            "marker": {
             "colorbar": {
              "outlinewidth": 0,
              "ticks": ""
             }
            },
            "type": "scatterternary"
           }
          ],
          "surface": [
           {
            "colorbar": {
             "outlinewidth": 0,
             "ticks": ""
            },
            "colorscale": [
             [
              0,
              "#0d0887"
             ],
             [
              0.1111111111111111,
              "#46039f"
             ],
             [
              0.2222222222222222,
              "#7201a8"
             ],
             [
              0.3333333333333333,
              "#9c179e"
             ],
             [
              0.4444444444444444,
              "#bd3786"
             ],
             [
              0.5555555555555556,
              "#d8576b"
             ],
             [
              0.6666666666666666,
              "#ed7953"
             ],
             [
              0.7777777777777778,
              "#fb9f3a"
             ],
             [
              0.8888888888888888,
              "#fdca26"
             ],
             [
              1,
              "#f0f921"
             ]
            ],
            "type": "surface"
           }
          ],
          "table": [
           {
            "cells": {
             "fill": {
              "color": "#EBF0F8"
             },
             "line": {
              "color": "white"
             }
            },
            "header": {
             "fill": {
              "color": "#C8D4E3"
             },
             "line": {
              "color": "white"
             }
            },
            "type": "table"
           }
          ]
         },
         "layout": {
          "annotationdefaults": {
           "arrowcolor": "#2a3f5f",
           "arrowhead": 0,
           "arrowwidth": 1
          },
          "autotypenumbers": "strict",
          "coloraxis": {
           "colorbar": {
            "outlinewidth": 0,
            "ticks": ""
           }
          },
          "colorscale": {
           "diverging": [
            [
             0,
             "#8e0152"
            ],
            [
             0.1,
             "#c51b7d"
            ],
            [
             0.2,
             "#de77ae"
            ],
            [
             0.3,
             "#f1b6da"
            ],
            [
             0.4,
             "#fde0ef"
            ],
            [
             0.5,
             "#f7f7f7"
            ],
            [
             0.6,
             "#e6f5d0"
            ],
            [
             0.7,
             "#b8e186"
            ],
            [
             0.8,
             "#7fbc41"
            ],
            [
             0.9,
             "#4d9221"
            ],
            [
             1,
             "#276419"
            ]
           ],
           "sequential": [
            [
             0,
             "#0d0887"
            ],
            [
             0.1111111111111111,
             "#46039f"
            ],
            [
             0.2222222222222222,
             "#7201a8"
            ],
            [
             0.3333333333333333,
             "#9c179e"
            ],
            [
             0.4444444444444444,
             "#bd3786"
            ],
            [
             0.5555555555555556,
             "#d8576b"
            ],
            [
             0.6666666666666666,
             "#ed7953"
            ],
            [
             0.7777777777777778,
             "#fb9f3a"
            ],
            [
             0.8888888888888888,
             "#fdca26"
            ],
            [
             1,
             "#f0f921"
            ]
           ],
           "sequentialminus": [
            [
             0,
             "#0d0887"
            ],
            [
             0.1111111111111111,
             "#46039f"
            ],
            [
             0.2222222222222222,
             "#7201a8"
            ],
            [
             0.3333333333333333,
             "#9c179e"
            ],
            [
             0.4444444444444444,
             "#bd3786"
            ],
            [
             0.5555555555555556,
             "#d8576b"
            ],
            [
             0.6666666666666666,
             "#ed7953"
            ],
            [
             0.7777777777777778,
             "#fb9f3a"
            ],
            [
             0.8888888888888888,
             "#fdca26"
            ],
            [
             1,
             "#f0f921"
            ]
           ]
          },
          "colorway": [
           "#636efa",
           "#EF553B",
           "#00cc96",
           "#ab63fa",
           "#FFA15A",
           "#19d3f3",
           "#FF6692",
           "#B6E880",
           "#FF97FF",
           "#FECB52"
          ],
          "font": {
           "color": "#2a3f5f"
          },
          "geo": {
           "bgcolor": "white",
           "lakecolor": "white",
           "landcolor": "#E5ECF6",
           "showlakes": true,
           "showland": true,
           "subunitcolor": "white"
          },
          "hoverlabel": {
           "align": "left"
          },
          "hovermode": "closest",
          "mapbox": {
           "style": "light"
          },
          "paper_bgcolor": "white",
          "plot_bgcolor": "#E5ECF6",
          "polar": {
           "angularaxis": {
            "gridcolor": "white",
            "linecolor": "white",
            "ticks": ""
           },
           "bgcolor": "#E5ECF6",
           "radialaxis": {
            "gridcolor": "white",
            "linecolor": "white",
            "ticks": ""
           }
          },
          "scene": {
           "xaxis": {
            "backgroundcolor": "#E5ECF6",
            "gridcolor": "white",
            "gridwidth": 2,
            "linecolor": "white",
            "showbackground": true,
            "ticks": "",
            "zerolinecolor": "white"
           },
           "yaxis": {
            "backgroundcolor": "#E5ECF6",
            "gridcolor": "white",
            "gridwidth": 2,
            "linecolor": "white",
            "showbackground": true,
            "ticks": "",
            "zerolinecolor": "white"
           },
           "zaxis": {
            "backgroundcolor": "#E5ECF6",
            "gridcolor": "white",
            "gridwidth": 2,
            "linecolor": "white",
            "showbackground": true,
            "ticks": "",
            "zerolinecolor": "white"
           }
          },
          "shapedefaults": {
           "line": {
            "color": "#2a3f5f"
           }
          },
          "ternary": {
           "aaxis": {
            "gridcolor": "white",
            "linecolor": "white",
            "ticks": ""
           },
           "baxis": {
            "gridcolor": "white",
            "linecolor": "white",
            "ticks": ""
           },
           "bgcolor": "#E5ECF6",
           "caxis": {
            "gridcolor": "white",
            "linecolor": "white",
            "ticks": ""
           }
          },
          "title": {
           "x": 0.05
          },
          "xaxis": {
           "automargin": true,
           "gridcolor": "white",
           "linecolor": "white",
           "ticks": "",
           "title": {
            "standoff": 15
           },
           "zerolinecolor": "white",
           "zerolinewidth": 2
          },
          "yaxis": {
           "automargin": true,
           "gridcolor": "white",
           "linecolor": "white",
           "ticks": "",
           "title": {
            "standoff": 15
           },
           "zerolinecolor": "white",
           "zerolinewidth": 2
          }
         }
        },
        "title": {
         "text": "Top 20 Features"
        }
       }
      }
     },
     "metadata": {},
     "output_type": "display_data"
    }
   ],
   "source": [
    "# Feature Selection\n",
    "from sklearn.feature_selection import SelectKBest, chi2\n",
    "\n",
    "best_features = SelectKBest(score_func=chi2,k='all')\n",
    "\n",
    "X = train_df.iloc[:,4:-2]\n",
    "y = train_df.iloc[:,-1]   \n",
    "fit = best_features.fit(X,y)\n",
    "\n",
    "df_scores=pd.DataFrame(fit.scores_)\n",
    "df_col=pd.DataFrame(X.columns)\n",
    "\n",
    "feature_score=pd.concat([df_col,df_scores],axis=1)\n",
    "feature_score.columns=['feature','score']\n",
    "feature_score.sort_values(by=['score'],ascending=True,inplace=True)\n",
    "\n",
    "fig = go.Figure(go.Bar(\n",
    "            x=feature_score['score'][0:21],\n",
    "            y=feature_score['feature'][0:21],\n",
    "            orientation='h'))\n",
    "\n",
    "fig.update_layout(title=\"Top 20 Features\",\n",
    "                  height=1200,\n",
    "                  showlegend=False,\n",
    "                 )\n",
    "\n",
    "fig.show()"
   ]
  },
  {
   "cell_type": "markdown",
   "metadata": {},
   "source": [
    "Encode categorical features"
   ]
  },
  {
   "cell_type": "code",
   "execution_count": 28,
   "metadata": {},
   "outputs": [],
   "source": [
    "X = train_df.iloc[:,:-1]\n",
    "y = train_df.iloc[:,-1]"
   ]
  },
  {
   "cell_type": "code",
   "execution_count": 29,
   "metadata": {},
   "outputs": [
    {
     "data": {
      "text/plain": [
       "(82332, 42)"
      ]
     },
     "execution_count": 29,
     "metadata": {},
     "output_type": "execute_result"
    }
   ],
   "source": [
    "X.head()\n",
    "feature_names = list(X.columns)\n",
    "np.shape(X)"
   ]
  },
  {
   "cell_type": "code",
   "execution_count": 30,
   "metadata": {},
   "outputs": [],
   "source": [
    "from sklearn.compose import ColumnTransformer\n",
    "from sklearn.preprocessing import OneHotEncoder\n",
    "ct = ColumnTransformer(transformers=[('encoder', OneHotEncoder(), [1,2,3])], remainder='passthrough')\n",
    "X = np.array(ct.fit_transform(X))"
   ]
  },
  {
   "cell_type": "code",
   "execution_count": 31,
   "metadata": {},
   "outputs": [
    {
     "data": {
      "text/plain": [
       "(82332, 56)"
      ]
     },
     "execution_count": 31,
     "metadata": {},
     "output_type": "execute_result"
    }
   ],
   "source": [
    "np.shape(X)"
   ]
  },
  {
   "cell_type": "code",
   "execution_count": 32,
   "metadata": {},
   "outputs": [
    {
     "data": {
      "text/html": [
       "<div>\n",
       "<style scoped>\n",
       "    .dataframe tbody tr th:only-of-type {\n",
       "        vertical-align: middle;\n",
       "    }\n",
       "\n",
       "    .dataframe tbody tr th {\n",
       "        vertical-align: top;\n",
       "    }\n",
       "\n",
       "    .dataframe thead th {\n",
       "        text-align: right;\n",
       "    }\n",
       "</style>\n",
       "<table border=\"1\" class=\"dataframe\">\n",
       "  <thead>\n",
       "    <tr style=\"text-align: right;\">\n",
       "      <th></th>\n",
       "      <th>proto</th>\n",
       "      <th>service</th>\n",
       "      <th>state</th>\n",
       "    </tr>\n",
       "  </thead>\n",
       "  <tbody>\n",
       "    <tr>\n",
       "      <th>count</th>\n",
       "      <td>82332</td>\n",
       "      <td>82332</td>\n",
       "      <td>82332</td>\n",
       "    </tr>\n",
       "    <tr>\n",
       "      <th>unique</th>\n",
       "      <td>6</td>\n",
       "      <td>5</td>\n",
       "      <td>6</td>\n",
       "    </tr>\n",
       "    <tr>\n",
       "      <th>top</th>\n",
       "      <td>tcp</td>\n",
       "      <td>-</td>\n",
       "      <td>FIN</td>\n",
       "    </tr>\n",
       "    <tr>\n",
       "      <th>freq</th>\n",
       "      <td>43095</td>\n",
       "      <td>49275</td>\n",
       "      <td>39339</td>\n",
       "    </tr>\n",
       "  </tbody>\n",
       "</table>\n",
       "</div>"
      ],
      "text/plain": [
       "        proto service  state\n",
       "count   82332   82332  82332\n",
       "unique      6       5      6\n",
       "top       tcp       -    FIN\n",
       "freq    43095   49275  39339"
      ]
     },
     "execution_count": 32,
     "metadata": {},
     "output_type": "execute_result"
    }
   ],
   "source": [
    "df_cat.describe(include='all')"
   ]
  },
  {
   "cell_type": "code",
   "execution_count": 33,
   "metadata": {},
   "outputs": [
    {
     "data": {
      "text/plain": [
       "array([0.00000000e+00, 0.00000000e+00, 0.00000000e+00, 0.00000000e+00,\n",
       "       1.00000000e+00, 0.00000000e+00, 1.00000000e+00, 0.00000000e+00,\n",
       "       0.00000000e+00, 0.00000000e+00, 0.00000000e+00, 0.00000000e+00,\n",
       "       0.00000000e+00, 0.00000000e+00, 0.00000000e+00, 1.00000000e+00,\n",
       "       0.00000000e+00, 1.09999395e-05, 6.93147181e-01, 0.00000000e+00,\n",
       "       6.20657593e+00, 0.00000000e+00, 1.14176263e+01, 2.54000000e+02,\n",
       "       0.00000000e+00, 1.90104856e+01, 0.00000000e+00, 0.00000000e+00,\n",
       "       0.00000000e+00, 1.09399400e-02, 0.00000000e+00, 0.00000000e+00,\n",
       "       0.00000000e+00, 0.00000000e+00, 0.00000000e+00, 0.00000000e+00,\n",
       "       0.00000000e+00, 0.00000000e+00, 0.00000000e+00, 0.00000000e+00,\n",
       "       5.51342875e+00, 0.00000000e+00, 0.00000000e+00, 0.00000000e+00,\n",
       "       2.00000000e+00, 2.00000000e+00, 1.00000000e+00, 1.00000000e+00,\n",
       "       1.00000000e+00, 2.00000000e+00, 0.00000000e+00, 0.00000000e+00,\n",
       "       0.00000000e+00, 1.00000000e+00, 2.00000000e+00, 0.00000000e+00])"
      ]
     },
     "execution_count": 33,
     "metadata": {},
     "output_type": "execute_result"
    }
   ],
   "source": [
    "X[0]"
   ]
  },
  {
   "cell_type": "code",
   "execution_count": 34,
   "metadata": {},
   "outputs": [
    {
     "data": {
      "text/plain": [
       "42"
      ]
     },
     "execution_count": 34,
     "metadata": {},
     "output_type": "execute_result"
    }
   ],
   "source": [
    "len(feature_names)"
   ]
  },
  {
   "cell_type": "code",
   "execution_count": 35,
   "metadata": {},
   "outputs": [],
   "source": [
    "for label in list(df_cat['state'].value_counts().index)[::-1][1:]:\n",
    "    feature_names.insert(0,label)\n",
    "    \n",
    "for label in list(df_cat['service'].value_counts().index)[::-1][1:]:\n",
    "    feature_names.insert(0,label)\n",
    "    \n",
    "for label in list(df_cat['proto'].value_counts().index)[::-1][1:]:\n",
    "    feature_names.insert(0,label)"
   ]
  },
  {
   "cell_type": "code",
   "execution_count": 36,
   "metadata": {},
   "outputs": [
    {
     "data": {
      "text/plain": [
       "56"
      ]
     },
     "execution_count": 36,
     "metadata": {},
     "output_type": "execute_result"
    }
   ],
   "source": [
    "len(feature_names)"
   ]
  },
  {
   "cell_type": "markdown",
   "metadata": {},
   "source": [
    "Modelling and Evaluation"
   ]
  },
  {
   "cell_type": "markdown",
   "metadata": {},
   "source": [
    "Prep for Modelling"
   ]
  },
  {
   "cell_type": "code",
   "execution_count": 37,
   "metadata": {},
   "outputs": [],
   "source": [
    "from sklearn.model_selection import train_test_split\n",
    "X_train, X_test, y_train, y_test = train_test_split(X, y, \n",
    "                                                    test_size = 0.2, \n",
    "                                                    random_state = 0,\n",
    "                                                    stratify=y)"
   ]
  },
  {
   "cell_type": "code",
   "execution_count": 38,
   "metadata": {},
   "outputs": [
    {
     "data": {
      "text/html": [
       "<div>\n",
       "<style scoped>\n",
       "    .dataframe tbody tr th:only-of-type {\n",
       "        vertical-align: middle;\n",
       "    }\n",
       "\n",
       "    .dataframe tbody tr th {\n",
       "        vertical-align: top;\n",
       "    }\n",
       "\n",
       "    .dataframe thead th {\n",
       "        text-align: right;\n",
       "    }\n",
       "</style>\n",
       "<table border=\"1\" class=\"dataframe\">\n",
       "  <thead>\n",
       "    <tr style=\"text-align: right;\">\n",
       "      <th></th>\n",
       "      <th>proto</th>\n",
       "      <th>service</th>\n",
       "      <th>state</th>\n",
       "    </tr>\n",
       "  </thead>\n",
       "  <tbody>\n",
       "    <tr>\n",
       "      <th>count</th>\n",
       "      <td>82332</td>\n",
       "      <td>82332</td>\n",
       "      <td>82332</td>\n",
       "    </tr>\n",
       "    <tr>\n",
       "      <th>unique</th>\n",
       "      <td>6</td>\n",
       "      <td>5</td>\n",
       "      <td>6</td>\n",
       "    </tr>\n",
       "    <tr>\n",
       "      <th>top</th>\n",
       "      <td>tcp</td>\n",
       "      <td>-</td>\n",
       "      <td>FIN</td>\n",
       "    </tr>\n",
       "    <tr>\n",
       "      <th>freq</th>\n",
       "      <td>43095</td>\n",
       "      <td>49275</td>\n",
       "      <td>39339</td>\n",
       "    </tr>\n",
       "  </tbody>\n",
       "</table>\n",
       "</div>"
      ],
      "text/plain": [
       "        proto service  state\n",
       "count   82332   82332  82332\n",
       "unique      6       5      6\n",
       "top       tcp       -    FIN\n",
       "freq    43095   49275  39339"
      ]
     },
     "execution_count": 38,
     "metadata": {},
     "output_type": "execute_result"
    }
   ],
   "source": [
    "df_cat.describe(include='all')"
   ]
  },
  {
   "cell_type": "code",
   "execution_count": 39,
   "metadata": {},
   "outputs": [],
   "source": [
    "# 6 + 5 + 6 unique = 17, therefore the first 17 rows will be the categories that have been encoded, start scaling from row 18 only.\n",
    "\n",
    "from sklearn.preprocessing import StandardScaler\n",
    "sc = StandardScaler()\n",
    "X_train[:, 18:] = sc.fit_transform(X_train[:, 18:])\n",
    "X_test[:, 18:] = sc.transform(X_test[:, 18:])"
   ]
  },
  {
   "cell_type": "markdown",
   "metadata": {},
   "source": [
    "# Logistical Classification"
   ]
  },
  {
   "cell_type": "code",
   "execution_count": 40,
   "metadata": {},
   "outputs": [],
   "source": [
    "from sklearn.metrics import f1_score, precision_score, recall_score, accuracy_score\n",
    "import time\n",
    "from sklearn.linear_model import LogisticRegression\n",
    "# Train the Logistic Regression model\n",
    "model = LogisticRegression(max_iter=1000)  # You can increase max_iter as needed\n",
    "start = time.time()\n",
    "model.fit(X_train, y_train)\n",
    "end_train = time.time()"
   ]
  },
  {
   "cell_type": "markdown",
   "metadata": {},
   "source": [
    "Predict on the test data"
   ]
  },
  {
   "cell_type": "code",
   "execution_count": 41,
   "metadata": {},
   "outputs": [],
   "source": [
    "start_predict = time.time()\n",
    "y_predictions = model.predict(X_test)\n",
    "end_predict = time.time()\n"
   ]
  },
  {
   "cell_type": "markdown",
   "metadata": {},
   "source": [
    "Calculate accuracy, recall, precision, and F1-score"
   ]
  },
  {
   "cell_type": "code",
   "execution_count": 42,
   "metadata": {},
   "outputs": [],
   "source": [
    "accuracy = accuracy_score(y_test, y_predictions)\n",
    "recall = recall_score(y_test, y_predictions, average='weighted')\n",
    "precision = precision_score(y_test, y_predictions, average='weighted')\n",
    "f1s = f1_score(y_test, y_predictions, average='weighted')\n"
   ]
  },
  {
   "cell_type": "code",
   "execution_count": 43,
   "metadata": {},
   "outputs": [
    {
     "name": "stdout",
     "output_type": "stream",
     "text": [
      "Accuracy: 92.86%\n",
      "Recall: 92.86%\n",
      "Precision: 92.90%\n",
      "F1-Score: 92.87%\n",
      "Time to train: 3.37 s\n",
      "Time to predict: 0.00 s\n",
      "Total time: 3.38 s\n"
     ]
    }
   ],
   "source": [
    "print(\"Accuracy: \" + \"{:.2%}\".format(accuracy))\n",
    "print(\"Recall: \" + \"{:.2%}\".format(recall))\n",
    "print(\"Precision: \" + \"{:.2%}\".format(precision))\n",
    "print(\"F1-Score: \" + \"{:.2%}\".format(f1s))\n",
    "print(\"Time to train: \" + \"{:.2f}\".format(end_train - start) + \" s\")\n",
    "print(\"Time to predict: \" + \"{:.2f}\".format(end_predict - start_predict) + \" s\")\n",
    "print(\"Total time: \" + \"{:.2f}\".format(end_predict - start) + \" s\")"
   ]
  },
  {
   "cell_type": "markdown",
   "metadata": {},
   "source": [
    "Create a DataFrame to store model performance"
   ]
  },
  {
   "cell_type": "code",
   "execution_count": 44,
   "metadata": {},
   "outputs": [],
   "source": [
    "model_performance = pd.DataFrame(columns=['Accuracy', 'Recall', 'Precision', 'F1-Score', 'Time to Train', 'Time to Predict', 'Total Time'])\n",
    "model_performance.loc['Logistic'] = [accuracy, recall, precision, f1s, end_train - start, end_predict - start_predict, end_predict - start]"
   ]
  },
  {
   "cell_type": "code",
   "execution_count": 45,
   "metadata": {},
   "outputs": [
    {
     "data": {
      "image/png": "[encoded data removed]",
      "text/plain": [
       "<Figure size 640x480 with 2 Axes>"
      ]
     },
     "metadata": {},
     "output_type": "display_data"
    }
   ],
   "source": [
    "from sklearn.metrics import confusion_matrix, ConfusionMatrixDisplay\n",
    "import matplotlib.pyplot as plt\n",
    "\n",
    "# Calculate the confusion matrix\n",
    "confusion = confusion_matrix(y_test, y_predictions)\n",
    "\n",
    "# Create a ConfusionMatrixDisplay object\n",
    "cm = ConfusionMatrixDisplay(confusion, display_labels=model.classes_)\n",
    "\n",
    "# Plot the confusion matrix with a custom colormap\n",
    "cm.plot(cmap=plt.cm.Blues)  # You can specify the format of the values (in this case, integer format)\n",
    "\n",
    "# Add labels for x and y axis\n",
    "plt.xlabel('Predicted')\n",
    "plt.ylabel('True')\n",
    "\n",
    "# Set the title\n",
    "plt.title('Confusion Matrix')\n",
    "\n",
    "plt.show()"
   ]
  },
  {
   "cell_type": "markdown",
   "metadata": {},
   "source": [
    "# kNN"
   ]
  },
  {
   "cell_type": "code",
   "execution_count": 46,
   "metadata": {},
   "outputs": [
    {
     "name": "stdout",
     "output_type": "stream",
     "text": [
      "CPU times: total: 7.33 s\n",
      "Wall time: 1.01 s\n"
     ]
    }
   ],
   "source": [
    "%%time\n",
    "from sklearn.neighbors import KNeighborsClassifier\n",
    "start = time.time()\n",
    "model = KNeighborsClassifier(n_neighbors=3).fit(X_train,y_train)\n",
    "end_train = time.time()\n",
    "y_predictions = model.predict(X_test) # These are the predictions from the test data.\n",
    "end_predict = time.time()"
   ]
  },
  {
   "cell_type": "code",
   "execution_count": 47,
   "metadata": {},
   "outputs": [
    {
     "name": "stdout",
     "output_type": "stream",
     "text": [
      "Accuracy: 95.04%\n",
      "Recall: 95.04%\n",
      "Precision: 95.09%\n",
      "F1-Score: 95.05%\n",
      "time to train: 0.01 s\n",
      "time to predict: 1.01 s\n",
      "total: 1.01 s\n"
     ]
    }
   ],
   "source": [
    "accuracy = accuracy_score(y_test, y_predictions)\n",
    "recall = recall_score(y_test, y_predictions, average='weighted')\n",
    "precision = precision_score(y_test, y_predictions, average='weighted')\n",
    "f1s = f1_score(y_test, y_predictions, average='weighted')\n",
    "\n",
    "print(\"Accuracy: \"+ \"{:.2%}\".format(accuracy))\n",
    "print(\"Recall: \"+ \"{:.2%}\".format(recall))\n",
    "print(\"Precision: \"+ \"{:.2%}\".format(precision))\n",
    "print(\"F1-Score: \"+ \"{:.2%}\".format(f1s))\n",
    "print(\"time to train: \"+ \"{:.2f}\".format(end_train-start)+\" s\")\n",
    "print(\"time to predict: \"+\"{:.2f}\".format(end_predict-end_train)+\" s\")\n",
    "print(\"total: \"+\"{:.2f}\".format(end_predict-start)+\" s\")\n",
    "model_performance.loc['kNN'] = [accuracy, recall, precision, f1s,end_train-start,end_predict-end_train,end_predict-start]"
   ]
  },
  {
   "cell_type": "code",
   "execution_count": 48,
   "metadata": {},
   "outputs": [
    {
     "data": {
      "image/png": "[encoded data removed]",
      "text/plain": [
       "<Figure size 640x480 with 2 Axes>"
      ]
     },
     "metadata": {},
     "output_type": "display_data"
    }
   ],
   "source": [
    "# Calculate the confusion matrix\n",
    "confusion = confusion_matrix(y_test, y_predictions)\n",
    "\n",
    "# Create a ConfusionMatrixDisplay object\n",
    "cm = ConfusionMatrixDisplay(confusion, display_labels=model.classes_)\n",
    "\n",
    "# Plot the confusion matrix with a custom colormap\n",
    "cm.plot(cmap=plt.cm.Blues)\n",
    "\n",
    "plt.show()"
   ]
  },
  {
   "cell_type": "markdown",
   "metadata": {},
   "source": [
    "# Decision Tree"
   ]
  },
  {
   "cell_type": "code",
   "execution_count": 49,
   "metadata": {},
   "outputs": [
    {
     "name": "stdout",
     "output_type": "stream",
     "text": [
      "CPU times: total: 547 ms\n",
      "Wall time: 1.27 s\n"
     ]
    }
   ],
   "source": [
    "%%time\n",
    "from sklearn.tree import DecisionTreeClassifier\n",
    "start = time.time()\n",
    "model = DecisionTreeClassifier().fit(X_train,y_train)\n",
    "end_train = time.time()\n",
    "y_predictions = model.predict(X_test) # These are the predictions from the test data.\n",
    "end_predict = time.time()"
   ]
  },
  {
   "cell_type": "code",
   "execution_count": 50,
   "metadata": {},
   "outputs": [
    {
     "name": "stdout",
     "output_type": "stream",
     "text": [
      "Accuracy: 96.48%\n",
      "Recall: 96.48%\n",
      "Precision: 96.48%\n",
      "F1-Score: 96.48%\n",
      "time to train: 1.27 s\n",
      "time to predict: 0.00 s\n",
      "total: 1.27 s\n"
     ]
    }
   ],
   "source": [
    "accuracy = accuracy_score(y_test, y_predictions)\n",
    "recall = recall_score(y_test, y_predictions, average='weighted')\n",
    "precision = precision_score(y_test, y_predictions, average='weighted')\n",
    "f1s = f1_score(y_test, y_predictions, average='weighted')\n",
    "\n",
    "print(\"Accuracy: \"+ \"{:.2%}\".format(accuracy))\n",
    "print(\"Recall: \"+ \"{:.2%}\".format(recall))\n",
    "print(\"Precision: \"+ \"{:.2%}\".format(precision))\n",
    "print(\"F1-Score: \"+ \"{:.2%}\".format(f1s))\n",
    "print(\"time to train: \"+ \"{:.2f}\".format(end_train-start)+\" s\")\n",
    "print(\"time to predict: \"+\"{:.2f}\".format(end_predict-end_train)+\" s\")\n",
    "print(\"total: \"+\"{:.2f}\".format(end_predict-start)+\" s\")\n",
    "model_performance.loc['Decision Tree'] = [accuracy, recall, precision, f1s,end_train-start,end_predict-end_train,end_predict-start]\n"
   ]
  },
  {
   "cell_type": "code",
   "execution_count": 51,
   "metadata": {},
   "outputs": [
    {
     "data": {
      "image/png": "[encoded data removed]",
      "text/plain": [
       "<Figure size 640x480 with 2 Axes>"
      ]
     },
     "metadata": {},
     "output_type": "display_data"
    }
   ],
   "source": [
    "# Calculate the confusion matrix\n",
    "confusion = confusion_matrix(y_test, y_predictions)\n",
    "\n",
    "# Create a ConfusionMatrixDisplay object\n",
    "cm = ConfusionMatrixDisplay(confusion, display_labels=model.classes_)\n",
    "\n",
    "# Plot the confusion matrix with a custom colormap\n",
    "cm.plot(cmap=plt.cm.Blues)\n",
    "\n",
    "plt.show()"
   ]
  },
  {
   "cell_type": "code",
   "execution_count": 52,
   "metadata": {},
   "outputs": [
    {
     "data": {
      "image/png": "[encoded data removed]",
      "text/plain": [
       "<Figure size 1000x1000 with 1 Axes>"
      ]
     },
     "metadata": {},
     "output_type": "display_data"
    }
   ],
   "source": [
    "plt.rcParams['figure.figsize']=10,10\n",
    "sns.set_style(\"white\")\n",
    "feat_importances = pd.Series(model.feature_importances_, index=feature_names)\n",
    "feat_importances = feat_importances.groupby(level=0).mean()\n",
    "feat_importances.nlargest(20).plot(kind='barh').invert_yaxis()\n",
    "sns.despine()\n",
    "plt.show()"
   ]
  },
  {
   "cell_type": "markdown",
   "metadata": {},
   "source": [
    "# Extra Trees"
   ]
  },
  {
   "cell_type": "code",
   "execution_count": 53,
   "metadata": {},
   "outputs": [
    {
     "name": "stdout",
     "output_type": "stream",
     "text": [
      "CPU times: total: 9.91 s\n",
      "Wall time: 912 ms\n"
     ]
    }
   ],
   "source": [
    "%%time\n",
    "from sklearn.ensemble import ExtraTreesClassifier\n",
    "start = time.time()\n",
    "model = ExtraTreesClassifier(random_state=0,n_jobs=-1).fit(X_train,y_train)\n",
    "end_train = time.time()\n",
    "y_predictions = model.predict(X_test) # These are the predictions from the test data.\n",
    "end_predict = time.time()"
   ]
  },
  {
   "cell_type": "code",
   "execution_count": 54,
   "metadata": {},
   "outputs": [
    {
     "name": "stdout",
     "output_type": "stream",
     "text": [
      "Accuracy: 97.53%\n",
      "Recall: 97.53%\n",
      "Precision: 97.55%\n",
      "F1-Score: 97.53%\n",
      "time to train: 0.86 s\n",
      "time to predict: 0.05 s\n",
      "total: 0.91 s\n"
     ]
    }
   ],
   "source": [
    "accuracy = accuracy_score(y_test, y_predictions)\n",
    "recall = recall_score(y_test, y_predictions, average='weighted')\n",
    "precision = precision_score(y_test, y_predictions, average='weighted')\n",
    "f1s = f1_score(y_test, y_predictions, average='weighted')\n",
    "\n",
    "print(\"Accuracy: \"+ \"{:.2%}\".format(accuracy))\n",
    "print(\"Recall: \"+ \"{:.2%}\".format(recall))\n",
    "print(\"Precision: \"+ \"{:.2%}\".format(precision))\n",
    "print(\"F1-Score: \"+ \"{:.2%}\".format(f1s))\n",
    "print(\"time to train: \"+ \"{:.2f}\".format(end_train-start)+\" s\")\n",
    "print(\"time to predict: \"+\"{:.2f}\".format(end_predict-end_train)+\" s\")\n",
    "print(\"total: \"+\"{:.2f}\".format(end_predict-start)+\" s\")\n",
    "model_performance.loc['Extra Trees'] = [accuracy, recall, precision, f1s,end_train-start,end_predict-end_train,end_predict-start]"
   ]
  },
  {
   "cell_type": "code",
   "execution_count": 55,
   "metadata": {},
   "outputs": [
    {
     "data": {
      "image/png": "[encoded data removed]",
      "text/plain": [
       "<Figure size 1000x1000 with 2 Axes>"
      ]
     },
     "metadata": {},
     "output_type": "display_data"
    }
   ],
   "source": [
    "# Calculate the confusion matrix\n",
    "confusion = confusion_matrix(y_test, y_predictions)\n",
    "\n",
    "# Create a ConfusionMatrixDisplay object\n",
    "cm = ConfusionMatrixDisplay(confusion, display_labels=model.classes_)\n",
    "\n",
    "# Plot the confusion matrix with a custom colormap\n",
    "cm.plot(cmap=plt.cm.Blues)\n",
    "\n",
    "plt.show()"
   ]
  },
  {
   "cell_type": "code",
   "execution_count": 56,
   "metadata": {},
   "outputs": [
    {
     "data": {
      "image/png": "[encoded data removed]",
      "text/plain": [
       "<Figure size 1000x1000 with 1 Axes>"
      ]
     },
     "metadata": {},
     "output_type": "display_data"
    }
   ],
   "source": [
    "plt.rcParams['figure.figsize']=10,10\n",
    "sns.set_style(\"white\")\n",
    "sns.despine()\n",
    "feat_importances = pd.Series(model.feature_importances_, index=feature_names)\n",
    "feat_importances = feat_importances.groupby(level=0).mean()\n",
    "feat_importances.nlargest(20).plot(kind='barh').invert_yaxis()\n",
    "sns.despine()\n",
    "plt.show()"
   ]
  },
  {
   "cell_type": "markdown",
   "metadata": {},
   "source": [
    "# Random Forest"
   ]
  },
  {
   "cell_type": "code",
   "execution_count": 57,
   "metadata": {},
   "outputs": [
    {
     "name": "stdout",
     "output_type": "stream",
     "text": [
      "CPU times: total: 26.6 s\n",
      "Wall time: 1.84 s\n"
     ]
    }
   ],
   "source": [
    "%%time\n",
    "from sklearn.ensemble import RandomForestClassifier\n",
    "start = time.time()\n",
    "model = RandomForestClassifier(n_estimators = 100,n_jobs=-1,random_state=0,bootstrap=True,).fit(X_train,y_train)\n",
    "end_train = time.time()\n",
    "y_predictions = model.predict(X_test) # These are the predictions from the test data.\n",
    "end_predict = time.time()"
   ]
  },
  {
   "cell_type": "code",
   "execution_count": 58,
   "metadata": {},
   "outputs": [
    {
     "name": "stdout",
     "output_type": "stream",
     "text": [
      "Accuracy: 97.68%\n",
      "Recall: 97.68%\n",
      "Precision: 97.69%\n",
      "F1-Score: 97.68%\n",
      "time to train: 1.79 s\n",
      "time to predict: 0.05 s\n",
      "total: 1.84 s\n"
     ]
    }
   ],
   "source": [
    "accuracy = accuracy_score(y_test, y_predictions)\n",
    "recall = recall_score(y_test, y_predictions, average='weighted')\n",
    "precision = precision_score(y_test, y_predictions, average='weighted')\n",
    "f1s = f1_score(y_test, y_predictions, average='weighted')\n",
    "\n",
    "print(\"Accuracy: \"+ \"{:.2%}\".format(accuracy))\n",
    "print(\"Recall: \"+ \"{:.2%}\".format(recall))\n",
    "print(\"Precision: \"+ \"{:.2%}\".format(precision))\n",
    "print(\"F1-Score: \"+ \"{:.2%}\".format(f1s))\n",
    "print(\"time to train: \"+ \"{:.2f}\".format(end_train-start)+\" s\")\n",
    "print(\"time to predict: \"+\"{:.2f}\".format(end_predict-end_train)+\" s\")\n",
    "print(\"total: \"+\"{:.2f}\".format(end_predict-start)+\" s\")\n",
    "model_performance.loc['Random Forest'] = [accuracy, recall, precision, f1s,end_train-start,end_predict-end_train,end_predict-start]"
   ]
  },
  {
   "cell_type": "code",
   "execution_count": 59,
   "metadata": {},
   "outputs": [
    {
     "data": {
      "image/png": "[encoded data removed]",
      "text/plain": [
       "<Figure size 1000x1000 with 2 Axes>"
      ]
     },
     "metadata": {},
     "output_type": "display_data"
    }
   ],
   "source": [
    "# Calculate the confusion matrix\n",
    "confusion = confusion_matrix(y_test, y_predictions)\n",
    "\n",
    "# Create a ConfusionMatrixDisplay object\n",
    "cm = ConfusionMatrixDisplay(confusion, display_labels=model.classes_)\n",
    "\n",
    "# Plot the confusion matrix with a custom colormap\n",
    "cm.plot(cmap=plt.cm.Blues)\n",
    "\n",
    "plt.show()"
   ]
  },
  {
   "cell_type": "code",
   "execution_count": 60,
   "metadata": {},
   "outputs": [
    {
     "data": {
      "image/png": "[encoded data removed]",
      "text/plain": [
       "<Figure size 1000x1000 with 1 Axes>"
      ]
     },
     "metadata": {},
     "output_type": "display_data"
    }
   ],
   "source": [
    "plt.rcParams['figure.figsize']=10,10\n",
    "sns.set_style(\"white\")\n",
    "feat_importances = pd.Series(model.feature_importances_, index=feature_names)\n",
    "feat_importances = feat_importances.groupby(level=0).mean()\n",
    "feat_importances.nlargest(20).plot(kind='barh').invert_yaxis()\n",
    "sns.despine()\n",
    "plt.show()"
   ]
  },
  {
   "cell_type": "markdown",
   "metadata": {},
   "source": [
    "# Gradient Boosting Classifier"
   ]
  },
  {
   "cell_type": "code",
   "execution_count": 61,
   "metadata": {},
   "outputs": [
    {
     "name": "stdout",
     "output_type": "stream",
     "text": [
      "CPU times: total: 14.2 s\n",
      "Wall time: 45 s\n"
     ]
    }
   ],
   "source": [
    "%%time\n",
    "from sklearn.ensemble import GradientBoostingClassifier\n",
    "start = time.time()\n",
    "model = GradientBoostingClassifier().fit(X_train,y_train)\n",
    "end_train = time.time()\n",
    "y_predictions = model.predict(X_test) # These are the predictions from the test data.\n",
    "end_predict = time.time()"
   ]
  },
  {
   "cell_type": "code",
   "execution_count": 62,
   "metadata": {},
   "outputs": [
    {
     "name": "stdout",
     "output_type": "stream",
     "text": [
      "Accuracy: 95.85%\n",
      "Recall: 95.85%\n",
      "Precision: 95.86%\n",
      "F1-Score: 95.85%\n",
      "time to train: 44.98 s\n",
      "time to predict: 0.02 s\n",
      "total: 45.01 s\n"
     ]
    }
   ],
   "source": [
    "accuracy = accuracy_score(y_test, y_predictions)\n",
    "recall = recall_score(y_test, y_predictions, average='weighted')\n",
    "precision = precision_score(y_test, y_predictions, average='weighted')\n",
    "f1s = f1_score(y_test, y_predictions, average='weighted')\n",
    "\n",
    "print(\"Accuracy: \"+ \"{:.2%}\".format(accuracy))\n",
    "print(\"Recall: \"+ \"{:.2%}\".format(recall))\n",
    "print(\"Precision: \"+ \"{:.2%}\".format(precision))\n",
    "print(\"F1-Score: \"+ \"{:.2%}\".format(f1s))\n",
    "print(\"time to train: \"+ \"{:.2f}\".format(end_train-start)+\" s\")\n",
    "print(\"time to predict: \"+\"{:.2f}\".format(end_predict-end_train)+\" s\")\n",
    "print(\"total: \"+\"{:.2f}\".format(end_predict-start)+\" s\")\n",
    "model_performance.loc['Gradient Boosting Classifier'] = [accuracy, recall, precision, f1s,end_train-start,end_predict-end_train,end_predict-start]"
   ]
  },
  {
   "cell_type": "code",
   "execution_count": 63,
   "metadata": {},
   "outputs": [
    {
     "data": {
      "image/png": "[encoded data removed]",
      "text/plain": [
       "<Figure size 1000x1000 with 2 Axes>"
      ]
     },
     "metadata": {},
     "output_type": "display_data"
    }
   ],
   "source": [
    "# Calculate the confusion matrix\n",
    "confusion = confusion_matrix(y_test, y_predictions)\n",
    "\n",
    "# Create a ConfusionMatrixDisplay object\n",
    "cm = ConfusionMatrixDisplay(confusion, display_labels=model.classes_)\n",
    "\n",
    "# Plot the confusion matrix with a custom colormap\n",
    "cm.plot(cmap=plt.cm.Blues)\n",
    "\n",
    "plt.show()"
   ]
  },
  {
   "cell_type": "code",
   "execution_count": 64,
   "metadata": {},
   "outputs": [
    {
     "data": {
      "image/png": "[encoded data removed]",
      "text/plain": [
       "<Figure size 1000x1000 with 1 Axes>"
      ]
     },
     "metadata": {},
     "output_type": "display_data"
    }
   ],
   "source": [
    "plt.rcParams['figure.figsize']=10,10\n",
    "sns.set_style(\"white\")\n",
    "feat_importances = pd.Series(model.feature_importances_, index=feature_names)\n",
    "feat_importances = feat_importances.groupby(level=0).mean()\n",
    "feat_importances.nlargest(20).plot(kind='barh').invert_yaxis()\n",
    "sns.despine()\n",
    "plt.show()"
   ]
  },
  {
   "cell_type": "markdown",
   "metadata": {},
   "source": [
    "# Neural Network MLP"
   ]
  },
  {
   "cell_type": "code",
   "execution_count": 65,
   "metadata": {},
   "outputs": [
    {
     "name": "stdout",
     "output_type": "stream",
     "text": [
      "CPU times: total: 1.27 s\n",
      "Wall time: 16.5 s\n"
     ]
    }
   ],
   "source": [
    "%%time\n",
    "from sklearn.neural_network import MLPClassifier\n",
    "start = time.time()\n",
    "model = MLPClassifier(hidden_layer_sizes = (20,20,), \n",
    "                      activation='relu', \n",
    "                      solver='adam',\n",
    "                      batch_size=2000,\n",
    "                      verbose=0).fit(X_train,y_train)\n",
    "end_train = time.time()\n",
    "y_predictions = model.predict(X_test) # These are the predictions from the test data.\n",
    "end_predict = time.time()"
   ]
  },
  {
   "cell_type": "code",
   "execution_count": 66,
   "metadata": {},
   "outputs": [
    {
     "name": "stdout",
     "output_type": "stream",
     "text": [
      "Accuracy: 96.36%\n",
      "Recall: 96.36%\n",
      "Precision: 96.38%\n",
      "F1-Score: 96.36%\n",
      "time to train: 16.49 s\n",
      "time to predict: 0.01 s\n",
      "total: 16.50 s\n"
     ]
    }
   ],
   "source": [
    "accuracy = accuracy_score(y_test, y_predictions)\n",
    "recall = recall_score(y_test, y_predictions, average='weighted')\n",
    "precision = precision_score(y_test, y_predictions, average='weighted')\n",
    "f1s = f1_score(y_test, y_predictions, average='weighted')\n",
    "\n",
    "print(\"Accuracy: \"+ \"{:.2%}\".format(accuracy))\n",
    "print(\"Recall: \"+ \"{:.2%}\".format(recall))\n",
    "print(\"Precision: \"+ \"{:.2%}\".format(precision))\n",
    "print(\"F1-Score: \"+ \"{:.2%}\".format(f1s))\n",
    "print(\"time to train: \"+ \"{:.2f}\".format(end_train-start)+\" s\")\n",
    "print(\"time to predict: \"+\"{:.2f}\".format(end_predict-end_train)+\" s\")\n",
    "print(\"total: \"+\"{:.2f}\".format(end_predict-start)+\" s\")\n",
    "model_performance.loc['MLP'] = [accuracy, recall, precision, f1s,end_train-start,end_predict-end_train,end_predict-start]"
   ]
  },
  {
   "cell_type": "code",
   "execution_count": 67,
   "metadata": {},
   "outputs": [
    {
     "data": {
      "image/png": "[encoded data removed]",
      "text/plain": [
       "<Figure size 1000x1000 with 2 Axes>"
      ]
     },
     "metadata": {},
     "output_type": "display_data"
    }
   ],
   "source": [
    "# Calculate the confusion matrix\n",
    "confusion = confusion_matrix(y_test, y_predictions)\n",
    "\n",
    "# Create a ConfusionMatrixDisplay object\n",
    "cm = ConfusionMatrixDisplay(confusion, display_labels=model.classes_)\n",
    "\n",
    "# Plot the confusion matrix with a custom colormap\n",
    "cm.plot(cmap=plt.cm.Blues)\n",
    "\n",
    "plt.show()"
   ]
  },
  {
   "cell_type": "markdown",
   "metadata": {},
   "source": [
    "เปรียบเทียบโมเดล"
   ]
  },
  {
   "cell_type": "code",
   "execution_count": 68,
   "metadata": {},
   "outputs": [
    {
     "data": {
      "text/html": [
       "<style type=\"text/css\">\n",
       "#T_0f566_row0_col0, #T_0f566_row0_col1, #T_0f566_row0_col2, #T_0f566_row0_col3, #T_0f566_row0_col5, #T_0f566_row1_col4, #T_0f566_row1_col6, #T_0f566_row2_col5, #T_0f566_row3_col6, #T_0f566_row6_col5 {\n",
       "  background-color: #3b4cc0;\n",
       "  color: #f1f1f1;\n",
       "}\n",
       "#T_0f566_row0_col4 {\n",
       "  background-color: #516ddb;\n",
       "  color: #f1f1f1;\n",
       "}\n",
       "#T_0f566_row0_col6 {\n",
       "  background-color: #4b64d5;\n",
       "  color: #f1f1f1;\n",
       "}\n",
       "#T_0f566_row1_col0, #T_0f566_row1_col1, #T_0f566_row1_col3 {\n",
       "  background-color: #d1dae9;\n",
       "  color: #000000;\n",
       "}\n",
       "#T_0f566_row1_col2 {\n",
       "  background-color: #d2dbe8;\n",
       "  color: #000000;\n",
       "}\n",
       "#T_0f566_row1_col5, #T_0f566_row4_col0, #T_0f566_row4_col1, #T_0f566_row4_col2, #T_0f566_row4_col3, #T_0f566_row5_col4, #T_0f566_row5_col6 {\n",
       "  background-color: #b40426;\n",
       "  color: #f1f1f1;\n",
       "}\n",
       "#T_0f566_row2_col0, #T_0f566_row2_col1, #T_0f566_row2_col3 {\n",
       "  background-color: #f4987a;\n",
       "  color: #000000;\n",
       "}\n",
       "#T_0f566_row2_col2 {\n",
       "  background-color: #f49a7b;\n",
       "  color: #000000;\n",
       "}\n",
       "#T_0f566_row2_col4 {\n",
       "  background-color: #4358cb;\n",
       "  color: #f1f1f1;\n",
       "}\n",
       "#T_0f566_row2_col6 {\n",
       "  background-color: #3d50c3;\n",
       "  color: #f1f1f1;\n",
       "}\n",
       "#T_0f566_row3_col0, #T_0f566_row3_col1, #T_0f566_row3_col3 {\n",
       "  background-color: #c0282f;\n",
       "  color: #f1f1f1;\n",
       "}\n",
       "#T_0f566_row3_col2 {\n",
       "  background-color: #be242e;\n",
       "  color: #f1f1f1;\n",
       "}\n",
       "#T_0f566_row3_col4 {\n",
       "  background-color: #3f53c6;\n",
       "  color: #f1f1f1;\n",
       "}\n",
       "#T_0f566_row3_col5, #T_0f566_row4_col5 {\n",
       "  background-color: #4961d2;\n",
       "  color: #f1f1f1;\n",
       "}\n",
       "#T_0f566_row4_col4 {\n",
       "  background-color: #465ecf;\n",
       "  color: #f1f1f1;\n",
       "}\n",
       "#T_0f566_row4_col6, #T_0f566_row5_col5 {\n",
       "  background-color: #4055c8;\n",
       "  color: #f1f1f1;\n",
       "}\n",
       "#T_0f566_row5_col0, #T_0f566_row5_col1, #T_0f566_row5_col3 {\n",
       "  background-color: #f4c6af;\n",
       "  color: #000000;\n",
       "}\n",
       "#T_0f566_row5_col2 {\n",
       "  background-color: #f3c7b1;\n",
       "  color: #000000;\n",
       "}\n",
       "#T_0f566_row6_col0, #T_0f566_row6_col1, #T_0f566_row6_col2, #T_0f566_row6_col3 {\n",
       "  background-color: #f6a385;\n",
       "  color: #000000;\n",
       "}\n",
       "#T_0f566_row6_col4 {\n",
       "  background-color: #b5cdfa;\n",
       "  color: #000000;\n",
       "}\n",
       "#T_0f566_row6_col6 {\n",
       "  background-color: #b1cbfc;\n",
       "  color: #000000;\n",
       "}\n",
       "</style>\n",
       "<table id=\"T_0f566\">\n",
       "  <thead>\n",
       "    <tr>\n",
       "      <th class=\"blank level0\" >&nbsp;</th>\n",
       "      <th id=\"T_0f566_level0_col0\" class=\"col_heading level0 col0\" >Accuracy</th>\n",
       "      <th id=\"T_0f566_level0_col1\" class=\"col_heading level0 col1\" >Recall</th>\n",
       "      <th id=\"T_0f566_level0_col2\" class=\"col_heading level0 col2\" >Precision</th>\n",
       "      <th id=\"T_0f566_level0_col3\" class=\"col_heading level0 col3\" >F1-Score</th>\n",
       "      <th id=\"T_0f566_level0_col4\" class=\"col_heading level0 col4\" >Time to Train</th>\n",
       "      <th id=\"T_0f566_level0_col5\" class=\"col_heading level0 col5\" >Time to Predict</th>\n",
       "      <th id=\"T_0f566_level0_col6\" class=\"col_heading level0 col6\" >Total Time</th>\n",
       "    </tr>\n",
       "  </thead>\n",
       "  <tbody>\n",
       "    <tr>\n",
       "      <th id=\"T_0f566_level0_row0\" class=\"row_heading level0 row0\" >Logistic</th>\n",
       "      <td id=\"T_0f566_row0_col0\" class=\"data row0 col0\" >92.86%</td>\n",
       "      <td id=\"T_0f566_row0_col1\" class=\"data row0 col1\" >92.86%</td>\n",
       "      <td id=\"T_0f566_row0_col2\" class=\"data row0 col2\" >92.90%</td>\n",
       "      <td id=\"T_0f566_row0_col3\" class=\"data row0 col3\" >92.87%</td>\n",
       "      <td id=\"T_0f566_row0_col4\" class=\"data row0 col4\" >3.365941</td>\n",
       "      <td id=\"T_0f566_row0_col5\" class=\"data row0 col5\" >0.002001</td>\n",
       "      <td id=\"T_0f566_row0_col6\" class=\"data row0 col6\" >3.375164</td>\n",
       "    </tr>\n",
       "    <tr>\n",
       "      <th id=\"T_0f566_level0_row1\" class=\"row_heading level0 row1\" >kNN</th>\n",
       "      <td id=\"T_0f566_row1_col0\" class=\"data row1 col0\" >95.04%</td>\n",
       "      <td id=\"T_0f566_row1_col1\" class=\"data row1 col1\" >95.04%</td>\n",
       "      <td id=\"T_0f566_row1_col2\" class=\"data row1 col2\" >95.09%</td>\n",
       "      <td id=\"T_0f566_row1_col3\" class=\"data row1 col3\" >95.05%</td>\n",
       "      <td id=\"T_0f566_row1_col4\" class=\"data row1 col4\" >0.007007</td>\n",
       "      <td id=\"T_0f566_row1_col5\" class=\"data row1 col5\" >1.007879</td>\n",
       "      <td id=\"T_0f566_row1_col6\" class=\"data row1 col6\" >1.014886</td>\n",
       "    </tr>\n",
       "    <tr>\n",
       "      <th id=\"T_0f566_level0_row2\" class=\"row_heading level0 row2\" >Decision Tree</th>\n",
       "      <td id=\"T_0f566_row2_col0\" class=\"data row2 col0\" >96.48%</td>\n",
       "      <td id=\"T_0f566_row2_col1\" class=\"data row2 col1\" >96.48%</td>\n",
       "      <td id=\"T_0f566_row2_col2\" class=\"data row2 col2\" >96.48%</td>\n",
       "      <td id=\"T_0f566_row2_col3\" class=\"data row2 col3\" >96.48%</td>\n",
       "      <td id=\"T_0f566_row2_col4\" class=\"data row2 col4\" >1.269904</td>\n",
       "      <td id=\"T_0f566_row2_col5\" class=\"data row2 col5\" >0.004104</td>\n",
       "      <td id=\"T_0f566_row2_col6\" class=\"data row2 col6\" >1.274008</td>\n",
       "    </tr>\n",
       "    <tr>\n",
       "      <th id=\"T_0f566_level0_row3\" class=\"row_heading level0 row3\" >Extra Trees</th>\n",
       "      <td id=\"T_0f566_row3_col0\" class=\"data row3 col0\" >97.53%</td>\n",
       "      <td id=\"T_0f566_row3_col1\" class=\"data row3 col1\" >97.53%</td>\n",
       "      <td id=\"T_0f566_row3_col2\" class=\"data row3 col2\" >97.55%</td>\n",
       "      <td id=\"T_0f566_row3_col3\" class=\"data row3 col3\" >97.53%</td>\n",
       "      <td id=\"T_0f566_row3_col4\" class=\"data row3 col4\" >0.861354</td>\n",
       "      <td id=\"T_0f566_row3_col5\" class=\"data row3 col5\" >0.050558</td>\n",
       "      <td id=\"T_0f566_row3_col6\" class=\"data row3 col6\" >0.911912</td>\n",
       "    </tr>\n",
       "    <tr>\n",
       "      <th id=\"T_0f566_level0_row4\" class=\"row_heading level0 row4\" >Random Forest</th>\n",
       "      <td id=\"T_0f566_row4_col0\" class=\"data row4 col0\" >97.68%</td>\n",
       "      <td id=\"T_0f566_row4_col1\" class=\"data row4 col1\" >97.68%</td>\n",
       "      <td id=\"T_0f566_row4_col2\" class=\"data row4 col2\" >97.69%</td>\n",
       "      <td id=\"T_0f566_row4_col3\" class=\"data row4 col3\" >97.68%</td>\n",
       "      <td id=\"T_0f566_row4_col4\" class=\"data row4 col4\" >1.793992</td>\n",
       "      <td id=\"T_0f566_row4_col5\" class=\"data row4 col5\" >0.050862</td>\n",
       "      <td id=\"T_0f566_row4_col6\" class=\"data row4 col6\" >1.844854</td>\n",
       "    </tr>\n",
       "    <tr>\n",
       "      <th id=\"T_0f566_level0_row5\" class=\"row_heading level0 row5\" >Gradient Boosting Classifier</th>\n",
       "      <td id=\"T_0f566_row5_col0\" class=\"data row5 col0\" >95.85%</td>\n",
       "      <td id=\"T_0f566_row5_col1\" class=\"data row5 col1\" >95.85%</td>\n",
       "      <td id=\"T_0f566_row5_col2\" class=\"data row5 col2\" >95.86%</td>\n",
       "      <td id=\"T_0f566_row5_col3\" class=\"data row5 col3\" >95.85%</td>\n",
       "      <td id=\"T_0f566_row5_col4\" class=\"data row5 col4\" >44.984797</td>\n",
       "      <td id=\"T_0f566_row5_col5\" class=\"data row5 col5\" >0.024980</td>\n",
       "      <td id=\"T_0f566_row5_col6\" class=\"data row5 col6\" >45.009777</td>\n",
       "    </tr>\n",
       "    <tr>\n",
       "      <th id=\"T_0f566_level0_row6\" class=\"row_heading level0 row6\" >MLP</th>\n",
       "      <td id=\"T_0f566_row6_col0\" class=\"data row6 col0\" >96.36%</td>\n",
       "      <td id=\"T_0f566_row6_col1\" class=\"data row6 col1\" >96.36%</td>\n",
       "      <td id=\"T_0f566_row6_col2\" class=\"data row6 col2\" >96.38%</td>\n",
       "      <td id=\"T_0f566_row6_col3\" class=\"data row6 col3\" >96.36%</td>\n",
       "      <td id=\"T_0f566_row6_col4\" class=\"data row6 col4\" >16.490254</td>\n",
       "      <td id=\"T_0f566_row6_col5\" class=\"data row6 col5\" >0.005026</td>\n",
       "      <td id=\"T_0f566_row6_col6\" class=\"data row6 col6\" >16.495280</td>\n",
       "    </tr>\n",
       "  </tbody>\n",
       "</table>\n"
      ],
      "text/plain": [
       "<pandas.io.formats.style.Styler at 0x23b47129c90>"
      ]
     },
     "execution_count": 68,
     "metadata": {},
     "output_type": "execute_result"
    }
   ],
   "source": [
    "model_performance.style.background_gradient(cmap='coolwarm').format({'Accuracy': '{:.2%}',\n",
    "                                                                     'Precision': '{:.2%}',\n",
    "                                                                     'Recall': '{:.2%}',\n",
    "                                                                     'F1-Score': '{:.2%}',\n",
    "                                                                     'time to train':'{:.1f}',\n",
    "                                                                     'time to predict':'{:.1f}',\n",
    "                                                                     'total time':'{:.1f}',\n",
    "                                                                     })"
   ]
  },
  {
   "cell_type": "markdown",
   "metadata": {},
   "source": [
    "# Neural Network MLP (Keras)"
   ]
  },
  {
   "cell_type": "code",
   "execution_count": 69,
   "metadata": {},
   "outputs": [],
   "source": [
    "import tensorflow as tf\n",
    "from tensorflow.keras.models import Sequential\n",
    "from tensorflow.keras.layers import Dense, LSTM, GRU\n",
    "from keras import metrics\n",
    "import keras_metrics as km #when compiling\n",
    "import keras\n",
    "import numpy as np\n",
    "from numpy import array"
   ]
  },
  {
   "cell_type": "code",
   "execution_count": 70,
   "metadata": {},
   "outputs": [],
   "source": [
    "from keras import backend as K\n",
    "\n",
    "def recall_m(y_true, y_pred):\n",
    "    true_positives = K.sum(K.round(K.clip(y_true * y_pred, 0, 1)))\n",
    "    possible_positives = K.sum(K.round(K.clip(y_true, 0, 1)))\n",
    "    recall = true_positives / (possible_positives + K.epsilon())\n",
    "    return recall\n",
    "\n",
    "def precision_m(y_true, y_pred):\n",
    "    true_positives = K.sum(K.round(K.clip(y_true * y_pred, 0, 1)))\n",
    "    predicted_positives = K.sum(K.round(K.clip(y_pred, 0, 1)))\n",
    "    precision = true_positives / (predicted_positives + K.epsilon())\n",
    "    return precision\n",
    "\n",
    "def f1_m(y_true, y_pred):\n",
    "    precision = precision_m(y_true, y_pred)\n",
    "    recall = recall_m(y_true, y_pred)\n",
    "    return 2*((precision*recall)/(precision+recall+K.epsilon()))"
   ]
  },
  {
   "cell_type": "code",
   "execution_count": 71,
   "metadata": {},
   "outputs": [
    {
     "name": "stdout",
     "output_type": "stream",
     "text": [
      "Epoch 1/200\n",
      "33/33 - 1s - loss: 2.8882 - accuracy: 0.1775 - f1_m: 0.0195 - precision_m: 0.1197 - recall_m: 0.0108 - 635ms/epoch - 19ms/step\n",
      "Epoch 2/200\n",
      "33/33 - 0s - loss: 1.7180 - accuracy: 0.5793 - f1_m: 0.5541 - precision_m: 0.9255 - recall_m: 0.4241 - 64ms/epoch - 2ms/step\n",
      "Epoch 3/200\n",
      "33/33 - 0s - loss: 0.8825 - accuracy: 0.6690 - f1_m: 0.7512 - precision_m: 0.7520 - recall_m: 0.7544 - 68ms/epoch - 2ms/step\n",
      "Epoch 4/200\n",
      "33/33 - 0s - loss: 0.5335 - accuracy: 0.7695 - f1_m: 0.6991 - precision_m: 0.5892 - recall_m: 0.8640 - 68ms/epoch - 2ms/step\n",
      "Epoch 5/200\n",
      "33/33 - 0s - loss: 0.4308 - accuracy: 0.7856 - f1_m: 0.7052 - precision_m: 0.5616 - recall_m: 0.9478 - 81ms/epoch - 2ms/step\n",
      "Epoch 6/200\n",
      "33/33 - 0s - loss: 0.3754 - accuracy: 0.8166 - f1_m: 0.7080 - precision_m: 0.5550 - recall_m: 0.9776 - 65ms/epoch - 2ms/step\n",
      "Epoch 7/200\n",
      "33/33 - 0s - loss: 0.3328 - accuracy: 0.8517 - f1_m: 0.7086 - precision_m: 0.5517 - recall_m: 0.9903 - 63ms/epoch - 2ms/step\n",
      "Epoch 8/200\n",
      "33/33 - 0s - loss: 0.2992 - accuracy: 0.8651 - f1_m: 0.7090 - precision_m: 0.5507 - recall_m: 0.9952 - 66ms/epoch - 2ms/step\n",
      "Epoch 9/200\n",
      "33/33 - 0s - loss: 0.2716 - accuracy: 0.8738 - f1_m: 0.7091 - precision_m: 0.5505 - recall_m: 0.9967 - 64ms/epoch - 2ms/step\n",
      "Epoch 10/200\n",
      "33/33 - 0s - loss: 0.2503 - accuracy: 0.8842 - f1_m: 0.7096 - precision_m: 0.5507 - recall_m: 0.9976 - 82ms/epoch - 2ms/step\n",
      "Epoch 11/200\n",
      "33/33 - 0s - loss: 0.2343 - accuracy: 0.8921 - f1_m: 0.7100 - precision_m: 0.5509 - recall_m: 0.9987 - 64ms/epoch - 2ms/step\n",
      "Epoch 12/200\n",
      "33/33 - 0s - loss: 0.2225 - accuracy: 0.8972 - f1_m: 0.7102 - precision_m: 0.5510 - recall_m: 0.9988 - 61ms/epoch - 2ms/step\n",
      "Epoch 13/200\n",
      "33/33 - 0s - loss: 0.2133 - accuracy: 0.9046 - f1_m: 0.7100 - precision_m: 0.5507 - recall_m: 0.9990 - 62ms/epoch - 2ms/step\n",
      "Epoch 14/200\n",
      "33/33 - 0s - loss: 0.2066 - accuracy: 0.9080 - f1_m: 0.7101 - precision_m: 0.5507 - recall_m: 0.9993 - 63ms/epoch - 2ms/step\n",
      "Epoch 15/200\n",
      "33/33 - 0s - loss: 0.2010 - accuracy: 0.9109 - f1_m: 0.7100 - precision_m: 0.5506 - recall_m: 0.9994 - 63ms/epoch - 2ms/step\n",
      "Epoch 16/200\n",
      "33/33 - 0s - loss: 0.1967 - accuracy: 0.9128 - f1_m: 0.7100 - precision_m: 0.5506 - recall_m: 0.9995 - 62ms/epoch - 2ms/step\n",
      "Epoch 17/200\n",
      "33/33 - 0s - loss: 0.1924 - accuracy: 0.9144 - f1_m: 0.7099 - precision_m: 0.5505 - recall_m: 0.9995 - 63ms/epoch - 2ms/step\n",
      "Epoch 18/200\n",
      "33/33 - 0s - loss: 0.1889 - accuracy: 0.9161 - f1_m: 0.7100 - precision_m: 0.5506 - recall_m: 0.9995 - 61ms/epoch - 2ms/step\n",
      "Epoch 19/200\n",
      "33/33 - 0s - loss: 0.1856 - accuracy: 0.9184 - f1_m: 0.7101 - precision_m: 0.5507 - recall_m: 0.9998 - 65ms/epoch - 2ms/step\n",
      "Epoch 20/200\n",
      "33/33 - 0s - loss: 0.1824 - accuracy: 0.9197 - f1_m: 0.7099 - precision_m: 0.5505 - recall_m: 0.9994 - 63ms/epoch - 2ms/step\n",
      "Epoch 21/200\n",
      "33/33 - 0s - loss: 0.1794 - accuracy: 0.9213 - f1_m: 0.7100 - precision_m: 0.5506 - recall_m: 0.9996 - 61ms/epoch - 2ms/step\n",
      "Epoch 22/200\n",
      "33/33 - 0s - loss: 0.1765 - accuracy: 0.9234 - f1_m: 0.7101 - precision_m: 0.5506 - recall_m: 0.9997 - 66ms/epoch - 2ms/step\n",
      "Epoch 23/200\n",
      "33/33 - 0s - loss: 0.1736 - accuracy: 0.9251 - f1_m: 0.7099 - precision_m: 0.5505 - recall_m: 0.9997 - 62ms/epoch - 2ms/step\n",
      "Epoch 24/200\n",
      "33/33 - 0s - loss: 0.1710 - accuracy: 0.9267 - f1_m: 0.7101 - precision_m: 0.5506 - recall_m: 0.9996 - 62ms/epoch - 2ms/step\n",
      "Epoch 25/200\n",
      "33/33 - 0s - loss: 0.1683 - accuracy: 0.9286 - f1_m: 0.7100 - precision_m: 0.5506 - recall_m: 0.9997 - 83ms/epoch - 3ms/step\n",
      "Epoch 26/200\n",
      "33/33 - 0s - loss: 0.1658 - accuracy: 0.9301 - f1_m: 0.7101 - precision_m: 0.5506 - recall_m: 0.9999 - 66ms/epoch - 2ms/step\n",
      "Epoch 27/200\n",
      "33/33 - 0s - loss: 0.1633 - accuracy: 0.9317 - f1_m: 0.7101 - precision_m: 0.5506 - recall_m: 0.9999 - 68ms/epoch - 2ms/step\n",
      "Epoch 28/200\n",
      "33/33 - 0s - loss: 0.1607 - accuracy: 0.9328 - f1_m: 0.7101 - precision_m: 0.5506 - recall_m: 0.9999 - 65ms/epoch - 2ms/step\n",
      "Epoch 29/200\n",
      "33/33 - 0s - loss: 0.1586 - accuracy: 0.9356 - f1_m: 0.7101 - precision_m: 0.5507 - recall_m: 0.9997 - 62ms/epoch - 2ms/step\n",
      "Epoch 30/200\n",
      "33/33 - 0s - loss: 0.1559 - accuracy: 0.9365 - f1_m: 0.7100 - precision_m: 0.5506 - recall_m: 0.9998 - 61ms/epoch - 2ms/step\n",
      "Epoch 31/200\n",
      "33/33 - 0s - loss: 0.1543 - accuracy: 0.9368 - f1_m: 0.7101 - precision_m: 0.5506 - recall_m: 0.9999 - 63ms/epoch - 2ms/step\n",
      "Epoch 32/200\n",
      "33/33 - 0s - loss: 0.1515 - accuracy: 0.9392 - f1_m: 0.7102 - precision_m: 0.5507 - recall_m: 1.0000 - 63ms/epoch - 2ms/step\n",
      "Epoch 33/200\n",
      "33/33 - 0s - loss: 0.1488 - accuracy: 0.9413 - f1_m: 0.7101 - precision_m: 0.5506 - recall_m: 0.9999 - 63ms/epoch - 2ms/step\n",
      "Epoch 34/200\n",
      "33/33 - 0s - loss: 0.1469 - accuracy: 0.9419 - f1_m: 0.7100 - precision_m: 0.5506 - recall_m: 0.9999 - 81ms/epoch - 2ms/step\n",
      "Epoch 35/200\n",
      "33/33 - 0s - loss: 0.1450 - accuracy: 0.9437 - f1_m: 0.7101 - precision_m: 0.5506 - recall_m: 0.9999 - 64ms/epoch - 2ms/step\n",
      "Epoch 36/200\n",
      "33/33 - 0s - loss: 0.1428 - accuracy: 0.9447 - f1_m: 0.7101 - precision_m: 0.5506 - recall_m: 0.9998 - 78ms/epoch - 2ms/step\n",
      "Epoch 37/200\n",
      "33/33 - 0s - loss: 0.1410 - accuracy: 0.9457 - f1_m: 0.7101 - precision_m: 0.5506 - recall_m: 1.0000 - 74ms/epoch - 2ms/step\n",
      "Epoch 38/200\n",
      "33/33 - 0s - loss: 0.1396 - accuracy: 0.9463 - f1_m: 0.7101 - precision_m: 0.5506 - recall_m: 0.9999 - 68ms/epoch - 2ms/step\n",
      "Epoch 39/200\n",
      "33/33 - 0s - loss: 0.1382 - accuracy: 0.9465 - f1_m: 0.7102 - precision_m: 0.5506 - recall_m: 1.0000 - 62ms/epoch - 2ms/step\n",
      "Epoch 40/200\n",
      "33/33 - 0s - loss: 0.1364 - accuracy: 0.9480 - f1_m: 0.7101 - precision_m: 0.5506 - recall_m: 0.9999 - 64ms/epoch - 2ms/step\n",
      "Epoch 41/200\n",
      "33/33 - 0s - loss: 0.1349 - accuracy: 0.9487 - f1_m: 0.7101 - precision_m: 0.5506 - recall_m: 1.0000 - 70ms/epoch - 2ms/step\n",
      "Epoch 42/200\n",
      "33/33 - 0s - loss: 0.1334 - accuracy: 0.9497 - f1_m: 0.7102 - precision_m: 0.5506 - recall_m: 1.0000 - 81ms/epoch - 2ms/step\n",
      "Epoch 43/200\n",
      "33/33 - 0s - loss: 0.1323 - accuracy: 0.9497 - f1_m: 0.7101 - precision_m: 0.5506 - recall_m: 1.0000 - 66ms/epoch - 2ms/step\n",
      "Epoch 44/200\n",
      "33/33 - 0s - loss: 0.1314 - accuracy: 0.9506 - f1_m: 0.7101 - precision_m: 0.5506 - recall_m: 0.9999 - 64ms/epoch - 2ms/step\n",
      "Epoch 45/200\n",
      "33/33 - 0s - loss: 0.1301 - accuracy: 0.9507 - f1_m: 0.7101 - precision_m: 0.5506 - recall_m: 0.9999 - 65ms/epoch - 2ms/step\n",
      "Epoch 46/200\n",
      "33/33 - 0s - loss: 0.1289 - accuracy: 0.9513 - f1_m: 0.7100 - precision_m: 0.5506 - recall_m: 0.9999 - 76ms/epoch - 2ms/step\n",
      "Epoch 47/200\n",
      "33/33 - 0s - loss: 0.1285 - accuracy: 0.9510 - f1_m: 0.7101 - precision_m: 0.5506 - recall_m: 0.9999 - 72ms/epoch - 2ms/step\n",
      "Epoch 48/200\n",
      "33/33 - 0s - loss: 0.1276 - accuracy: 0.9520 - f1_m: 0.7101 - precision_m: 0.5506 - recall_m: 0.9999 - 67ms/epoch - 2ms/step\n",
      "Epoch 49/200\n",
      "33/33 - 0s - loss: 0.1258 - accuracy: 0.9529 - f1_m: 0.7102 - precision_m: 0.5507 - recall_m: 1.0000 - 67ms/epoch - 2ms/step\n",
      "Epoch 50/200\n",
      "33/33 - 0s - loss: 0.1252 - accuracy: 0.9536 - f1_m: 0.7101 - precision_m: 0.5506 - recall_m: 0.9999 - 76ms/epoch - 2ms/step\n",
      "Epoch 51/200\n",
      "33/33 - 0s - loss: 0.1241 - accuracy: 0.9539 - f1_m: 0.7101 - precision_m: 0.5506 - recall_m: 0.9999 - 71ms/epoch - 2ms/step\n",
      "Epoch 52/200\n",
      "33/33 - 0s - loss: 0.1230 - accuracy: 0.9549 - f1_m: 0.7102 - precision_m: 0.5507 - recall_m: 1.0000 - 64ms/epoch - 2ms/step\n",
      "Epoch 53/200\n",
      "33/33 - 0s - loss: 0.1226 - accuracy: 0.9546 - f1_m: 0.7101 - precision_m: 0.5506 - recall_m: 0.9999 - 63ms/epoch - 2ms/step\n",
      "Epoch 54/200\n",
      "33/33 - 0s - loss: 0.1218 - accuracy: 0.9550 - f1_m: 0.7101 - precision_m: 0.5506 - recall_m: 1.0000 - 70ms/epoch - 2ms/step\n",
      "Epoch 55/200\n",
      "33/33 - 0s - loss: 0.1208 - accuracy: 0.9557 - f1_m: 0.7101 - precision_m: 0.5506 - recall_m: 1.0000 - 67ms/epoch - 2ms/step\n",
      "Epoch 56/200\n",
      "33/33 - 0s - loss: 0.1202 - accuracy: 0.9558 - f1_m: 0.7102 - precision_m: 0.5506 - recall_m: 1.0000 - 67ms/epoch - 2ms/step\n",
      "Epoch 57/200\n",
      "33/33 - 0s - loss: 0.1200 - accuracy: 0.9550 - f1_m: 0.7101 - precision_m: 0.5506 - recall_m: 0.9999 - 83ms/epoch - 3ms/step\n",
      "Epoch 58/200\n",
      "33/33 - 0s - loss: 0.1189 - accuracy: 0.9560 - f1_m: 0.7101 - precision_m: 0.5506 - recall_m: 1.0000 - 68ms/epoch - 2ms/step\n",
      "Epoch 59/200\n",
      "33/33 - 0s - loss: 0.1182 - accuracy: 0.9562 - f1_m: 0.7101 - precision_m: 0.5506 - recall_m: 0.9999 - 65ms/epoch - 2ms/step\n",
      "Epoch 60/200\n",
      "33/33 - 0s - loss: 0.1184 - accuracy: 0.9558 - f1_m: 0.7102 - precision_m: 0.5506 - recall_m: 1.0000 - 81ms/epoch - 2ms/step\n",
      "Epoch 61/200\n",
      "33/33 - 0s - loss: 0.1169 - accuracy: 0.9563 - f1_m: 0.7101 - precision_m: 0.5506 - recall_m: 1.0000 - 66ms/epoch - 2ms/step\n",
      "Epoch 62/200\n",
      "33/33 - 0s - loss: 0.1165 - accuracy: 0.9568 - f1_m: 0.7101 - precision_m: 0.5506 - recall_m: 0.9999 - 67ms/epoch - 2ms/step\n",
      "Epoch 63/200\n",
      "33/33 - 0s - loss: 0.1153 - accuracy: 0.9568 - f1_m: 0.7101 - precision_m: 0.5506 - recall_m: 0.9999 - 80ms/epoch - 2ms/step\n",
      "Epoch 64/200\n",
      "33/33 - 0s - loss: 0.1146 - accuracy: 0.9571 - f1_m: 0.7101 - precision_m: 0.5506 - recall_m: 1.0000 - 68ms/epoch - 2ms/step\n",
      "Epoch 65/200\n",
      "33/33 - 0s - loss: 0.1135 - accuracy: 0.9574 - f1_m: 0.7101 - precision_m: 0.5506 - recall_m: 0.9999 - 65ms/epoch - 2ms/step\n",
      "Epoch 66/200\n",
      "33/33 - 0s - loss: 0.1136 - accuracy: 0.9572 - f1_m: 0.7101 - precision_m: 0.5506 - recall_m: 0.9999 - 61ms/epoch - 2ms/step\n",
      "Epoch 67/200\n",
      "33/33 - 0s - loss: 0.1124 - accuracy: 0.9575 - f1_m: 0.7101 - precision_m: 0.5506 - recall_m: 1.0000 - 63ms/epoch - 2ms/step\n",
      "Epoch 68/200\n",
      "33/33 - 0s - loss: 0.1121 - accuracy: 0.9574 - f1_m: 0.7101 - precision_m: 0.5506 - recall_m: 1.0000 - 69ms/epoch - 2ms/step\n",
      "Epoch 69/200\n",
      "33/33 - 0s - loss: 0.1123 - accuracy: 0.9571 - f1_m: 0.7102 - precision_m: 0.5506 - recall_m: 1.0000 - 76ms/epoch - 2ms/step\n",
      "Epoch 70/200\n",
      "33/33 - 0s - loss: 0.1108 - accuracy: 0.9579 - f1_m: 0.7101 - precision_m: 0.5506 - recall_m: 1.0000 - 68ms/epoch - 2ms/step\n",
      "Epoch 71/200\n",
      "33/33 - 0s - loss: 0.1104 - accuracy: 0.9583 - f1_m: 0.7101 - precision_m: 0.5506 - recall_m: 0.9999 - 68ms/epoch - 2ms/step\n",
      "Epoch 72/200\n",
      "33/33 - 0s - loss: 0.1096 - accuracy: 0.9586 - f1_m: 0.7101 - precision_m: 0.5506 - recall_m: 1.0000 - 84ms/epoch - 3ms/step\n",
      "Epoch 73/200\n",
      "33/33 - 0s - loss: 0.1092 - accuracy: 0.9585 - f1_m: 0.7101 - precision_m: 0.5506 - recall_m: 1.0000 - 78ms/epoch - 2ms/step\n",
      "Epoch 74/200\n",
      "33/33 - 0s - loss: 0.1091 - accuracy: 0.9586 - f1_m: 0.7101 - precision_m: 0.5506 - recall_m: 1.0000 - 70ms/epoch - 2ms/step\n",
      "Epoch 75/200\n",
      "33/33 - 0s - loss: 0.1084 - accuracy: 0.9591 - f1_m: 0.7101 - precision_m: 0.5506 - recall_m: 0.9999 - 66ms/epoch - 2ms/step\n",
      "Epoch 76/200\n",
      "33/33 - 0s - loss: 0.1082 - accuracy: 0.9586 - f1_m: 0.7101 - precision_m: 0.5506 - recall_m: 0.9999 - 64ms/epoch - 2ms/step\n",
      "Epoch 77/200\n",
      "33/33 - 0s - loss: 0.1073 - accuracy: 0.9596 - f1_m: 0.7101 - precision_m: 0.5506 - recall_m: 0.9999 - 80ms/epoch - 2ms/step\n",
      "Epoch 78/200\n",
      "33/33 - 0s - loss: 0.1074 - accuracy: 0.9589 - f1_m: 0.7101 - precision_m: 0.5506 - recall_m: 0.9999 - 66ms/epoch - 2ms/step\n",
      "Epoch 79/200\n",
      "33/33 - 0s - loss: 0.1077 - accuracy: 0.9589 - f1_m: 0.7101 - precision_m: 0.5506 - recall_m: 1.0000 - 67ms/epoch - 2ms/step\n",
      "Epoch 80/200\n",
      "33/33 - 0s - loss: 0.1064 - accuracy: 0.9596 - f1_m: 0.7101 - precision_m: 0.5506 - recall_m: 1.0000 - 65ms/epoch - 2ms/step\n",
      "Epoch 81/200\n",
      "33/33 - 0s - loss: 0.1058 - accuracy: 0.9595 - f1_m: 0.7101 - precision_m: 0.5506 - recall_m: 0.9999 - 69ms/epoch - 2ms/step\n",
      "Epoch 82/200\n",
      "33/33 - 0s - loss: 0.1054 - accuracy: 0.9594 - f1_m: 0.7101 - precision_m: 0.5506 - recall_m: 1.0000 - 78ms/epoch - 2ms/step\n",
      "Epoch 83/200\n",
      "33/33 - 0s - loss: 0.1052 - accuracy: 0.9596 - f1_m: 0.7101 - precision_m: 0.5506 - recall_m: 0.9999 - 67ms/epoch - 2ms/step\n",
      "Epoch 84/200\n",
      "33/33 - 0s - loss: 0.1055 - accuracy: 0.9592 - f1_m: 0.7101 - precision_m: 0.5506 - recall_m: 0.9999 - 77ms/epoch - 2ms/step\n",
      "Epoch 85/200\n",
      "33/33 - 0s - loss: 0.1044 - accuracy: 0.9598 - f1_m: 0.7101 - precision_m: 0.5506 - recall_m: 0.9999 - 72ms/epoch - 2ms/step\n",
      "Epoch 86/200\n",
      "33/33 - 0s - loss: 0.1035 - accuracy: 0.9602 - f1_m: 0.7101 - precision_m: 0.5506 - recall_m: 1.0000 - 66ms/epoch - 2ms/step\n",
      "Epoch 87/200\n",
      "33/33 - 0s - loss: 0.1037 - accuracy: 0.9602 - f1_m: 0.7101 - precision_m: 0.5506 - recall_m: 1.0000 - 66ms/epoch - 2ms/step\n",
      "Epoch 88/200\n",
      "33/33 - 0s - loss: 0.1032 - accuracy: 0.9603 - f1_m: 0.7101 - precision_m: 0.5506 - recall_m: 1.0000 - 78ms/epoch - 2ms/step\n",
      "Epoch 89/200\n",
      "33/33 - 0s - loss: 0.1031 - accuracy: 0.9609 - f1_m: 0.7101 - precision_m: 0.5506 - recall_m: 1.0000 - 76ms/epoch - 2ms/step\n",
      "Epoch 90/200\n",
      "33/33 - 0s - loss: 0.1028 - accuracy: 0.9604 - f1_m: 0.7101 - precision_m: 0.5506 - recall_m: 1.0000 - 89ms/epoch - 3ms/step\n",
      "Epoch 91/200\n",
      "33/33 - 0s - loss: 0.1021 - accuracy: 0.9608 - f1_m: 0.7101 - precision_m: 0.5506 - recall_m: 1.0000 - 77ms/epoch - 2ms/step\n",
      "Epoch 92/200\n",
      "33/33 - 0s - loss: 0.1024 - accuracy: 0.9603 - f1_m: 0.7101 - precision_m: 0.5506 - recall_m: 1.0000 - 70ms/epoch - 2ms/step\n",
      "Epoch 93/200\n",
      "33/33 - 0s - loss: 0.1024 - accuracy: 0.9606 - f1_m: 0.7101 - precision_m: 0.5506 - recall_m: 1.0000 - 67ms/epoch - 2ms/step\n",
      "Epoch 94/200\n",
      "33/33 - 0s - loss: 0.1014 - accuracy: 0.9610 - f1_m: 0.7101 - precision_m: 0.5506 - recall_m: 1.0000 - 67ms/epoch - 2ms/step\n",
      "Epoch 95/200\n",
      "33/33 - 0s - loss: 0.1009 - accuracy: 0.9612 - f1_m: 0.7100 - precision_m: 0.5505 - recall_m: 0.9999 - 77ms/epoch - 2ms/step\n",
      "Epoch 96/200\n",
      "33/33 - 0s - loss: 0.1015 - accuracy: 0.9603 - f1_m: 0.7101 - precision_m: 0.5506 - recall_m: 1.0000 - 69ms/epoch - 2ms/step\n",
      "Epoch 97/200\n",
      "33/33 - 0s - loss: 0.1006 - accuracy: 0.9611 - f1_m: 0.7101 - precision_m: 0.5506 - recall_m: 1.0000 - 66ms/epoch - 2ms/step\n",
      "Epoch 98/200\n",
      "33/33 - 0s - loss: 0.0999 - accuracy: 0.9612 - f1_m: 0.7101 - precision_m: 0.5506 - recall_m: 1.0000 - 66ms/epoch - 2ms/step\n",
      "Epoch 99/200\n",
      "33/33 - 0s - loss: 0.0995 - accuracy: 0.9611 - f1_m: 0.7101 - precision_m: 0.5506 - recall_m: 1.0000 - 64ms/epoch - 2ms/step\n",
      "Epoch 100/200\n",
      "33/33 - 0s - loss: 0.0992 - accuracy: 0.9614 - f1_m: 0.7101 - precision_m: 0.5506 - recall_m: 1.0000 - 79ms/epoch - 2ms/step\n",
      "Epoch 101/200\n",
      "33/33 - 0s - loss: 0.0994 - accuracy: 0.9613 - f1_m: 0.7101 - precision_m: 0.5506 - recall_m: 1.0000 - 62ms/epoch - 2ms/step\n",
      "Epoch 102/200\n",
      "33/33 - 0s - loss: 0.0988 - accuracy: 0.9616 - f1_m: 0.7101 - precision_m: 0.5506 - recall_m: 1.0000 - 63ms/epoch - 2ms/step\n",
      "Epoch 103/200\n",
      "33/33 - 0s - loss: 0.0987 - accuracy: 0.9614 - f1_m: 0.7101 - precision_m: 0.5506 - recall_m: 1.0000 - 67ms/epoch - 2ms/step\n",
      "Epoch 104/200\n",
      "33/33 - 0s - loss: 0.0982 - accuracy: 0.9621 - f1_m: 0.7101 - precision_m: 0.5505 - recall_m: 1.0000 - 63ms/epoch - 2ms/step\n",
      "Epoch 105/200\n",
      "33/33 - 0s - loss: 0.0983 - accuracy: 0.9617 - f1_m: 0.7101 - precision_m: 0.5506 - recall_m: 1.0000 - 63ms/epoch - 2ms/step\n",
      "Epoch 106/200\n",
      "33/33 - 0s - loss: 0.0977 - accuracy: 0.9621 - f1_m: 0.7101 - precision_m: 0.5506 - recall_m: 1.0000 - 65ms/epoch - 2ms/step\n",
      "Epoch 107/200\n",
      "33/33 - 0s - loss: 0.0974 - accuracy: 0.9621 - f1_m: 0.7101 - precision_m: 0.5506 - recall_m: 1.0000 - 64ms/epoch - 2ms/step\n",
      "Epoch 108/200\n",
      "33/33 - 0s - loss: 0.0973 - accuracy: 0.9623 - f1_m: 0.7101 - precision_m: 0.5506 - recall_m: 1.0000 - 81ms/epoch - 2ms/step\n",
      "Epoch 109/200\n",
      "33/33 - 0s - loss: 0.0976 - accuracy: 0.9617 - f1_m: 0.7101 - precision_m: 0.5506 - recall_m: 1.0000 - 66ms/epoch - 2ms/step\n",
      "Epoch 110/200\n",
      "33/33 - 0s - loss: 0.0969 - accuracy: 0.9623 - f1_m: 0.7101 - precision_m: 0.5506 - recall_m: 1.0000 - 64ms/epoch - 2ms/step\n",
      "Epoch 111/200\n",
      "33/33 - 0s - loss: 0.0968 - accuracy: 0.9623 - f1_m: 0.7101 - precision_m: 0.5506 - recall_m: 1.0000 - 64ms/epoch - 2ms/step\n",
      "Epoch 112/200\n",
      "33/33 - 0s - loss: 0.0964 - accuracy: 0.9625 - f1_m: 0.7101 - precision_m: 0.5506 - recall_m: 1.0000 - 61ms/epoch - 2ms/step\n",
      "Epoch 113/200\n",
      "33/33 - 0s - loss: 0.0962 - accuracy: 0.9623 - f1_m: 0.7101 - precision_m: 0.5506 - recall_m: 1.0000 - 64ms/epoch - 2ms/step\n",
      "Epoch 114/200\n",
      "33/33 - 0s - loss: 0.0959 - accuracy: 0.9625 - f1_m: 0.7101 - precision_m: 0.5506 - recall_m: 1.0000 - 66ms/epoch - 2ms/step\n",
      "Epoch 115/200\n",
      "33/33 - 0s - loss: 0.0962 - accuracy: 0.9624 - f1_m: 0.7101 - precision_m: 0.5506 - recall_m: 1.0000 - 62ms/epoch - 2ms/step\n",
      "Epoch 116/200\n",
      "33/33 - 0s - loss: 0.0955 - accuracy: 0.9626 - f1_m: 0.7101 - precision_m: 0.5506 - recall_m: 1.0000 - 62ms/epoch - 2ms/step\n",
      "Epoch 117/200\n",
      "33/33 - 0s - loss: 0.0955 - accuracy: 0.9624 - f1_m: 0.7101 - precision_m: 0.5506 - recall_m: 1.0000 - 63ms/epoch - 2ms/step\n",
      "Epoch 118/200\n",
      "33/33 - 0s - loss: 0.0953 - accuracy: 0.9626 - f1_m: 0.7101 - precision_m: 0.5506 - recall_m: 1.0000 - 61ms/epoch - 2ms/step\n",
      "Epoch 119/200\n",
      "33/33 - 0s - loss: 0.0953 - accuracy: 0.9626 - f1_m: 0.7101 - precision_m: 0.5506 - recall_m: 1.0000 - 64ms/epoch - 2ms/step\n",
      "Epoch 120/200\n",
      "33/33 - 0s - loss: 0.0950 - accuracy: 0.9625 - f1_m: 0.7101 - precision_m: 0.5506 - recall_m: 1.0000 - 63ms/epoch - 2ms/step\n",
      "Epoch 121/200\n",
      "33/33 - 0s - loss: 0.0950 - accuracy: 0.9625 - f1_m: 0.7101 - precision_m: 0.5506 - recall_m: 1.0000 - 68ms/epoch - 2ms/step\n",
      "Epoch 122/200\n",
      "33/33 - 0s - loss: 0.0946 - accuracy: 0.9627 - f1_m: 0.7101 - precision_m: 0.5506 - recall_m: 1.0000 - 66ms/epoch - 2ms/step\n",
      "Epoch 123/200\n",
      "33/33 - 0s - loss: 0.0948 - accuracy: 0.9628 - f1_m: 0.7101 - precision_m: 0.5506 - recall_m: 1.0000 - 64ms/epoch - 2ms/step\n",
      "Epoch 124/200\n",
      "33/33 - 0s - loss: 0.0944 - accuracy: 0.9627 - f1_m: 0.7101 - precision_m: 0.5506 - recall_m: 1.0000 - 62ms/epoch - 2ms/step\n",
      "Epoch 125/200\n",
      "33/33 - 0s - loss: 0.0946 - accuracy: 0.9631 - f1_m: 0.7102 - precision_m: 0.5506 - recall_m: 1.0000 - 79ms/epoch - 2ms/step\n",
      "Epoch 126/200\n",
      "33/33 - 0s - loss: 0.0944 - accuracy: 0.9630 - f1_m: 0.7101 - precision_m: 0.5506 - recall_m: 1.0000 - 75ms/epoch - 2ms/step\n",
      "Epoch 127/200\n",
      "33/33 - 0s - loss: 0.0940 - accuracy: 0.9628 - f1_m: 0.7101 - precision_m: 0.5506 - recall_m: 1.0000 - 64ms/epoch - 2ms/step\n",
      "Epoch 128/200\n",
      "33/33 - 0s - loss: 0.0938 - accuracy: 0.9633 - f1_m: 0.7101 - precision_m: 0.5506 - recall_m: 1.0000 - 68ms/epoch - 2ms/step\n",
      "Epoch 129/200\n",
      "33/33 - 0s - loss: 0.0938 - accuracy: 0.9628 - f1_m: 0.7102 - precision_m: 0.5506 - recall_m: 1.0000 - 81ms/epoch - 2ms/step\n",
      "Epoch 130/200\n",
      "33/33 - 0s - loss: 0.0941 - accuracy: 0.9624 - f1_m: 0.7101 - precision_m: 0.5506 - recall_m: 1.0000 - 71ms/epoch - 2ms/step\n",
      "Epoch 131/200\n",
      "33/33 - 0s - loss: 0.0948 - accuracy: 0.9625 - f1_m: 0.7101 - precision_m: 0.5506 - recall_m: 1.0000 - 63ms/epoch - 2ms/step\n",
      "Epoch 132/200\n",
      "33/33 - 0s - loss: 0.0939 - accuracy: 0.9630 - f1_m: 0.7101 - precision_m: 0.5506 - recall_m: 1.0000 - 69ms/epoch - 2ms/step\n",
      "Epoch 133/200\n",
      "33/33 - 0s - loss: 0.0932 - accuracy: 0.9635 - f1_m: 0.7101 - precision_m: 0.5506 - recall_m: 1.0000 - 70ms/epoch - 2ms/step\n",
      "Epoch 134/200\n",
      "33/33 - 0s - loss: 0.0938 - accuracy: 0.9632 - f1_m: 0.7101 - precision_m: 0.5506 - recall_m: 1.0000 - 78ms/epoch - 2ms/step\n",
      "Epoch 135/200\n",
      "33/33 - 0s - loss: 0.0932 - accuracy: 0.9632 - f1_m: 0.7101 - precision_m: 0.5506 - recall_m: 1.0000 - 69ms/epoch - 2ms/step\n",
      "Epoch 136/200\n",
      "33/33 - 0s - loss: 0.0931 - accuracy: 0.9631 - f1_m: 0.7101 - precision_m: 0.5506 - recall_m: 1.0000 - 65ms/epoch - 2ms/step\n",
      "Epoch 137/200\n",
      "33/33 - 0s - loss: 0.0927 - accuracy: 0.9639 - f1_m: 0.7101 - precision_m: 0.5506 - recall_m: 1.0000 - 69ms/epoch - 2ms/step\n",
      "Epoch 138/200\n",
      "33/33 - 0s - loss: 0.0936 - accuracy: 0.9629 - f1_m: 0.7101 - precision_m: 0.5506 - recall_m: 1.0000 - 85ms/epoch - 3ms/step\n",
      "Epoch 139/200\n",
      "33/33 - 0s - loss: 0.0938 - accuracy: 0.9632 - f1_m: 0.7101 - precision_m: 0.5506 - recall_m: 1.0000 - 64ms/epoch - 2ms/step\n",
      "Epoch 140/200\n",
      "33/33 - 0s - loss: 0.0940 - accuracy: 0.9627 - f1_m: 0.7101 - precision_m: 0.5506 - recall_m: 1.0000 - 62ms/epoch - 2ms/step\n",
      "Epoch 141/200\n",
      "33/33 - 0s - loss: 0.0925 - accuracy: 0.9637 - f1_m: 0.7101 - precision_m: 0.5506 - recall_m: 1.0000 - 64ms/epoch - 2ms/step\n",
      "Epoch 142/200\n",
      "33/33 - 0s - loss: 0.0923 - accuracy: 0.9639 - f1_m: 0.7101 - precision_m: 0.5506 - recall_m: 1.0000 - 67ms/epoch - 2ms/step\n",
      "Epoch 143/200\n",
      "33/33 - 0s - loss: 0.0923 - accuracy: 0.9638 - f1_m: 0.7101 - precision_m: 0.5506 - recall_m: 1.0000 - 92ms/epoch - 3ms/step\n",
      "Epoch 144/200\n",
      "33/33 - 0s - loss: 0.0930 - accuracy: 0.9633 - f1_m: 0.7101 - precision_m: 0.5506 - recall_m: 1.0000 - 67ms/epoch - 2ms/step\n",
      "Epoch 145/200\n",
      "33/33 - 0s - loss: 0.0924 - accuracy: 0.9635 - f1_m: 0.7101 - precision_m: 0.5506 - recall_m: 1.0000 - 62ms/epoch - 2ms/step\n",
      "Epoch 146/200\n",
      "33/33 - 0s - loss: 0.0923 - accuracy: 0.9638 - f1_m: 0.7101 - precision_m: 0.5506 - recall_m: 1.0000 - 76ms/epoch - 2ms/step\n",
      "Epoch 147/200\n",
      "33/33 - 0s - loss: 0.0925 - accuracy: 0.9638 - f1_m: 0.7101 - precision_m: 0.5506 - recall_m: 1.0000 - 63ms/epoch - 2ms/step\n",
      "Epoch 148/200\n",
      "33/33 - 0s - loss: 0.0923 - accuracy: 0.9638 - f1_m: 0.7101 - precision_m: 0.5506 - recall_m: 1.0000 - 62ms/epoch - 2ms/step\n",
      "Epoch 149/200\n",
      "33/33 - 0s - loss: 0.0920 - accuracy: 0.9639 - f1_m: 0.7101 - precision_m: 0.5506 - recall_m: 1.0000 - 63ms/epoch - 2ms/step\n",
      "Epoch 150/200\n",
      "33/33 - 0s - loss: 0.0918 - accuracy: 0.9639 - f1_m: 0.7102 - precision_m: 0.5506 - recall_m: 1.0000 - 61ms/epoch - 2ms/step\n",
      "Epoch 151/200\n",
      "33/33 - 0s - loss: 0.0922 - accuracy: 0.9636 - f1_m: 0.7101 - precision_m: 0.5506 - recall_m: 1.0000 - 63ms/epoch - 2ms/step\n",
      "Epoch 152/200\n",
      "33/33 - 0s - loss: 0.0917 - accuracy: 0.9638 - f1_m: 0.7101 - precision_m: 0.5506 - recall_m: 1.0000 - 61ms/epoch - 2ms/step\n",
      "Epoch 153/200\n",
      "33/33 - 0s - loss: 0.0924 - accuracy: 0.9634 - f1_m: 0.7101 - precision_m: 0.5506 - recall_m: 1.0000 - 62ms/epoch - 2ms/step\n",
      "Epoch 154/200\n",
      "33/33 - 0s - loss: 0.0914 - accuracy: 0.9639 - f1_m: 0.7101 - precision_m: 0.5506 - recall_m: 1.0000 - 63ms/epoch - 2ms/step\n",
      "Epoch 155/200\n",
      "33/33 - 0s - loss: 0.0914 - accuracy: 0.9640 - f1_m: 0.7101 - precision_m: 0.5506 - recall_m: 1.0000 - 63ms/epoch - 2ms/step\n",
      "Epoch 156/200\n",
      "33/33 - 0s - loss: 0.0916 - accuracy: 0.9639 - f1_m: 0.7101 - precision_m: 0.5506 - recall_m: 1.0000 - 61ms/epoch - 2ms/step\n",
      "Epoch 157/200\n",
      "33/33 - 0s - loss: 0.0916 - accuracy: 0.9639 - f1_m: 0.7101 - precision_m: 0.5506 - recall_m: 1.0000 - 64ms/epoch - 2ms/step\n",
      "Epoch 158/200\n",
      "33/33 - 0s - loss: 0.0913 - accuracy: 0.9641 - f1_m: 0.7101 - precision_m: 0.5506 - recall_m: 1.0000 - 63ms/epoch - 2ms/step\n",
      "Epoch 159/200\n",
      "33/33 - 0s - loss: 0.0914 - accuracy: 0.9635 - f1_m: 0.7101 - precision_m: 0.5506 - recall_m: 1.0000 - 62ms/epoch - 2ms/step\n",
      "Epoch 160/200\n",
      "33/33 - 0s - loss: 0.0908 - accuracy: 0.9642 - f1_m: 0.7101 - precision_m: 0.5506 - recall_m: 1.0000 - 62ms/epoch - 2ms/step\n",
      "Epoch 161/200\n",
      "33/33 - 0s - loss: 0.0911 - accuracy: 0.9643 - f1_m: 0.7101 - precision_m: 0.5506 - recall_m: 1.0000 - 62ms/epoch - 2ms/step\n",
      "Epoch 162/200\n",
      "33/33 - 0s - loss: 0.0915 - accuracy: 0.9638 - f1_m: 0.7101 - precision_m: 0.5506 - recall_m: 1.0000 - 66ms/epoch - 2ms/step\n",
      "Epoch 163/200\n",
      "33/33 - 0s - loss: 0.0914 - accuracy: 0.9637 - f1_m: 0.7101 - precision_m: 0.5506 - recall_m: 1.0000 - 71ms/epoch - 2ms/step\n",
      "Epoch 164/200\n",
      "33/33 - 0s - loss: 0.0908 - accuracy: 0.9642 - f1_m: 0.7101 - precision_m: 0.5506 - recall_m: 1.0000 - 61ms/epoch - 2ms/step\n",
      "Epoch 165/200\n",
      "33/33 - 0s - loss: 0.0913 - accuracy: 0.9637 - f1_m: 0.7102 - precision_m: 0.5506 - recall_m: 1.0000 - 63ms/epoch - 2ms/step\n",
      "Epoch 166/200\n",
      "33/33 - 0s - loss: 0.0909 - accuracy: 0.9644 - f1_m: 0.7100 - precision_m: 0.5505 - recall_m: 1.0000 - 61ms/epoch - 2ms/step\n",
      "Epoch 167/200\n",
      "33/33 - 0s - loss: 0.0908 - accuracy: 0.9645 - f1_m: 0.7101 - precision_m: 0.5506 - recall_m: 1.0000 - 61ms/epoch - 2ms/step\n",
      "Epoch 168/200\n",
      "33/33 - 0s - loss: 0.0906 - accuracy: 0.9646 - f1_m: 0.7101 - precision_m: 0.5506 - recall_m: 1.0000 - 67ms/epoch - 2ms/step\n",
      "Epoch 169/200\n",
      "33/33 - 0s - loss: 0.0906 - accuracy: 0.9643 - f1_m: 0.7102 - precision_m: 0.5506 - recall_m: 1.0000 - 62ms/epoch - 2ms/step\n",
      "Epoch 170/200\n",
      "33/33 - 0s - loss: 0.0903 - accuracy: 0.9645 - f1_m: 0.7100 - precision_m: 0.5505 - recall_m: 1.0000 - 62ms/epoch - 2ms/step\n",
      "Epoch 171/200\n",
      "33/33 - 0s - loss: 0.0909 - accuracy: 0.9640 - f1_m: 0.7101 - precision_m: 0.5506 - recall_m: 1.0000 - 64ms/epoch - 2ms/step\n",
      "Epoch 172/200\n",
      "33/33 - 0s - loss: 0.0901 - accuracy: 0.9647 - f1_m: 0.7101 - precision_m: 0.5506 - recall_m: 1.0000 - 66ms/epoch - 2ms/step\n",
      "Epoch 173/200\n",
      "33/33 - 0s - loss: 0.0911 - accuracy: 0.9638 - f1_m: 0.7101 - precision_m: 0.5506 - recall_m: 1.0000 - 63ms/epoch - 2ms/step\n",
      "Epoch 174/200\n",
      "33/33 - 0s - loss: 0.0903 - accuracy: 0.9641 - f1_m: 0.7101 - precision_m: 0.5506 - recall_m: 1.0000 - 62ms/epoch - 2ms/step\n",
      "Epoch 175/200\n",
      "33/33 - 0s - loss: 0.0901 - accuracy: 0.9645 - f1_m: 0.7101 - precision_m: 0.5506 - recall_m: 1.0000 - 63ms/epoch - 2ms/step\n",
      "Epoch 176/200\n",
      "33/33 - 0s - loss: 0.0901 - accuracy: 0.9647 - f1_m: 0.7101 - precision_m: 0.5506 - recall_m: 1.0000 - 66ms/epoch - 2ms/step\n",
      "Epoch 177/200\n",
      "33/33 - 0s - loss: 0.0912 - accuracy: 0.9640 - f1_m: 0.7101 - precision_m: 0.5506 - recall_m: 1.0000 - 62ms/epoch - 2ms/step\n",
      "Epoch 178/200\n",
      "33/33 - 0s - loss: 0.0906 - accuracy: 0.9646 - f1_m: 0.7101 - precision_m: 0.5506 - recall_m: 1.0000 - 63ms/epoch - 2ms/step\n",
      "Epoch 179/200\n",
      "33/33 - 0s - loss: 0.0901 - accuracy: 0.9643 - f1_m: 0.7101 - precision_m: 0.5506 - recall_m: 1.0000 - 62ms/epoch - 2ms/step\n",
      "Epoch 180/200\n",
      "33/33 - 0s - loss: 0.0899 - accuracy: 0.9645 - f1_m: 0.7101 - precision_m: 0.5506 - recall_m: 1.0000 - 63ms/epoch - 2ms/step\n",
      "Epoch 181/200\n",
      "33/33 - 0s - loss: 0.0898 - accuracy: 0.9652 - f1_m: 0.7101 - precision_m: 0.5506 - recall_m: 1.0000 - 63ms/epoch - 2ms/step\n",
      "Epoch 182/200\n",
      "33/33 - 0s - loss: 0.0903 - accuracy: 0.9641 - f1_m: 0.7101 - precision_m: 0.5506 - recall_m: 1.0000 - 83ms/epoch - 3ms/step\n",
      "Epoch 183/200\n",
      "33/33 - 0s - loss: 0.0899 - accuracy: 0.9640 - f1_m: 0.7101 - precision_m: 0.5506 - recall_m: 1.0000 - 63ms/epoch - 2ms/step\n",
      "Epoch 184/200\n",
      "33/33 - 0s - loss: 0.0898 - accuracy: 0.9647 - f1_m: 0.7101 - precision_m: 0.5506 - recall_m: 1.0000 - 64ms/epoch - 2ms/step\n",
      "Epoch 185/200\n",
      "33/33 - 0s - loss: 0.0897 - accuracy: 0.9644 - f1_m: 0.7101 - precision_m: 0.5506 - recall_m: 1.0000 - 62ms/epoch - 2ms/step\n",
      "Epoch 186/200\n",
      "33/33 - 0s - loss: 0.0902 - accuracy: 0.9639 - f1_m: 0.7101 - precision_m: 0.5506 - recall_m: 1.0000 - 61ms/epoch - 2ms/step\n",
      "Epoch 187/200\n",
      "33/33 - 0s - loss: 0.0896 - accuracy: 0.9646 - f1_m: 0.7101 - precision_m: 0.5506 - recall_m: 1.0000 - 64ms/epoch - 2ms/step\n",
      "Epoch 188/200\n",
      "33/33 - 0s - loss: 0.0899 - accuracy: 0.9647 - f1_m: 0.7101 - precision_m: 0.5506 - recall_m: 1.0000 - 62ms/epoch - 2ms/step\n",
      "Epoch 189/200\n",
      "33/33 - 0s - loss: 0.0905 - accuracy: 0.9641 - f1_m: 0.7101 - precision_m: 0.5506 - recall_m: 1.0000 - 64ms/epoch - 2ms/step\n",
      "Epoch 190/200\n",
      "33/33 - 0s - loss: 0.0894 - accuracy: 0.9646 - f1_m: 0.7101 - precision_m: 0.5506 - recall_m: 1.0000 - 63ms/epoch - 2ms/step\n",
      "Epoch 191/200\n",
      "33/33 - 0s - loss: 0.0891 - accuracy: 0.9647 - f1_m: 0.7101 - precision_m: 0.5506 - recall_m: 1.0000 - 62ms/epoch - 2ms/step\n",
      "Epoch 192/200\n",
      "33/33 - 0s - loss: 0.0893 - accuracy: 0.9646 - f1_m: 0.7101 - precision_m: 0.5506 - recall_m: 1.0000 - 70ms/epoch - 2ms/step\n",
      "Epoch 193/200\n",
      "33/33 - 0s - loss: 0.0889 - accuracy: 0.9651 - f1_m: 0.7101 - precision_m: 0.5506 - recall_m: 1.0000 - 62ms/epoch - 2ms/step\n",
      "Epoch 194/200\n",
      "33/33 - 0s - loss: 0.0904 - accuracy: 0.9643 - f1_m: 0.7101 - precision_m: 0.5506 - recall_m: 1.0000 - 65ms/epoch - 2ms/step\n",
      "Epoch 195/200\n",
      "33/33 - 0s - loss: 0.0894 - accuracy: 0.9648 - f1_m: 0.7101 - precision_m: 0.5506 - recall_m: 1.0000 - 62ms/epoch - 2ms/step\n",
      "Epoch 196/200\n",
      "33/33 - 0s - loss: 0.0888 - accuracy: 0.9648 - f1_m: 0.7101 - precision_m: 0.5506 - recall_m: 1.0000 - 61ms/epoch - 2ms/step\n",
      "Epoch 197/200\n",
      "33/33 - 0s - loss: 0.0893 - accuracy: 0.9645 - f1_m: 0.7101 - precision_m: 0.5506 - recall_m: 1.0000 - 62ms/epoch - 2ms/step\n",
      "Epoch 198/200\n",
      "33/33 - 0s - loss: 0.0889 - accuracy: 0.9645 - f1_m: 0.7101 - precision_m: 0.5506 - recall_m: 1.0000 - 64ms/epoch - 2ms/step\n",
      "Epoch 199/200\n",
      "33/33 - 0s - loss: 0.0889 - accuracy: 0.9650 - f1_m: 0.7101 - precision_m: 0.5506 - recall_m: 1.0000 - 65ms/epoch - 2ms/step\n",
      "Epoch 200/200\n",
      "33/33 - 0s - loss: 0.0895 - accuracy: 0.9647 - f1_m: 0.7101 - precision_m: 0.5506 - recall_m: 1.0000 - 62ms/epoch - 2ms/step\n"
     ]
    }
   ],
   "source": [
    "#Build the feed forward neural network model\n",
    "def build_model():\n",
    "    model = Sequential()\n",
    "    model.add(Dense(20, input_dim=56, activation='relu'))\n",
    "    model.add(Dense(20, activation='relu'))\n",
    "    model.add(Dense(20, activation='softmax')) #for multiclass classification\n",
    "    #Compile the model\n",
    "    model.compile(loss='sparse_categorical_crossentropy', optimizer='adam',\n",
    "                  metrics=['accuracy',f1_m,precision_m, recall_m]\n",
    "                 )\n",
    "    return model\n",
    "\n",
    "#institate the model\n",
    "model = build_model()\n",
    "\n",
    "#fit the model\n",
    "start = time.time()\n",
    "model.fit(X_train, y_train, epochs=200, batch_size=2000,verbose=2)\n",
    "end_train = time.time()"
   ]
  },
  {
   "cell_type": "code",
   "execution_count": 72,
   "metadata": {},
   "outputs": [
    {
     "name": "stdout",
     "output_type": "stream",
     "text": [
      "515/515 [==============================] - 1s 833us/step - loss: 0.0948 - accuracy: 0.9613 - f1_m: 0.7060 - precision_m: 0.5505 - recall_m: 1.0000\n"
     ]
    }
   ],
   "source": [
    "#Evaluate the neural network\n",
    "loss, accuracy, f1s, precision, recall = model.evaluate(X_test, y_test)\n",
    "end_predict = time.time()\n",
    "model_performance.loc['MLP (Keras)'] = [accuracy, accuracy, accuracy, accuracy,end_train-start,end_predict-end_train,end_predict-start]"
   ]
  },
  {
   "cell_type": "markdown",
   "metadata": {},
   "source": [
    "GRU (Keras)"
   ]
  },
  {
   "cell_type": "code",
   "execution_count": 73,
   "metadata": {},
   "outputs": [
    {
     "name": "stdout",
     "output_type": "stream",
     "text": [
      "65865\n",
      "Epoch 1/200\n",
      "33/33 - 3s - loss: 2.0981 - accuracy: 0.4483 - 3s/epoch - 86ms/step\n",
      "Epoch 2/200\n",
      "33/33 - 0s - loss: 1.4006 - accuracy: 0.6926 - 156ms/epoch - 5ms/step\n",
      "Epoch 3/200\n",
      "33/33 - 0s - loss: 0.8163 - accuracy: 0.7217 - 155ms/epoch - 5ms/step\n",
      "Epoch 4/200\n",
      "33/33 - 0s - loss: 0.6031 - accuracy: 0.7512 - 156ms/epoch - 5ms/step\n",
      "Epoch 5/200\n",
      "33/33 - 0s - loss: 0.5246 - accuracy: 0.7600 - 170ms/epoch - 5ms/step\n",
      "Epoch 6/200\n",
      "33/33 - 0s - loss: 0.4675 - accuracy: 0.7697 - 159ms/epoch - 5ms/step\n",
      "Epoch 7/200\n",
      "33/33 - 0s - loss: 0.4134 - accuracy: 0.7929 - 155ms/epoch - 5ms/step\n",
      "Epoch 8/200\n",
      "33/33 - 0s - loss: 0.3657 - accuracy: 0.8246 - 154ms/epoch - 5ms/step\n",
      "Epoch 9/200\n",
      "33/33 - 0s - loss: 0.3221 - accuracy: 0.8571 - 166ms/epoch - 5ms/step\n",
      "Epoch 10/200\n",
      "33/33 - 0s - loss: 0.2831 - accuracy: 0.8727 - 155ms/epoch - 5ms/step\n",
      "Epoch 11/200\n",
      "33/33 - 0s - loss: 0.2543 - accuracy: 0.8890 - 156ms/epoch - 5ms/step\n",
      "Epoch 12/200\n",
      "33/33 - 0s - loss: 0.2337 - accuracy: 0.8995 - 157ms/epoch - 5ms/step\n",
      "Epoch 13/200\n",
      "33/33 - 0s - loss: 0.2186 - accuracy: 0.9067 - 160ms/epoch - 5ms/step\n",
      "Epoch 14/200\n",
      "33/33 - 0s - loss: 0.2068 - accuracy: 0.9110 - 159ms/epoch - 5ms/step\n",
      "Epoch 15/200\n",
      "33/33 - 0s - loss: 0.1971 - accuracy: 0.9163 - 158ms/epoch - 5ms/step\n",
      "Epoch 16/200\n",
      "33/33 - 0s - loss: 0.1892 - accuracy: 0.9199 - 155ms/epoch - 5ms/step\n",
      "Epoch 17/200\n",
      "33/33 - 0s - loss: 0.1819 - accuracy: 0.9245 - 157ms/epoch - 5ms/step\n",
      "Epoch 18/200\n",
      "33/33 - 0s - loss: 0.1749 - accuracy: 0.9278 - 155ms/epoch - 5ms/step\n",
      "Epoch 19/200\n",
      "33/33 - 0s - loss: 0.1689 - accuracy: 0.9311 - 159ms/epoch - 5ms/step\n",
      "Epoch 20/200\n",
      "33/33 - 0s - loss: 0.1634 - accuracy: 0.9340 - 158ms/epoch - 5ms/step\n",
      "Epoch 21/200\n",
      "33/33 - 0s - loss: 0.1582 - accuracy: 0.9371 - 166ms/epoch - 5ms/step\n",
      "Epoch 22/200\n",
      "33/33 - 0s - loss: 0.1536 - accuracy: 0.9392 - 184ms/epoch - 6ms/step\n",
      "Epoch 23/200\n",
      "33/33 - 0s - loss: 0.1492 - accuracy: 0.9422 - 170ms/epoch - 5ms/step\n",
      "Epoch 24/200\n",
      "33/33 - 0s - loss: 0.1457 - accuracy: 0.9436 - 159ms/epoch - 5ms/step\n",
      "Epoch 25/200\n",
      "33/33 - 0s - loss: 0.1423 - accuracy: 0.9455 - 157ms/epoch - 5ms/step\n",
      "Epoch 26/200\n",
      "33/33 - 0s - loss: 0.1388 - accuracy: 0.9481 - 156ms/epoch - 5ms/step\n",
      "Epoch 27/200\n",
      "33/33 - 0s - loss: 0.1365 - accuracy: 0.9483 - 157ms/epoch - 5ms/step\n",
      "Epoch 28/200\n",
      "33/33 - 0s - loss: 0.1340 - accuracy: 0.9497 - 160ms/epoch - 5ms/step\n",
      "Epoch 29/200\n",
      "33/33 - 0s - loss: 0.1319 - accuracy: 0.9512 - 159ms/epoch - 5ms/step\n",
      "Epoch 30/200\n",
      "33/33 - 0s - loss: 0.1300 - accuracy: 0.9526 - 158ms/epoch - 5ms/step\n",
      "Epoch 31/200\n",
      "33/33 - 0s - loss: 0.1281 - accuracy: 0.9533 - 158ms/epoch - 5ms/step\n",
      "Epoch 32/200\n",
      "33/33 - 0s - loss: 0.1265 - accuracy: 0.9543 - 160ms/epoch - 5ms/step\n",
      "Epoch 33/200\n",
      "33/33 - 0s - loss: 0.1250 - accuracy: 0.9553 - 156ms/epoch - 5ms/step\n",
      "Epoch 34/200\n",
      "33/33 - 0s - loss: 0.1238 - accuracy: 0.9549 - 157ms/epoch - 5ms/step\n",
      "Epoch 35/200\n",
      "33/33 - 0s - loss: 0.1229 - accuracy: 0.9559 - 171ms/epoch - 5ms/step\n",
      "Epoch 36/200\n",
      "33/33 - 0s - loss: 0.1213 - accuracy: 0.9566 - 158ms/epoch - 5ms/step\n",
      "Epoch 37/200\n",
      "33/33 - 0s - loss: 0.1202 - accuracy: 0.9573 - 159ms/epoch - 5ms/step\n",
      "Epoch 38/200\n",
      "33/33 - 0s - loss: 0.1191 - accuracy: 0.9575 - 157ms/epoch - 5ms/step\n",
      "Epoch 39/200\n",
      "33/33 - 0s - loss: 0.1185 - accuracy: 0.9571 - 162ms/epoch - 5ms/step\n",
      "Epoch 40/200\n",
      "33/33 - 0s - loss: 0.1170 - accuracy: 0.9581 - 159ms/epoch - 5ms/step\n",
      "Epoch 41/200\n",
      "33/33 - 0s - loss: 0.1165 - accuracy: 0.9581 - 164ms/epoch - 5ms/step\n",
      "Epoch 42/200\n",
      "33/33 - 0s - loss: 0.1159 - accuracy: 0.9577 - 167ms/epoch - 5ms/step\n",
      "Epoch 43/200\n",
      "33/33 - 0s - loss: 0.1144 - accuracy: 0.9587 - 157ms/epoch - 5ms/step\n",
      "Epoch 44/200\n",
      "33/33 - 0s - loss: 0.1133 - accuracy: 0.9592 - 158ms/epoch - 5ms/step\n",
      "Epoch 45/200\n",
      "33/33 - 0s - loss: 0.1130 - accuracy: 0.9592 - 158ms/epoch - 5ms/step\n",
      "Epoch 46/200\n",
      "33/33 - 0s - loss: 0.1125 - accuracy: 0.9589 - 157ms/epoch - 5ms/step\n",
      "Epoch 47/200\n",
      "33/33 - 0s - loss: 0.1114 - accuracy: 0.9595 - 157ms/epoch - 5ms/step\n",
      "Epoch 48/200\n",
      "33/33 - 0s - loss: 0.1109 - accuracy: 0.9592 - 156ms/epoch - 5ms/step\n",
      "Epoch 49/200\n",
      "33/33 - 0s - loss: 0.1102 - accuracy: 0.9604 - 157ms/epoch - 5ms/step\n",
      "Epoch 50/200\n",
      "33/33 - 0s - loss: 0.1097 - accuracy: 0.9597 - 157ms/epoch - 5ms/step\n",
      "Epoch 51/200\n",
      "33/33 - 0s - loss: 0.1087 - accuracy: 0.9602 - 155ms/epoch - 5ms/step\n",
      "Epoch 52/200\n",
      "33/33 - 0s - loss: 0.1082 - accuracy: 0.9605 - 158ms/epoch - 5ms/step\n",
      "Epoch 53/200\n",
      "33/33 - 0s - loss: 0.1082 - accuracy: 0.9599 - 157ms/epoch - 5ms/step\n",
      "Epoch 54/200\n",
      "33/33 - 0s - loss: 0.1070 - accuracy: 0.9611 - 157ms/epoch - 5ms/step\n",
      "Epoch 55/200\n",
      "33/33 - 0s - loss: 0.1066 - accuracy: 0.9613 - 155ms/epoch - 5ms/step\n",
      "Epoch 56/200\n",
      "33/33 - 0s - loss: 0.1065 - accuracy: 0.9611 - 158ms/epoch - 5ms/step\n",
      "Epoch 57/200\n",
      "33/33 - 0s - loss: 0.1058 - accuracy: 0.9610 - 157ms/epoch - 5ms/step\n",
      "Epoch 58/200\n",
      "33/33 - 0s - loss: 0.1051 - accuracy: 0.9613 - 158ms/epoch - 5ms/step\n",
      "Epoch 59/200\n",
      "33/33 - 0s - loss: 0.1046 - accuracy: 0.9617 - 157ms/epoch - 5ms/step\n",
      "Epoch 60/200\n",
      "33/33 - 0s - loss: 0.1040 - accuracy: 0.9618 - 158ms/epoch - 5ms/step\n",
      "Epoch 61/200\n",
      "33/33 - 0s - loss: 0.1041 - accuracy: 0.9615 - 157ms/epoch - 5ms/step\n",
      "Epoch 62/200\n",
      "33/33 - 0s - loss: 0.1035 - accuracy: 0.9623 - 156ms/epoch - 5ms/step\n",
      "Epoch 63/200\n",
      "33/33 - 0s - loss: 0.1035 - accuracy: 0.9625 - 158ms/epoch - 5ms/step\n",
      "Epoch 64/200\n",
      "33/33 - 0s - loss: 0.1031 - accuracy: 0.9622 - 157ms/epoch - 5ms/step\n",
      "Epoch 65/200\n",
      "33/33 - 0s - loss: 0.1020 - accuracy: 0.9625 - 159ms/epoch - 5ms/step\n",
      "Epoch 66/200\n",
      "33/33 - 0s - loss: 0.1028 - accuracy: 0.9619 - 158ms/epoch - 5ms/step\n",
      "Epoch 67/200\n",
      "33/33 - 0s - loss: 0.1020 - accuracy: 0.9626 - 159ms/epoch - 5ms/step\n",
      "Epoch 68/200\n",
      "33/33 - 0s - loss: 0.1014 - accuracy: 0.9627 - 157ms/epoch - 5ms/step\n",
      "Epoch 69/200\n",
      "33/33 - 0s - loss: 0.1008 - accuracy: 0.9630 - 159ms/epoch - 5ms/step\n",
      "Epoch 70/200\n",
      "33/33 - 0s - loss: 0.1006 - accuracy: 0.9630 - 156ms/epoch - 5ms/step\n",
      "Epoch 71/200\n",
      "33/33 - 0s - loss: 0.1003 - accuracy: 0.9632 - 160ms/epoch - 5ms/step\n",
      "Epoch 72/200\n",
      "33/33 - 0s - loss: 0.0998 - accuracy: 0.9635 - 160ms/epoch - 5ms/step\n",
      "Epoch 73/200\n",
      "33/33 - 0s - loss: 0.0993 - accuracy: 0.9634 - 159ms/epoch - 5ms/step\n",
      "Epoch 74/200\n",
      "33/33 - 0s - loss: 0.0989 - accuracy: 0.9638 - 174ms/epoch - 5ms/step\n",
      "Epoch 75/200\n",
      "33/33 - 0s - loss: 0.0985 - accuracy: 0.9639 - 160ms/epoch - 5ms/step\n",
      "Epoch 76/200\n",
      "33/33 - 0s - loss: 0.0986 - accuracy: 0.9637 - 166ms/epoch - 5ms/step\n",
      "Epoch 77/200\n",
      "33/33 - 0s - loss: 0.0979 - accuracy: 0.9641 - 162ms/epoch - 5ms/step\n",
      "Epoch 78/200\n",
      "33/33 - 0s - loss: 0.0985 - accuracy: 0.9632 - 157ms/epoch - 5ms/step\n",
      "Epoch 79/200\n",
      "33/33 - 0s - loss: 0.0977 - accuracy: 0.9635 - 160ms/epoch - 5ms/step\n",
      "Epoch 80/200\n",
      "33/33 - 0s - loss: 0.0975 - accuracy: 0.9634 - 157ms/epoch - 5ms/step\n",
      "Epoch 81/200\n",
      "33/33 - 0s - loss: 0.0969 - accuracy: 0.9642 - 159ms/epoch - 5ms/step\n",
      "Epoch 82/200\n",
      "33/33 - 0s - loss: 0.0965 - accuracy: 0.9638 - 160ms/epoch - 5ms/step\n",
      "Epoch 83/200\n",
      "33/33 - 0s - loss: 0.0967 - accuracy: 0.9638 - 160ms/epoch - 5ms/step\n",
      "Epoch 84/200\n",
      "33/33 - 0s - loss: 0.0964 - accuracy: 0.9638 - 168ms/epoch - 5ms/step\n",
      "Epoch 85/200\n",
      "33/33 - 0s - loss: 0.0958 - accuracy: 0.9645 - 161ms/epoch - 5ms/step\n",
      "Epoch 86/200\n",
      "33/33 - 0s - loss: 0.0951 - accuracy: 0.9648 - 158ms/epoch - 5ms/step\n",
      "Epoch 87/200\n",
      "33/33 - 0s - loss: 0.0951 - accuracy: 0.9644 - 159ms/epoch - 5ms/step\n",
      "Epoch 88/200\n",
      "33/33 - 0s - loss: 0.0948 - accuracy: 0.9646 - 158ms/epoch - 5ms/step\n",
      "Epoch 89/200\n",
      "33/33 - 0s - loss: 0.0942 - accuracy: 0.9650 - 158ms/epoch - 5ms/step\n",
      "Epoch 90/200\n",
      "33/33 - 0s - loss: 0.0942 - accuracy: 0.9648 - 162ms/epoch - 5ms/step\n",
      "Epoch 91/200\n",
      "33/33 - 0s - loss: 0.0943 - accuracy: 0.9645 - 160ms/epoch - 5ms/step\n",
      "Epoch 92/200\n",
      "33/33 - 0s - loss: 0.0943 - accuracy: 0.9644 - 162ms/epoch - 5ms/step\n",
      "Epoch 93/200\n",
      "33/33 - 0s - loss: 0.0946 - accuracy: 0.9644 - 156ms/epoch - 5ms/step\n",
      "Epoch 94/200\n",
      "33/33 - 0s - loss: 0.0933 - accuracy: 0.9648 - 161ms/epoch - 5ms/step\n",
      "Epoch 95/200\n",
      "33/33 - 0s - loss: 0.0939 - accuracy: 0.9650 - 159ms/epoch - 5ms/step\n",
      "Epoch 96/200\n",
      "33/33 - 0s - loss: 0.0924 - accuracy: 0.9652 - 159ms/epoch - 5ms/step\n",
      "Epoch 97/200\n",
      "33/33 - 0s - loss: 0.0933 - accuracy: 0.9648 - 172ms/epoch - 5ms/step\n",
      "Epoch 98/200\n",
      "33/33 - 0s - loss: 0.0924 - accuracy: 0.9649 - 171ms/epoch - 5ms/step\n",
      "Epoch 99/200\n",
      "33/33 - 0s - loss: 0.0919 - accuracy: 0.9654 - 164ms/epoch - 5ms/step\n",
      "Epoch 100/200\n",
      "33/33 - 0s - loss: 0.0917 - accuracy: 0.9655 - 175ms/epoch - 5ms/step\n",
      "Epoch 101/200\n",
      "33/33 - 0s - loss: 0.0915 - accuracy: 0.9655 - 168ms/epoch - 5ms/step\n",
      "Epoch 102/200\n",
      "33/33 - 0s - loss: 0.0911 - accuracy: 0.9656 - 183ms/epoch - 6ms/step\n",
      "Epoch 103/200\n",
      "33/33 - 0s - loss: 0.0909 - accuracy: 0.9658 - 159ms/epoch - 5ms/step\n",
      "Epoch 104/200\n",
      "33/33 - 0s - loss: 0.0916 - accuracy: 0.9651 - 159ms/epoch - 5ms/step\n",
      "Epoch 105/200\n",
      "33/33 - 0s - loss: 0.0905 - accuracy: 0.9658 - 156ms/epoch - 5ms/step\n",
      "Epoch 106/200\n",
      "33/33 - 0s - loss: 0.0910 - accuracy: 0.9654 - 160ms/epoch - 5ms/step\n",
      "Epoch 107/200\n",
      "33/33 - 0s - loss: 0.0906 - accuracy: 0.9656 - 158ms/epoch - 5ms/step\n",
      "Epoch 108/200\n",
      "33/33 - 0s - loss: 0.0921 - accuracy: 0.9648 - 159ms/epoch - 5ms/step\n",
      "Epoch 109/200\n",
      "33/33 - 0s - loss: 0.0907 - accuracy: 0.9654 - 158ms/epoch - 5ms/step\n",
      "Epoch 110/200\n",
      "33/33 - 0s - loss: 0.0907 - accuracy: 0.9650 - 159ms/epoch - 5ms/step\n",
      "Epoch 111/200\n",
      "33/33 - 0s - loss: 0.0896 - accuracy: 0.9661 - 155ms/epoch - 5ms/step\n",
      "Epoch 112/200\n",
      "33/33 - 0s - loss: 0.0910 - accuracy: 0.9652 - 160ms/epoch - 5ms/step\n",
      "Epoch 113/200\n",
      "33/33 - 0s - loss: 0.0895 - accuracy: 0.9662 - 161ms/epoch - 5ms/step\n",
      "Epoch 114/200\n",
      "33/33 - 0s - loss: 0.0897 - accuracy: 0.9661 - 175ms/epoch - 5ms/step\n",
      "Epoch 115/200\n",
      "33/33 - 0s - loss: 0.0893 - accuracy: 0.9660 - 158ms/epoch - 5ms/step\n",
      "Epoch 116/200\n",
      "33/33 - 0s - loss: 0.0900 - accuracy: 0.9656 - 161ms/epoch - 5ms/step\n",
      "Epoch 117/200\n",
      "33/33 - 0s - loss: 0.0890 - accuracy: 0.9662 - 160ms/epoch - 5ms/step\n",
      "Epoch 118/200\n",
      "33/33 - 0s - loss: 0.0898 - accuracy: 0.9653 - 158ms/epoch - 5ms/step\n",
      "Epoch 119/200\n",
      "33/33 - 0s - loss: 0.0890 - accuracy: 0.9659 - 160ms/epoch - 5ms/step\n",
      "Epoch 120/200\n",
      "33/33 - 0s - loss: 0.0880 - accuracy: 0.9662 - 157ms/epoch - 5ms/step\n",
      "Epoch 121/200\n",
      "33/33 - 0s - loss: 0.0881 - accuracy: 0.9659 - 158ms/epoch - 5ms/step\n",
      "Epoch 122/200\n",
      "33/33 - 0s - loss: 0.0882 - accuracy: 0.9664 - 157ms/epoch - 5ms/step\n",
      "Epoch 123/200\n",
      "33/33 - 0s - loss: 0.0880 - accuracy: 0.9663 - 159ms/epoch - 5ms/step\n",
      "Epoch 124/200\n",
      "33/33 - 0s - loss: 0.0879 - accuracy: 0.9661 - 160ms/epoch - 5ms/step\n",
      "Epoch 125/200\n",
      "33/33 - 0s - loss: 0.0879 - accuracy: 0.9659 - 159ms/epoch - 5ms/step\n",
      "Epoch 126/200\n",
      "33/33 - 0s - loss: 0.0879 - accuracy: 0.9663 - 157ms/epoch - 5ms/step\n",
      "Epoch 127/200\n",
      "33/33 - 0s - loss: 0.0875 - accuracy: 0.9665 - 158ms/epoch - 5ms/step\n",
      "Epoch 128/200\n",
      "33/33 - 0s - loss: 0.0873 - accuracy: 0.9669 - 158ms/epoch - 5ms/step\n",
      "Epoch 129/200\n",
      "33/33 - 0s - loss: 0.0870 - accuracy: 0.9668 - 155ms/epoch - 5ms/step\n",
      "Epoch 130/200\n",
      "33/33 - 0s - loss: 0.0868 - accuracy: 0.9670 - 157ms/epoch - 5ms/step\n",
      "Epoch 131/200\n",
      "33/33 - 0s - loss: 0.0872 - accuracy: 0.9668 - 156ms/epoch - 5ms/step\n",
      "Epoch 132/200\n",
      "33/33 - 0s - loss: 0.0865 - accuracy: 0.9674 - 159ms/epoch - 5ms/step\n",
      "Epoch 133/200\n",
      "33/33 - 0s - loss: 0.0875 - accuracy: 0.9669 - 159ms/epoch - 5ms/step\n",
      "Epoch 134/200\n",
      "33/33 - 0s - loss: 0.0871 - accuracy: 0.9668 - 158ms/epoch - 5ms/step\n",
      "Epoch 135/200\n",
      "33/33 - 0s - loss: 0.0868 - accuracy: 0.9665 - 159ms/epoch - 5ms/step\n",
      "Epoch 136/200\n",
      "33/33 - 0s - loss: 0.0869 - accuracy: 0.9671 - 157ms/epoch - 5ms/step\n",
      "Epoch 137/200\n",
      "33/33 - 0s - loss: 0.0875 - accuracy: 0.9664 - 176ms/epoch - 5ms/step\n",
      "Epoch 138/200\n",
      "33/33 - 0s - loss: 0.0870 - accuracy: 0.9663 - 159ms/epoch - 5ms/step\n",
      "Epoch 139/200\n",
      "33/33 - 0s - loss: 0.0871 - accuracy: 0.9664 - 157ms/epoch - 5ms/step\n",
      "Epoch 140/200\n",
      "33/33 - 0s - loss: 0.0866 - accuracy: 0.9663 - 157ms/epoch - 5ms/step\n",
      "Epoch 141/200\n",
      "33/33 - 0s - loss: 0.0861 - accuracy: 0.9671 - 160ms/epoch - 5ms/step\n",
      "Epoch 142/200\n",
      "33/33 - 0s - loss: 0.0861 - accuracy: 0.9670 - 160ms/epoch - 5ms/step\n",
      "Epoch 143/200\n",
      "33/33 - 0s - loss: 0.0856 - accuracy: 0.9672 - 160ms/epoch - 5ms/step\n",
      "Epoch 144/200\n",
      "33/33 - 0s - loss: 0.0855 - accuracy: 0.9680 - 160ms/epoch - 5ms/step\n",
      "Epoch 145/200\n",
      "33/33 - 0s - loss: 0.0856 - accuracy: 0.9671 - 158ms/epoch - 5ms/step\n",
      "Epoch 146/200\n",
      "33/33 - 0s - loss: 0.0860 - accuracy: 0.9671 - 157ms/epoch - 5ms/step\n",
      "Epoch 147/200\n",
      "33/33 - 0s - loss: 0.0855 - accuracy: 0.9674 - 158ms/epoch - 5ms/step\n",
      "Epoch 148/200\n",
      "33/33 - 0s - loss: 0.0857 - accuracy: 0.9672 - 180ms/epoch - 5ms/step\n",
      "Epoch 149/200\n",
      "33/33 - 0s - loss: 0.0852 - accuracy: 0.9674 - 173ms/epoch - 5ms/step\n",
      "Epoch 150/200\n",
      "33/33 - 0s - loss: 0.0857 - accuracy: 0.9670 - 163ms/epoch - 5ms/step\n",
      "Epoch 151/200\n",
      "33/33 - 0s - loss: 0.0853 - accuracy: 0.9671 - 187ms/epoch - 6ms/step\n",
      "Epoch 152/200\n",
      "33/33 - 0s - loss: 0.0854 - accuracy: 0.9669 - 161ms/epoch - 5ms/step\n",
      "Epoch 153/200\n",
      "33/33 - 0s - loss: 0.0849 - accuracy: 0.9671 - 188ms/epoch - 6ms/step\n",
      "Epoch 154/200\n",
      "33/33 - 0s - loss: 0.0857 - accuracy: 0.9668 - 167ms/epoch - 5ms/step\n",
      "Epoch 155/200\n",
      "33/33 - 0s - loss: 0.0865 - accuracy: 0.9665 - 158ms/epoch - 5ms/step\n",
      "Epoch 156/200\n",
      "33/33 - 0s - loss: 0.0846 - accuracy: 0.9675 - 179ms/epoch - 5ms/step\n",
      "Epoch 157/200\n",
      "33/33 - 0s - loss: 0.0849 - accuracy: 0.9672 - 159ms/epoch - 5ms/step\n",
      "Epoch 158/200\n",
      "33/33 - 0s - loss: 0.0843 - accuracy: 0.9674 - 177ms/epoch - 5ms/step\n",
      "Epoch 159/200\n",
      "33/33 - 0s - loss: 0.0842 - accuracy: 0.9678 - 162ms/epoch - 5ms/step\n",
      "Epoch 160/200\n",
      "33/33 - 0s - loss: 0.0843 - accuracy: 0.9676 - 176ms/epoch - 5ms/step\n",
      "Epoch 161/200\n",
      "33/33 - 0s - loss: 0.0847 - accuracy: 0.9673 - 176ms/epoch - 5ms/step\n",
      "Epoch 162/200\n",
      "33/33 - 0s - loss: 0.0841 - accuracy: 0.9677 - 177ms/epoch - 5ms/step\n",
      "Epoch 163/200\n",
      "33/33 - 0s - loss: 0.0843 - accuracy: 0.9669 - 163ms/epoch - 5ms/step\n",
      "Epoch 164/200\n",
      "33/33 - 0s - loss: 0.0847 - accuracy: 0.9667 - 161ms/epoch - 5ms/step\n",
      "Epoch 165/200\n",
      "33/33 - 0s - loss: 0.0845 - accuracy: 0.9671 - 162ms/epoch - 5ms/step\n",
      "Epoch 166/200\n",
      "33/33 - 0s - loss: 0.0835 - accuracy: 0.9679 - 167ms/epoch - 5ms/step\n",
      "Epoch 167/200\n",
      "33/33 - 0s - loss: 0.0838 - accuracy: 0.9677 - 162ms/epoch - 5ms/step\n",
      "Epoch 168/200\n",
      "33/33 - 0s - loss: 0.0836 - accuracy: 0.9679 - 161ms/epoch - 5ms/step\n",
      "Epoch 169/200\n",
      "33/33 - 0s - loss: 0.0835 - accuracy: 0.9676 - 158ms/epoch - 5ms/step\n",
      "Epoch 170/200\n",
      "33/33 - 0s - loss: 0.0836 - accuracy: 0.9676 - 163ms/epoch - 5ms/step\n",
      "Epoch 171/200\n",
      "33/33 - 0s - loss: 0.0835 - accuracy: 0.9675 - 158ms/epoch - 5ms/step\n",
      "Epoch 172/200\n",
      "33/33 - 0s - loss: 0.0834 - accuracy: 0.9678 - 157ms/epoch - 5ms/step\n",
      "Epoch 173/200\n",
      "33/33 - 0s - loss: 0.0842 - accuracy: 0.9673 - 158ms/epoch - 5ms/step\n",
      "Epoch 174/200\n",
      "33/33 - 0s - loss: 0.0841 - accuracy: 0.9674 - 159ms/epoch - 5ms/step\n",
      "Epoch 175/200\n",
      "33/33 - 0s - loss: 0.0828 - accuracy: 0.9680 - 164ms/epoch - 5ms/step\n",
      "Epoch 176/200\n",
      "33/33 - 0s - loss: 0.0824 - accuracy: 0.9685 - 159ms/epoch - 5ms/step\n",
      "Epoch 177/200\n",
      "33/33 - 0s - loss: 0.0828 - accuracy: 0.9677 - 158ms/epoch - 5ms/step\n",
      "Epoch 178/200\n",
      "33/33 - 0s - loss: 0.0824 - accuracy: 0.9684 - 160ms/epoch - 5ms/step\n",
      "Epoch 179/200\n",
      "33/33 - 0s - loss: 0.0824 - accuracy: 0.9682 - 159ms/epoch - 5ms/step\n",
      "Epoch 180/200\n",
      "33/33 - 0s - loss: 0.0822 - accuracy: 0.9679 - 159ms/epoch - 5ms/step\n",
      "Epoch 181/200\n",
      "33/33 - 0s - loss: 0.0825 - accuracy: 0.9681 - 159ms/epoch - 5ms/step\n",
      "Epoch 182/200\n",
      "33/33 - 0s - loss: 0.0820 - accuracy: 0.9681 - 159ms/epoch - 5ms/step\n",
      "Epoch 183/200\n",
      "33/33 - 0s - loss: 0.0827 - accuracy: 0.9675 - 159ms/epoch - 5ms/step\n",
      "Epoch 184/200\n",
      "33/33 - 0s - loss: 0.0821 - accuracy: 0.9680 - 166ms/epoch - 5ms/step\n",
      "Epoch 185/200\n",
      "33/33 - 0s - loss: 0.0823 - accuracy: 0.9675 - 161ms/epoch - 5ms/step\n",
      "Epoch 186/200\n",
      "33/33 - 0s - loss: 0.0817 - accuracy: 0.9685 - 159ms/epoch - 5ms/step\n",
      "Epoch 187/200\n",
      "33/33 - 0s - loss: 0.0819 - accuracy: 0.9680 - 157ms/epoch - 5ms/step\n",
      "Epoch 188/200\n",
      "33/33 - 0s - loss: 0.0817 - accuracy: 0.9686 - 182ms/epoch - 6ms/step\n",
      "Epoch 189/200\n",
      "33/33 - 0s - loss: 0.0817 - accuracy: 0.9678 - 158ms/epoch - 5ms/step\n",
      "Epoch 190/200\n",
      "33/33 - 0s - loss: 0.0816 - accuracy: 0.9682 - 167ms/epoch - 5ms/step\n",
      "Epoch 191/200\n",
      "33/33 - 0s - loss: 0.0817 - accuracy: 0.9682 - 168ms/epoch - 5ms/step\n",
      "Epoch 192/200\n",
      "33/33 - 0s - loss: 0.0821 - accuracy: 0.9683 - 170ms/epoch - 5ms/step\n",
      "Epoch 193/200\n",
      "33/33 - 0s - loss: 0.0820 - accuracy: 0.9679 - 166ms/epoch - 5ms/step\n",
      "Epoch 194/200\n",
      "33/33 - 0s - loss: 0.0815 - accuracy: 0.9685 - 172ms/epoch - 5ms/step\n",
      "Epoch 195/200\n",
      "33/33 - 0s - loss: 0.0810 - accuracy: 0.9687 - 160ms/epoch - 5ms/step\n",
      "Epoch 196/200\n",
      "33/33 - 0s - loss: 0.0807 - accuracy: 0.9687 - 166ms/epoch - 5ms/step\n",
      "Epoch 197/200\n",
      "33/33 - 0s - loss: 0.0808 - accuracy: 0.9688 - 160ms/epoch - 5ms/step\n",
      "Epoch 198/200\n",
      "33/33 - 0s - loss: 0.0815 - accuracy: 0.9681 - 180ms/epoch - 5ms/step\n",
      "Epoch 199/200\n",
      "33/33 - 0s - loss: 0.0809 - accuracy: 0.9685 - 161ms/epoch - 5ms/step\n",
      "Epoch 200/200\n",
      "33/33 - 0s - loss: 0.0803 - accuracy: 0.9689 - 183ms/epoch - 6ms/step\n"
     ]
    }
   ],
   "source": [
    "#Build the neural network model\n",
    "def build_model():\n",
    "    model = Sequential()\n",
    "    model.add(GRU(20, return_sequences=True,input_shape=(1,56)))\n",
    "    model.add(GRU(20, return_sequences=True))\n",
    "    model.add(Dense(10, activation='softmax')) #for multiclass classification\n",
    "    #Compile the model\n",
    "    model.compile(loss='sparse_categorical_crossentropy', optimizer='adam',\n",
    "                  # metrics=['accuracy',f1_m,precision_m, recall_m]\n",
    "                  metrics=['accuracy']\n",
    "                 )\n",
    "    return model\n",
    "\n",
    "#The GRU input layer must be 3D.\n",
    "#The meaning of the 3 input dimensions are: samples, time steps, and features.\n",
    "#reshape input data\n",
    "X_train_array = array(X_train) #array has been declared in the previous cell\n",
    "print(len(X_train_array))\n",
    "X_train_reshaped = X_train_array.reshape(X_train_array.shape[0],1,56)\n",
    "\n",
    "#reshape output data\n",
    "X_test_array=  array(X_test)\n",
    "X_test_reshaped = X_test_array.reshape(X_test_array.shape[0],1,56) \n",
    "\n",
    "\n",
    "#institate the model\n",
    "model = build_model()\n",
    "\n",
    "start = time.time()\n",
    "#fit the model\n",
    "model.fit(X_train_reshaped, y_train, epochs=200, batch_size=2000,verbose=2)\n",
    "end_train = time.time()"
   ]
  },
  {
   "cell_type": "code",
   "execution_count": 74,
   "metadata": {},
   "outputs": [
    {
     "name": "stdout",
     "output_type": "stream",
     "text": [
      "515/515 [==============================] - 1s 1ms/step - loss: 0.0866 - accuracy: 0.9670\n"
     ]
    }
   ],
   "source": [
    "loss, accuracy = model.evaluate(X_test_reshaped, y_test)\n",
    "# loss, accuracy, f1s, precision, recall = model.evaluate(X_test_reshaped, y_test)\n",
    "end_predict = time.time()\n",
    "model_performance.loc['GRU (Keras)'] = [accuracy, accuracy, accuracy, accuracy, end_train-start,end_predict-end_train,end_predict-start]"
   ]
  },
  {
   "cell_type": "code",
   "execution_count": 75,
   "metadata": {},
   "outputs": [
    {
     "data": {
      "text/plain": [
       "(82332, 56)"
      ]
     },
     "execution_count": 75,
     "metadata": {},
     "output_type": "execute_result"
    }
   ],
   "source": [
    "np.shape(X)"
   ]
  },
  {
   "cell_type": "markdown",
   "metadata": {},
   "source": [
    "# LSTM (Keras)"
   ]
  },
  {
   "cell_type": "code",
   "execution_count": 76,
   "metadata": {},
   "outputs": [
    {
     "name": "stdout",
     "output_type": "stream",
     "text": [
      "65865\n",
      "Epoch 1/200\n",
      "33/33 - 3s - loss: 2.2036 - accuracy: 0.6395 - 3s/epoch - 80ms/step\n",
      "Epoch 2/200\n",
      "33/33 - 0s - loss: 1.8187 - accuracy: 0.7006 - 176ms/epoch - 5ms/step\n",
      "Epoch 3/200\n",
      "33/33 - 0s - loss: 1.2366 - accuracy: 0.6980 - 174ms/epoch - 5ms/step\n",
      "Epoch 4/200\n",
      "33/33 - 0s - loss: 0.8387 - accuracy: 0.7037 - 176ms/epoch - 5ms/step\n",
      "Epoch 5/200\n",
      "33/33 - 0s - loss: 0.6501 - accuracy: 0.7462 - 173ms/epoch - 5ms/step\n",
      "Epoch 6/200\n",
      "33/33 - 0s - loss: 0.5593 - accuracy: 0.7597 - 174ms/epoch - 5ms/step\n",
      "Epoch 7/200\n",
      "33/33 - 0s - loss: 0.4984 - accuracy: 0.7725 - 176ms/epoch - 5ms/step\n",
      "Epoch 8/200\n",
      "33/33 - 0s - loss: 0.4418 - accuracy: 0.7853 - 175ms/epoch - 5ms/step\n",
      "Epoch 9/200\n",
      "33/33 - 0s - loss: 0.3858 - accuracy: 0.8043 - 195ms/epoch - 6ms/step\n",
      "Epoch 10/200\n",
      "33/33 - 0s - loss: 0.3313 - accuracy: 0.8557 - 178ms/epoch - 5ms/step\n",
      "Epoch 11/200\n",
      "33/33 - 0s - loss: 0.2813 - accuracy: 0.8840 - 173ms/epoch - 5ms/step\n",
      "Epoch 12/200\n",
      "33/33 - 0s - loss: 0.2461 - accuracy: 0.8958 - 177ms/epoch - 5ms/step\n",
      "Epoch 13/200\n",
      "33/33 - 0s - loss: 0.2239 - accuracy: 0.9045 - 178ms/epoch - 5ms/step\n",
      "Epoch 14/200\n",
      "33/33 - 0s - loss: 0.2090 - accuracy: 0.9106 - 175ms/epoch - 5ms/step\n",
      "Epoch 15/200\n",
      "33/33 - 0s - loss: 0.1975 - accuracy: 0.9160 - 177ms/epoch - 5ms/step\n",
      "Epoch 16/200\n",
      "33/33 - 0s - loss: 0.1880 - accuracy: 0.9210 - 172ms/epoch - 5ms/step\n",
      "Epoch 17/200\n",
      "33/33 - 0s - loss: 0.1786 - accuracy: 0.9262 - 174ms/epoch - 5ms/step\n",
      "Epoch 18/200\n",
      "33/33 - 0s - loss: 0.1685 - accuracy: 0.9324 - 175ms/epoch - 5ms/step\n",
      "Epoch 19/200\n",
      "33/33 - 0s - loss: 0.1601 - accuracy: 0.9376 - 174ms/epoch - 5ms/step\n",
      "Epoch 20/200\n",
      "33/33 - 0s - loss: 0.1530 - accuracy: 0.9411 - 176ms/epoch - 5ms/step\n",
      "Epoch 21/200\n",
      "33/33 - 0s - loss: 0.1482 - accuracy: 0.9431 - 176ms/epoch - 5ms/step\n",
      "Epoch 22/200\n",
      "33/33 - 0s - loss: 0.1432 - accuracy: 0.9466 - 175ms/epoch - 5ms/step\n",
      "Epoch 23/200\n",
      "33/33 - 0s - loss: 0.1395 - accuracy: 0.9482 - 175ms/epoch - 5ms/step\n",
      "Epoch 24/200\n",
      "33/33 - 0s - loss: 0.1367 - accuracy: 0.9499 - 174ms/epoch - 5ms/step\n",
      "Epoch 25/200\n",
      "33/33 - 0s - loss: 0.1339 - accuracy: 0.9509 - 176ms/epoch - 5ms/step\n",
      "Epoch 26/200\n",
      "33/33 - 0s - loss: 0.1317 - accuracy: 0.9521 - 177ms/epoch - 5ms/step\n",
      "Epoch 27/200\n",
      "33/33 - 0s - loss: 0.1300 - accuracy: 0.9530 - 177ms/epoch - 5ms/step\n",
      "Epoch 28/200\n",
      "33/33 - 0s - loss: 0.1289 - accuracy: 0.9526 - 173ms/epoch - 5ms/step\n",
      "Epoch 29/200\n",
      "33/33 - 0s - loss: 0.1269 - accuracy: 0.9537 - 181ms/epoch - 5ms/step\n",
      "Epoch 30/200\n",
      "33/33 - 0s - loss: 0.1250 - accuracy: 0.9543 - 175ms/epoch - 5ms/step\n",
      "Epoch 31/200\n",
      "33/33 - 0s - loss: 0.1244 - accuracy: 0.9545 - 179ms/epoch - 5ms/step\n",
      "Epoch 32/200\n",
      "33/33 - 0s - loss: 0.1226 - accuracy: 0.9559 - 176ms/epoch - 5ms/step\n",
      "Epoch 33/200\n",
      "33/33 - 0s - loss: 0.1214 - accuracy: 0.9561 - 174ms/epoch - 5ms/step\n",
      "Epoch 34/200\n",
      "33/33 - 0s - loss: 0.1197 - accuracy: 0.9563 - 205ms/epoch - 6ms/step\n",
      "Epoch 35/200\n",
      "33/33 - 0s - loss: 0.1189 - accuracy: 0.9563 - 175ms/epoch - 5ms/step\n",
      "Epoch 36/200\n",
      "33/33 - 0s - loss: 0.1174 - accuracy: 0.9577 - 180ms/epoch - 5ms/step\n",
      "Epoch 37/200\n",
      "33/33 - 0s - loss: 0.1168 - accuracy: 0.9575 - 177ms/epoch - 5ms/step\n",
      "Epoch 38/200\n",
      "33/33 - 0s - loss: 0.1159 - accuracy: 0.9579 - 178ms/epoch - 5ms/step\n",
      "Epoch 39/200\n",
      "33/33 - 0s - loss: 0.1150 - accuracy: 0.9583 - 178ms/epoch - 5ms/step\n",
      "Epoch 40/200\n",
      "33/33 - 0s - loss: 0.1141 - accuracy: 0.9590 - 178ms/epoch - 5ms/step\n",
      "Epoch 41/200\n",
      "33/33 - 0s - loss: 0.1131 - accuracy: 0.9593 - 178ms/epoch - 5ms/step\n",
      "Epoch 42/200\n",
      "33/33 - 0s - loss: 0.1129 - accuracy: 0.9586 - 180ms/epoch - 5ms/step\n",
      "Epoch 43/200\n",
      "33/33 - 0s - loss: 0.1122 - accuracy: 0.9589 - 177ms/epoch - 5ms/step\n",
      "Epoch 44/200\n",
      "33/33 - 0s - loss: 0.1110 - accuracy: 0.9594 - 176ms/epoch - 5ms/step\n",
      "Epoch 45/200\n",
      "33/33 - 0s - loss: 0.1106 - accuracy: 0.9595 - 178ms/epoch - 5ms/step\n",
      "Epoch 46/200\n",
      "33/33 - 0s - loss: 0.1100 - accuracy: 0.9598 - 175ms/epoch - 5ms/step\n",
      "Epoch 47/200\n",
      "33/33 - 0s - loss: 0.1090 - accuracy: 0.9602 - 191ms/epoch - 6ms/step\n",
      "Epoch 48/200\n",
      "33/33 - 0s - loss: 0.1092 - accuracy: 0.9596 - 180ms/epoch - 5ms/step\n",
      "Epoch 49/200\n",
      "33/33 - 0s - loss: 0.1089 - accuracy: 0.9597 - 177ms/epoch - 5ms/step\n",
      "Epoch 50/200\n",
      "33/33 - 0s - loss: 0.1074 - accuracy: 0.9608 - 174ms/epoch - 5ms/step\n",
      "Epoch 51/200\n",
      "33/33 - 0s - loss: 0.1076 - accuracy: 0.9599 - 176ms/epoch - 5ms/step\n",
      "Epoch 52/200\n",
      "33/33 - 0s - loss: 0.1066 - accuracy: 0.9611 - 176ms/epoch - 5ms/step\n",
      "Epoch 53/200\n",
      "33/33 - 0s - loss: 0.1060 - accuracy: 0.9614 - 179ms/epoch - 5ms/step\n",
      "Epoch 54/200\n",
      "33/33 - 0s - loss: 0.1054 - accuracy: 0.9616 - 177ms/epoch - 5ms/step\n",
      "Epoch 55/200\n",
      "33/33 - 0s - loss: 0.1048 - accuracy: 0.9618 - 175ms/epoch - 5ms/step\n",
      "Epoch 56/200\n",
      "33/33 - 0s - loss: 0.1045 - accuracy: 0.9614 - 174ms/epoch - 5ms/step\n",
      "Epoch 57/200\n",
      "33/33 - 0s - loss: 0.1042 - accuracy: 0.9617 - 176ms/epoch - 5ms/step\n",
      "Epoch 58/200\n",
      "33/33 - 0s - loss: 0.1039 - accuracy: 0.9617 - 176ms/epoch - 5ms/step\n",
      "Epoch 59/200\n",
      "33/33 - 0s - loss: 0.1033 - accuracy: 0.9624 - 178ms/epoch - 5ms/step\n",
      "Epoch 60/200\n",
      "33/33 - 0s - loss: 0.1031 - accuracy: 0.9618 - 175ms/epoch - 5ms/step\n",
      "Epoch 61/200\n",
      "33/33 - 0s - loss: 0.1025 - accuracy: 0.9620 - 175ms/epoch - 5ms/step\n",
      "Epoch 62/200\n",
      "33/33 - 0s - loss: 0.1022 - accuracy: 0.9625 - 177ms/epoch - 5ms/step\n",
      "Epoch 63/200\n",
      "33/33 - 0s - loss: 0.1021 - accuracy: 0.9622 - 176ms/epoch - 5ms/step\n",
      "Epoch 64/200\n",
      "33/33 - 0s - loss: 0.1008 - accuracy: 0.9629 - 178ms/epoch - 5ms/step\n",
      "Epoch 65/200\n",
      "33/33 - 0s - loss: 0.1007 - accuracy: 0.9627 - 178ms/epoch - 5ms/step\n",
      "Epoch 66/200\n",
      "33/33 - 0s - loss: 0.1003 - accuracy: 0.9630 - 181ms/epoch - 5ms/step\n",
      "Epoch 67/200\n",
      "33/33 - 0s - loss: 0.1003 - accuracy: 0.9625 - 178ms/epoch - 5ms/step\n",
      "Epoch 68/200\n",
      "33/33 - 0s - loss: 0.1000 - accuracy: 0.9628 - 180ms/epoch - 5ms/step\n",
      "Epoch 69/200\n",
      "33/33 - 0s - loss: 0.0994 - accuracy: 0.9635 - 176ms/epoch - 5ms/step\n",
      "Epoch 70/200\n",
      "33/33 - 0s - loss: 0.0988 - accuracy: 0.9634 - 180ms/epoch - 5ms/step\n",
      "Epoch 71/200\n",
      "33/33 - 0s - loss: 0.0986 - accuracy: 0.9637 - 178ms/epoch - 5ms/step\n",
      "Epoch 72/200\n",
      "33/33 - 0s - loss: 0.0984 - accuracy: 0.9637 - 179ms/epoch - 5ms/step\n",
      "Epoch 73/200\n",
      "33/33 - 0s - loss: 0.0979 - accuracy: 0.9639 - 177ms/epoch - 5ms/step\n",
      "Epoch 74/200\n",
      "33/33 - 0s - loss: 0.0977 - accuracy: 0.9636 - 177ms/epoch - 5ms/step\n",
      "Epoch 75/200\n",
      "33/33 - 0s - loss: 0.0974 - accuracy: 0.9642 - 178ms/epoch - 5ms/step\n",
      "Epoch 76/200\n",
      "33/33 - 0s - loss: 0.0972 - accuracy: 0.9639 - 178ms/epoch - 5ms/step\n",
      "Epoch 77/200\n",
      "33/33 - 0s - loss: 0.0971 - accuracy: 0.9638 - 176ms/epoch - 5ms/step\n",
      "Epoch 78/200\n",
      "33/33 - 0s - loss: 0.0968 - accuracy: 0.9643 - 177ms/epoch - 5ms/step\n",
      "Epoch 79/200\n",
      "33/33 - 0s - loss: 0.0968 - accuracy: 0.9641 - 175ms/epoch - 5ms/step\n",
      "Epoch 80/200\n",
      "33/33 - 0s - loss: 0.0964 - accuracy: 0.9647 - 174ms/epoch - 5ms/step\n",
      "Epoch 81/200\n",
      "33/33 - 0s - loss: 0.0959 - accuracy: 0.9643 - 176ms/epoch - 5ms/step\n",
      "Epoch 82/200\n",
      "33/33 - 0s - loss: 0.0961 - accuracy: 0.9644 - 182ms/epoch - 6ms/step\n",
      "Epoch 83/200\n",
      "33/33 - 0s - loss: 0.0952 - accuracy: 0.9650 - 179ms/epoch - 5ms/step\n",
      "Epoch 84/200\n",
      "33/33 - 0s - loss: 0.0953 - accuracy: 0.9647 - 184ms/epoch - 6ms/step\n",
      "Epoch 85/200\n",
      "33/33 - 0s - loss: 0.0952 - accuracy: 0.9647 - 190ms/epoch - 6ms/step\n",
      "Epoch 86/200\n",
      "33/33 - 0s - loss: 0.0947 - accuracy: 0.9652 - 177ms/epoch - 5ms/step\n",
      "Epoch 87/200\n",
      "33/33 - 0s - loss: 0.0946 - accuracy: 0.9652 - 179ms/epoch - 5ms/step\n",
      "Epoch 88/200\n",
      "33/33 - 0s - loss: 0.0941 - accuracy: 0.9653 - 178ms/epoch - 5ms/step\n",
      "Epoch 89/200\n",
      "33/33 - 0s - loss: 0.0941 - accuracy: 0.9651 - 178ms/epoch - 5ms/step\n",
      "Epoch 90/200\n",
      "33/33 - 0s - loss: 0.0942 - accuracy: 0.9649 - 179ms/epoch - 5ms/step\n",
      "Epoch 91/200\n",
      "33/33 - 0s - loss: 0.0936 - accuracy: 0.9657 - 175ms/epoch - 5ms/step\n",
      "Epoch 92/200\n",
      "33/33 - 0s - loss: 0.0932 - accuracy: 0.9656 - 175ms/epoch - 5ms/step\n",
      "Epoch 93/200\n",
      "33/33 - 0s - loss: 0.0934 - accuracy: 0.9653 - 176ms/epoch - 5ms/step\n",
      "Epoch 94/200\n",
      "33/33 - 0s - loss: 0.0929 - accuracy: 0.9657 - 177ms/epoch - 5ms/step\n",
      "Epoch 95/200\n",
      "33/33 - 0s - loss: 0.0926 - accuracy: 0.9658 - 179ms/epoch - 5ms/step\n",
      "Epoch 96/200\n",
      "33/33 - 0s - loss: 0.0929 - accuracy: 0.9656 - 176ms/epoch - 5ms/step\n",
      "Epoch 97/200\n",
      "33/33 - 0s - loss: 0.0927 - accuracy: 0.9659 - 175ms/epoch - 5ms/step\n",
      "Epoch 98/200\n",
      "33/33 - 0s - loss: 0.0928 - accuracy: 0.9651 - 180ms/epoch - 5ms/step\n",
      "Epoch 99/200\n",
      "33/33 - 0s - loss: 0.0923 - accuracy: 0.9659 - 178ms/epoch - 5ms/step\n",
      "Epoch 100/200\n",
      "33/33 - 0s - loss: 0.0926 - accuracy: 0.9650 - 182ms/epoch - 6ms/step\n",
      "Epoch 101/200\n",
      "33/33 - 0s - loss: 0.0918 - accuracy: 0.9661 - 177ms/epoch - 5ms/step\n",
      "Epoch 102/200\n",
      "33/33 - 0s - loss: 0.0917 - accuracy: 0.9663 - 176ms/epoch - 5ms/step\n",
      "Epoch 103/200\n",
      "33/33 - 0s - loss: 0.0919 - accuracy: 0.9661 - 175ms/epoch - 5ms/step\n",
      "Epoch 104/200\n",
      "33/33 - 0s - loss: 0.0916 - accuracy: 0.9662 - 182ms/epoch - 6ms/step\n",
      "Epoch 105/200\n",
      "33/33 - 0s - loss: 0.0912 - accuracy: 0.9662 - 178ms/epoch - 5ms/step\n",
      "Epoch 106/200\n",
      "33/33 - 0s - loss: 0.0909 - accuracy: 0.9660 - 182ms/epoch - 6ms/step\n",
      "Epoch 107/200\n",
      "33/33 - 0s - loss: 0.0912 - accuracy: 0.9662 - 177ms/epoch - 5ms/step\n",
      "Epoch 108/200\n",
      "33/33 - 0s - loss: 0.0908 - accuracy: 0.9666 - 195ms/epoch - 6ms/step\n",
      "Epoch 109/200\n",
      "33/33 - 0s - loss: 0.0911 - accuracy: 0.9661 - 179ms/epoch - 5ms/step\n",
      "Epoch 110/200\n",
      "33/33 - 0s - loss: 0.0910 - accuracy: 0.9661 - 176ms/epoch - 5ms/step\n",
      "Epoch 111/200\n",
      "33/33 - 0s - loss: 0.0902 - accuracy: 0.9668 - 177ms/epoch - 5ms/step\n",
      "Epoch 112/200\n",
      "33/33 - 0s - loss: 0.0904 - accuracy: 0.9664 - 179ms/epoch - 5ms/step\n",
      "Epoch 113/200\n",
      "33/33 - 0s - loss: 0.0903 - accuracy: 0.9663 - 184ms/epoch - 6ms/step\n",
      "Epoch 114/200\n",
      "33/33 - 0s - loss: 0.0899 - accuracy: 0.9666 - 183ms/epoch - 6ms/step\n",
      "Epoch 115/200\n",
      "33/33 - 0s - loss: 0.0905 - accuracy: 0.9661 - 183ms/epoch - 6ms/step\n",
      "Epoch 116/200\n",
      "33/33 - 0s - loss: 0.0904 - accuracy: 0.9662 - 180ms/epoch - 5ms/step\n",
      "Epoch 117/200\n",
      "33/33 - 0s - loss: 0.0900 - accuracy: 0.9662 - 176ms/epoch - 5ms/step\n",
      "Epoch 118/200\n",
      "33/33 - 0s - loss: 0.0895 - accuracy: 0.9669 - 179ms/epoch - 5ms/step\n",
      "Epoch 119/200\n",
      "33/33 - 0s - loss: 0.0898 - accuracy: 0.9666 - 177ms/epoch - 5ms/step\n",
      "Epoch 120/200\n",
      "33/33 - 0s - loss: 0.0893 - accuracy: 0.9672 - 178ms/epoch - 5ms/step\n",
      "Epoch 121/200\n",
      "33/33 - 0s - loss: 0.0900 - accuracy: 0.9662 - 193ms/epoch - 6ms/step\n",
      "Epoch 122/200\n",
      "33/33 - 0s - loss: 0.0903 - accuracy: 0.9656 - 176ms/epoch - 5ms/step\n",
      "Epoch 123/200\n",
      "33/33 - 0s - loss: 0.0890 - accuracy: 0.9673 - 173ms/epoch - 5ms/step\n",
      "Epoch 124/200\n",
      "33/33 - 0s - loss: 0.0890 - accuracy: 0.9669 - 173ms/epoch - 5ms/step\n",
      "Epoch 125/200\n",
      "33/33 - 0s - loss: 0.0890 - accuracy: 0.9665 - 176ms/epoch - 5ms/step\n",
      "Epoch 126/200\n",
      "33/33 - 0s - loss: 0.0892 - accuracy: 0.9667 - 176ms/epoch - 5ms/step\n",
      "Epoch 127/200\n",
      "33/33 - 0s - loss: 0.0884 - accuracy: 0.9669 - 180ms/epoch - 5ms/step\n",
      "Epoch 128/200\n",
      "33/33 - 0s - loss: 0.0889 - accuracy: 0.9671 - 176ms/epoch - 5ms/step\n",
      "Epoch 129/200\n",
      "33/33 - 0s - loss: 0.0896 - accuracy: 0.9659 - 176ms/epoch - 5ms/step\n",
      "Epoch 130/200\n",
      "33/33 - 0s - loss: 0.0882 - accuracy: 0.9673 - 174ms/epoch - 5ms/step\n",
      "Epoch 131/200\n",
      "33/33 - 0s - loss: 0.0886 - accuracy: 0.9668 - 179ms/epoch - 5ms/step\n",
      "Epoch 132/200\n",
      "33/33 - 0s - loss: 0.0881 - accuracy: 0.9670 - 176ms/epoch - 5ms/step\n",
      "Epoch 133/200\n",
      "33/33 - 0s - loss: 0.0881 - accuracy: 0.9674 - 176ms/epoch - 5ms/step\n",
      "Epoch 134/200\n",
      "33/33 - 0s - loss: 0.0882 - accuracy: 0.9671 - 196ms/epoch - 6ms/step\n",
      "Epoch 135/200\n",
      "33/33 - 0s - loss: 0.0882 - accuracy: 0.9667 - 182ms/epoch - 6ms/step\n",
      "Epoch 136/200\n",
      "33/33 - 0s - loss: 0.0878 - accuracy: 0.9673 - 175ms/epoch - 5ms/step\n",
      "Epoch 137/200\n",
      "33/33 - 0s - loss: 0.0878 - accuracy: 0.9677 - 175ms/epoch - 5ms/step\n",
      "Epoch 138/200\n",
      "33/33 - 0s - loss: 0.0878 - accuracy: 0.9674 - 199ms/epoch - 6ms/step\n",
      "Epoch 139/200\n",
      "33/33 - 0s - loss: 0.0876 - accuracy: 0.9676 - 184ms/epoch - 6ms/step\n",
      "Epoch 140/200\n",
      "33/33 - 0s - loss: 0.0878 - accuracy: 0.9669 - 189ms/epoch - 6ms/step\n",
      "Epoch 141/200\n",
      "33/33 - 0s - loss: 0.0872 - accuracy: 0.9677 - 195ms/epoch - 6ms/step\n",
      "Epoch 142/200\n",
      "33/33 - 0s - loss: 0.0877 - accuracy: 0.9672 - 194ms/epoch - 6ms/step\n",
      "Epoch 143/200\n",
      "33/33 - 0s - loss: 0.0872 - accuracy: 0.9672 - 180ms/epoch - 5ms/step\n",
      "Epoch 144/200\n",
      "33/33 - 0s - loss: 0.0874 - accuracy: 0.9675 - 176ms/epoch - 5ms/step\n",
      "Epoch 145/200\n",
      "33/33 - 0s - loss: 0.0870 - accuracy: 0.9675 - 178ms/epoch - 5ms/step\n",
      "Epoch 146/200\n",
      "33/33 - 0s - loss: 0.0873 - accuracy: 0.9674 - 177ms/epoch - 5ms/step\n",
      "Epoch 147/200\n",
      "33/33 - 0s - loss: 0.0884 - accuracy: 0.9662 - 176ms/epoch - 5ms/step\n",
      "Epoch 148/200\n",
      "33/33 - 0s - loss: 0.0870 - accuracy: 0.9672 - 185ms/epoch - 6ms/step\n",
      "Epoch 149/200\n",
      "33/33 - 0s - loss: 0.0871 - accuracy: 0.9674 - 179ms/epoch - 5ms/step\n",
      "Epoch 150/200\n",
      "33/33 - 0s - loss: 0.0870 - accuracy: 0.9672 - 180ms/epoch - 5ms/step\n",
      "Epoch 151/200\n",
      "33/33 - 0s - loss: 0.0863 - accuracy: 0.9675 - 177ms/epoch - 5ms/step\n",
      "Epoch 152/200\n",
      "33/33 - 0s - loss: 0.0874 - accuracy: 0.9674 - 174ms/epoch - 5ms/step\n",
      "Epoch 153/200\n",
      "33/33 - 0s - loss: 0.0869 - accuracy: 0.9672 - 184ms/epoch - 6ms/step\n",
      "Epoch 154/200\n",
      "33/33 - 0s - loss: 0.0865 - accuracy: 0.9676 - 177ms/epoch - 5ms/step\n",
      "Epoch 155/200\n",
      "33/33 - 0s - loss: 0.0859 - accuracy: 0.9680 - 178ms/epoch - 5ms/step\n",
      "Epoch 156/200\n",
      "33/33 - 0s - loss: 0.0862 - accuracy: 0.9677 - 176ms/epoch - 5ms/step\n",
      "Epoch 157/200\n",
      "33/33 - 0s - loss: 0.0861 - accuracy: 0.9677 - 180ms/epoch - 5ms/step\n",
      "Epoch 158/200\n",
      "33/33 - 0s - loss: 0.0863 - accuracy: 0.9679 - 177ms/epoch - 5ms/step\n",
      "Epoch 159/200\n",
      "33/33 - 0s - loss: 0.0859 - accuracy: 0.9678 - 178ms/epoch - 5ms/step\n",
      "Epoch 160/200\n",
      "33/33 - 0s - loss: 0.0859 - accuracy: 0.9677 - 177ms/epoch - 5ms/step\n",
      "Epoch 161/200\n",
      "33/33 - 0s - loss: 0.0860 - accuracy: 0.9675 - 176ms/epoch - 5ms/step\n",
      "Epoch 162/200\n",
      "33/33 - 0s - loss: 0.0856 - accuracy: 0.9681 - 180ms/epoch - 5ms/step\n",
      "Epoch 163/200\n",
      "33/33 - 0s - loss: 0.0856 - accuracy: 0.9678 - 175ms/epoch - 5ms/step\n",
      "Epoch 164/200\n",
      "33/33 - 0s - loss: 0.0861 - accuracy: 0.9674 - 177ms/epoch - 5ms/step\n",
      "Epoch 165/200\n",
      "33/33 - 0s - loss: 0.0864 - accuracy: 0.9675 - 176ms/epoch - 5ms/step\n",
      "Epoch 166/200\n",
      "33/33 - 0s - loss: 0.0852 - accuracy: 0.9678 - 177ms/epoch - 5ms/step\n",
      "Epoch 167/200\n",
      "33/33 - 0s - loss: 0.0850 - accuracy: 0.9681 - 174ms/epoch - 5ms/step\n",
      "Epoch 168/200\n",
      "33/33 - 0s - loss: 0.0860 - accuracy: 0.9675 - 177ms/epoch - 5ms/step\n",
      "Epoch 169/200\n",
      "33/33 - 0s - loss: 0.0857 - accuracy: 0.9676 - 178ms/epoch - 5ms/step\n",
      "Epoch 170/200\n",
      "33/33 - 0s - loss: 0.0861 - accuracy: 0.9676 - 192ms/epoch - 6ms/step\n",
      "Epoch 171/200\n",
      "33/33 - 0s - loss: 0.0848 - accuracy: 0.9678 - 179ms/epoch - 5ms/step\n",
      "Epoch 172/200\n",
      "33/33 - 0s - loss: 0.0848 - accuracy: 0.9686 - 176ms/epoch - 5ms/step\n",
      "Epoch 173/200\n",
      "33/33 - 0s - loss: 0.0845 - accuracy: 0.9682 - 178ms/epoch - 5ms/step\n",
      "Epoch 174/200\n",
      "33/33 - 0s - loss: 0.0848 - accuracy: 0.9684 - 181ms/epoch - 5ms/step\n",
      "Epoch 175/200\n",
      "33/33 - 0s - loss: 0.0852 - accuracy: 0.9681 - 177ms/epoch - 5ms/step\n",
      "Epoch 176/200\n",
      "33/33 - 0s - loss: 0.0850 - accuracy: 0.9680 - 175ms/epoch - 5ms/step\n",
      "Epoch 177/200\n",
      "33/33 - 0s - loss: 0.0846 - accuracy: 0.9688 - 179ms/epoch - 5ms/step\n",
      "Epoch 178/200\n",
      "33/33 - 0s - loss: 0.0841 - accuracy: 0.9691 - 181ms/epoch - 5ms/step\n",
      "Epoch 179/200\n",
      "33/33 - 0s - loss: 0.0842 - accuracy: 0.9686 - 175ms/epoch - 5ms/step\n",
      "Epoch 180/200\n",
      "33/33 - 0s - loss: 0.0846 - accuracy: 0.9681 - 175ms/epoch - 5ms/step\n",
      "Epoch 181/200\n",
      "33/33 - 0s - loss: 0.0843 - accuracy: 0.9684 - 176ms/epoch - 5ms/step\n",
      "Epoch 182/200\n",
      "33/33 - 0s - loss: 0.0842 - accuracy: 0.9682 - 175ms/epoch - 5ms/step\n",
      "Epoch 183/200\n",
      "33/33 - 0s - loss: 0.0840 - accuracy: 0.9688 - 181ms/epoch - 5ms/step\n",
      "Epoch 184/200\n",
      "33/33 - 0s - loss: 0.0842 - accuracy: 0.9684 - 202ms/epoch - 6ms/step\n",
      "Epoch 185/200\n",
      "33/33 - 0s - loss: 0.0839 - accuracy: 0.9686 - 175ms/epoch - 5ms/step\n",
      "Epoch 186/200\n",
      "33/33 - 0s - loss: 0.0842 - accuracy: 0.9684 - 178ms/epoch - 5ms/step\n",
      "Epoch 187/200\n",
      "33/33 - 0s - loss: 0.0837 - accuracy: 0.9686 - 176ms/epoch - 5ms/step\n",
      "Epoch 188/200\n",
      "33/33 - 0s - loss: 0.0838 - accuracy: 0.9685 - 176ms/epoch - 5ms/step\n",
      "Epoch 189/200\n",
      "33/33 - 0s - loss: 0.0842 - accuracy: 0.9690 - 176ms/epoch - 5ms/step\n",
      "Epoch 190/200\n",
      "33/33 - 0s - loss: 0.0838 - accuracy: 0.9686 - 178ms/epoch - 5ms/step\n",
      "Epoch 191/200\n",
      "33/33 - 0s - loss: 0.0844 - accuracy: 0.9673 - 175ms/epoch - 5ms/step\n",
      "Epoch 192/200\n",
      "33/33 - 0s - loss: 0.0846 - accuracy: 0.9680 - 174ms/epoch - 5ms/step\n",
      "Epoch 193/200\n",
      "33/33 - 0s - loss: 0.0837 - accuracy: 0.9689 - 179ms/epoch - 5ms/step\n",
      "Epoch 194/200\n",
      "33/33 - 0s - loss: 0.0831 - accuracy: 0.9690 - 175ms/epoch - 5ms/step\n",
      "Epoch 195/200\n",
      "33/33 - 0s - loss: 0.0838 - accuracy: 0.9684 - 177ms/epoch - 5ms/step\n",
      "Epoch 196/200\n",
      "33/33 - 0s - loss: 0.0839 - accuracy: 0.9685 - 175ms/epoch - 5ms/step\n",
      "Epoch 197/200\n",
      "33/33 - 0s - loss: 0.0833 - accuracy: 0.9688 - 178ms/epoch - 5ms/step\n",
      "Epoch 198/200\n",
      "33/33 - 0s - loss: 0.0829 - accuracy: 0.9686 - 175ms/epoch - 5ms/step\n",
      "Epoch 199/200\n",
      "33/33 - 0s - loss: 0.0834 - accuracy: 0.9684 - 178ms/epoch - 5ms/step\n",
      "Epoch 200/200\n",
      "33/33 - 0s - loss: 0.0832 - accuracy: 0.9688 - 174ms/epoch - 5ms/step\n"
     ]
    }
   ],
   "source": [
    "def build_model():\n",
    "    model = Sequential()\n",
    "    model.add(LSTM(20, return_sequences=True,input_shape=(1,56)))\n",
    "    model.add(LSTM(20, return_sequences=True))\n",
    "    model.add(Dense(10, activation='softmax')) #for multiclass classification\n",
    "    #Compile the model\n",
    "    model.compile(loss='sparse_categorical_crossentropy', optimizer='adam',\n",
    "                  # metrics=['accuracy',f1_m,precision_m, recall_m]\n",
    "                  metrics=['accuracy']\n",
    "                 )\n",
    "    return model\n",
    "\n",
    "#The LSTM input layer must be 3D.\n",
    "#The meaning of the 3 input dimensions are: samples, time steps, and features.\n",
    "#reshape input data\n",
    "X_train_array = array(X_train) #array has been declared in the previous cell\n",
    "print(len(X_train_array))\n",
    "X_train_reshaped = X_train_array.reshape(X_train_array.shape[0],1,56)\n",
    "\n",
    "#reshape output data\n",
    "X_test_array=  array(X_test)\n",
    "X_test_reshaped = X_test_array.reshape(X_test_array.shape[0],1,56) \n",
    "\n",
    "\n",
    "#institate the model\n",
    "model = build_model()\n",
    "\n",
    "\n",
    "#fit the model\n",
    "start = time.time()\n",
    "model.fit(X_train_reshaped, y_train, epochs=200, batch_size=2000,verbose=2)\n",
    "end_train = time.time()"
   ]
  },
  {
   "cell_type": "code",
   "execution_count": 77,
   "metadata": {},
   "outputs": [
    {
     "name": "stdout",
     "output_type": "stream",
     "text": [
      "515/515 [==============================] - 1s 1ms/step - loss: 0.0891 - accuracy: 0.9649\n"
     ]
    }
   ],
   "source": [
    "#Evaluate the neural network\n",
    "loss, accuracy = model.evaluate(X_test_reshaped, y_test)\n",
    "# loss, accuracy, f1s, precision, recall = model.evaluate(X_test_reshaped, y_test)\n",
    "end_predict = time.time()\n",
    "model_performance.loc['LSTM (Keras)'] = [accuracy, accuracy, accuracy, accuracy,end_train-start,end_predict-end_train,end_predict-start]"
   ]
  },
  {
   "cell_type": "markdown",
   "metadata": {},
   "source": [
    "# Evaluate"
   ]
  },
  {
   "cell_type": "code",
   "execution_count": 78,
   "metadata": {},
   "outputs": [
    {
     "data": {
      "text/html": [
       "<style type=\"text/css\">\n",
       "#T_d8e48_row0_col0, #T_d8e48_row0_col1, #T_d8e48_row0_col2, #T_d8e48_row0_col3, #T_d8e48_row0_col5, #T_d8e48_row1_col4, #T_d8e48_row1_col6, #T_d8e48_row2_col5, #T_d8e48_row3_col6, #T_d8e48_row6_col5 {\n",
       "  background-color: #3b4cc0;\n",
       "  color: #f1f1f1;\n",
       "}\n",
       "#T_d8e48_row0_col4 {\n",
       "  background-color: #516ddb;\n",
       "  color: #f1f1f1;\n",
       "}\n",
       "#T_d8e48_row0_col6 {\n",
       "  background-color: #4b64d5;\n",
       "  color: #f1f1f1;\n",
       "}\n",
       "#T_d8e48_row1_col0, #T_d8e48_row1_col1, #T_d8e48_row1_col3 {\n",
       "  background-color: #d1dae9;\n",
       "  color: #000000;\n",
       "}\n",
       "#T_d8e48_row1_col2 {\n",
       "  background-color: #d2dbe8;\n",
       "  color: #000000;\n",
       "}\n",
       "#T_d8e48_row1_col5 {\n",
       "  background-color: #e0654f;\n",
       "  color: #f1f1f1;\n",
       "}\n",
       "#T_d8e48_row2_col0, #T_d8e48_row2_col1, #T_d8e48_row2_col3, #T_d8e48_row9_col0, #T_d8e48_row9_col1, #T_d8e48_row9_col3 {\n",
       "  background-color: #f4987a;\n",
       "  color: #000000;\n",
       "}\n",
       "#T_d8e48_row2_col2, #T_d8e48_row9_col2 {\n",
       "  background-color: #f49a7b;\n",
       "  color: #000000;\n",
       "}\n",
       "#T_d8e48_row2_col4 {\n",
       "  background-color: #4358cb;\n",
       "  color: #f1f1f1;\n",
       "}\n",
       "#T_d8e48_row2_col6 {\n",
       "  background-color: #3d50c3;\n",
       "  color: #f1f1f1;\n",
       "}\n",
       "#T_d8e48_row3_col0, #T_d8e48_row3_col1, #T_d8e48_row3_col3 {\n",
       "  background-color: #c0282f;\n",
       "  color: #f1f1f1;\n",
       "}\n",
       "#T_d8e48_row3_col2 {\n",
       "  background-color: #be242e;\n",
       "  color: #f1f1f1;\n",
       "}\n",
       "#T_d8e48_row3_col4 {\n",
       "  background-color: #3f53c6;\n",
       "  color: #f1f1f1;\n",
       "}\n",
       "#T_d8e48_row3_col5, #T_d8e48_row4_col4, #T_d8e48_row4_col5 {\n",
       "  background-color: #465ecf;\n",
       "  color: #f1f1f1;\n",
       "}\n",
       "#T_d8e48_row4_col0, #T_d8e48_row4_col1, #T_d8e48_row4_col2, #T_d8e48_row4_col3, #T_d8e48_row5_col4, #T_d8e48_row5_col6, #T_d8e48_row8_col5 {\n",
       "  background-color: #b40426;\n",
       "  color: #f1f1f1;\n",
       "}\n",
       "#T_d8e48_row4_col6, #T_d8e48_row5_col5 {\n",
       "  background-color: #4055c8;\n",
       "  color: #f1f1f1;\n",
       "}\n",
       "#T_d8e48_row5_col0, #T_d8e48_row5_col1, #T_d8e48_row5_col3 {\n",
       "  background-color: #f4c6af;\n",
       "  color: #000000;\n",
       "}\n",
       "#T_d8e48_row5_col2 {\n",
       "  background-color: #f3c7b1;\n",
       "  color: #000000;\n",
       "}\n",
       "#T_d8e48_row6_col0, #T_d8e48_row6_col1, #T_d8e48_row6_col2, #T_d8e48_row6_col3 {\n",
       "  background-color: #f6a385;\n",
       "  color: #000000;\n",
       "}\n",
       "#T_d8e48_row6_col4 {\n",
       "  background-color: #b5cdfa;\n",
       "  color: #000000;\n",
       "}\n",
       "#T_d8e48_row6_col6 {\n",
       "  background-color: #b1cbfc;\n",
       "  color: #000000;\n",
       "}\n",
       "#T_d8e48_row7_col0, #T_d8e48_row7_col1, #T_d8e48_row7_col3 {\n",
       "  background-color: #f7b497;\n",
       "  color: #000000;\n",
       "}\n",
       "#T_d8e48_row7_col2 {\n",
       "  background-color: #f7b599;\n",
       "  color: #000000;\n",
       "}\n",
       "#T_d8e48_row7_col4, #T_d8e48_row7_col6 {\n",
       "  background-color: #a6c4fe;\n",
       "  color: #000000;\n",
       "}\n",
       "#T_d8e48_row7_col5 {\n",
       "  background-color: #e8d6cc;\n",
       "  color: #000000;\n",
       "}\n",
       "#T_d8e48_row8_col0, #T_d8e48_row8_col1, #T_d8e48_row8_col3 {\n",
       "  background-color: #ee8669;\n",
       "  color: #f1f1f1;\n",
       "}\n",
       "#T_d8e48_row8_col2 {\n",
       "  background-color: #ef886b;\n",
       "  color: #f1f1f1;\n",
       "}\n",
       "#T_d8e48_row8_col4 {\n",
       "  background-color: #f08a6c;\n",
       "  color: #f1f1f1;\n",
       "}\n",
       "#T_d8e48_row8_col6 {\n",
       "  background-color: #ec8165;\n",
       "  color: #f1f1f1;\n",
       "}\n",
       "#T_d8e48_row9_col4 {\n",
       "  background-color: #e36b54;\n",
       "  color: #f1f1f1;\n",
       "}\n",
       "#T_d8e48_row9_col5 {\n",
       "  background-color: #ba162b;\n",
       "  color: #f1f1f1;\n",
       "}\n",
       "#T_d8e48_row9_col6 {\n",
       "  background-color: #dd5f4b;\n",
       "  color: #f1f1f1;\n",
       "}\n",
       "</style>\n",
       "<table id=\"T_d8e48\">\n",
       "  <thead>\n",
       "    <tr>\n",
       "      <th class=\"blank level0\" >&nbsp;</th>\n",
       "      <th id=\"T_d8e48_level0_col0\" class=\"col_heading level0 col0\" >Accuracy</th>\n",
       "      <th id=\"T_d8e48_level0_col1\" class=\"col_heading level0 col1\" >Recall</th>\n",
       "      <th id=\"T_d8e48_level0_col2\" class=\"col_heading level0 col2\" >Precision</th>\n",
       "      <th id=\"T_d8e48_level0_col3\" class=\"col_heading level0 col3\" >F1-Score</th>\n",
       "      <th id=\"T_d8e48_level0_col4\" class=\"col_heading level0 col4\" >Time to Train</th>\n",
       "      <th id=\"T_d8e48_level0_col5\" class=\"col_heading level0 col5\" >Time to Predict</th>\n",
       "      <th id=\"T_d8e48_level0_col6\" class=\"col_heading level0 col6\" >Total Time</th>\n",
       "    </tr>\n",
       "  </thead>\n",
       "  <tbody>\n",
       "    <tr>\n",
       "      <th id=\"T_d8e48_level0_row0\" class=\"row_heading level0 row0\" >Logistic</th>\n",
       "      <td id=\"T_d8e48_row0_col0\" class=\"data row0 col0\" >92.86%</td>\n",
       "      <td id=\"T_d8e48_row0_col1\" class=\"data row0 col1\" >92.86%</td>\n",
       "      <td id=\"T_d8e48_row0_col2\" class=\"data row0 col2\" >92.90%</td>\n",
       "      <td id=\"T_d8e48_row0_col3\" class=\"data row0 col3\" >92.87%</td>\n",
       "      <td id=\"T_d8e48_row0_col4\" class=\"data row0 col4\" >3.365941</td>\n",
       "      <td id=\"T_d8e48_row0_col5\" class=\"data row0 col5\" >0.002001</td>\n",
       "      <td id=\"T_d8e48_row0_col6\" class=\"data row0 col6\" >3.375164</td>\n",
       "    </tr>\n",
       "    <tr>\n",
       "      <th id=\"T_d8e48_level0_row1\" class=\"row_heading level0 row1\" >kNN</th>\n",
       "      <td id=\"T_d8e48_row1_col0\" class=\"data row1 col0\" >95.04%</td>\n",
       "      <td id=\"T_d8e48_row1_col1\" class=\"data row1 col1\" >95.04%</td>\n",
       "      <td id=\"T_d8e48_row1_col2\" class=\"data row1 col2\" >95.09%</td>\n",
       "      <td id=\"T_d8e48_row1_col3\" class=\"data row1 col3\" >95.05%</td>\n",
       "      <td id=\"T_d8e48_row1_col4\" class=\"data row1 col4\" >0.007007</td>\n",
       "      <td id=\"T_d8e48_row1_col5\" class=\"data row1 col5\" >1.007879</td>\n",
       "      <td id=\"T_d8e48_row1_col6\" class=\"data row1 col6\" >1.014886</td>\n",
       "    </tr>\n",
       "    <tr>\n",
       "      <th id=\"T_d8e48_level0_row2\" class=\"row_heading level0 row2\" >Decision Tree</th>\n",
       "      <td id=\"T_d8e48_row2_col0\" class=\"data row2 col0\" >96.48%</td>\n",
       "      <td id=\"T_d8e48_row2_col1\" class=\"data row2 col1\" >96.48%</td>\n",
       "      <td id=\"T_d8e48_row2_col2\" class=\"data row2 col2\" >96.48%</td>\n",
       "      <td id=\"T_d8e48_row2_col3\" class=\"data row2 col3\" >96.48%</td>\n",
       "      <td id=\"T_d8e48_row2_col4\" class=\"data row2 col4\" >1.269904</td>\n",
       "      <td id=\"T_d8e48_row2_col5\" class=\"data row2 col5\" >0.004104</td>\n",
       "      <td id=\"T_d8e48_row2_col6\" class=\"data row2 col6\" >1.274008</td>\n",
       "    </tr>\n",
       "    <tr>\n",
       "      <th id=\"T_d8e48_level0_row3\" class=\"row_heading level0 row3\" >Extra Trees</th>\n",
       "      <td id=\"T_d8e48_row3_col0\" class=\"data row3 col0\" >97.53%</td>\n",
       "      <td id=\"T_d8e48_row3_col1\" class=\"data row3 col1\" >97.53%</td>\n",
       "      <td id=\"T_d8e48_row3_col2\" class=\"data row3 col2\" >97.55%</td>\n",
       "      <td id=\"T_d8e48_row3_col3\" class=\"data row3 col3\" >97.53%</td>\n",
       "      <td id=\"T_d8e48_row3_col4\" class=\"data row3 col4\" >0.861354</td>\n",
       "      <td id=\"T_d8e48_row3_col5\" class=\"data row3 col5\" >0.050558</td>\n",
       "      <td id=\"T_d8e48_row3_col6\" class=\"data row3 col6\" >0.911912</td>\n",
       "    </tr>\n",
       "    <tr>\n",
       "      <th id=\"T_d8e48_level0_row4\" class=\"row_heading level0 row4\" >Random Forest</th>\n",
       "      <td id=\"T_d8e48_row4_col0\" class=\"data row4 col0\" >97.68%</td>\n",
       "      <td id=\"T_d8e48_row4_col1\" class=\"data row4 col1\" >97.68%</td>\n",
       "      <td id=\"T_d8e48_row4_col2\" class=\"data row4 col2\" >97.69%</td>\n",
       "      <td id=\"T_d8e48_row4_col3\" class=\"data row4 col3\" >97.68%</td>\n",
       "      <td id=\"T_d8e48_row4_col4\" class=\"data row4 col4\" >1.793992</td>\n",
       "      <td id=\"T_d8e48_row4_col5\" class=\"data row4 col5\" >0.050862</td>\n",
       "      <td id=\"T_d8e48_row4_col6\" class=\"data row4 col6\" >1.844854</td>\n",
       "    </tr>\n",
       "    <tr>\n",
       "      <th id=\"T_d8e48_level0_row5\" class=\"row_heading level0 row5\" >Gradient Boosting Classifier</th>\n",
       "      <td id=\"T_d8e48_row5_col0\" class=\"data row5 col0\" >95.85%</td>\n",
       "      <td id=\"T_d8e48_row5_col1\" class=\"data row5 col1\" >95.85%</td>\n",
       "      <td id=\"T_d8e48_row5_col2\" class=\"data row5 col2\" >95.86%</td>\n",
       "      <td id=\"T_d8e48_row5_col3\" class=\"data row5 col3\" >95.85%</td>\n",
       "      <td id=\"T_d8e48_row5_col4\" class=\"data row5 col4\" >44.984797</td>\n",
       "      <td id=\"T_d8e48_row5_col5\" class=\"data row5 col5\" >0.024980</td>\n",
       "      <td id=\"T_d8e48_row5_col6\" class=\"data row5 col6\" >45.009777</td>\n",
       "    </tr>\n",
       "    <tr>\n",
       "      <th id=\"T_d8e48_level0_row6\" class=\"row_heading level0 row6\" >MLP</th>\n",
       "      <td id=\"T_d8e48_row6_col0\" class=\"data row6 col0\" >96.36%</td>\n",
       "      <td id=\"T_d8e48_row6_col1\" class=\"data row6 col1\" >96.36%</td>\n",
       "      <td id=\"T_d8e48_row6_col2\" class=\"data row6 col2\" >96.38%</td>\n",
       "      <td id=\"T_d8e48_row6_col3\" class=\"data row6 col3\" >96.36%</td>\n",
       "      <td id=\"T_d8e48_row6_col4\" class=\"data row6 col4\" >16.490254</td>\n",
       "      <td id=\"T_d8e48_row6_col5\" class=\"data row6 col5\" >0.005026</td>\n",
       "      <td id=\"T_d8e48_row6_col6\" class=\"data row6 col6\" >16.495280</td>\n",
       "    </tr>\n",
       "    <tr>\n",
       "      <th id=\"T_d8e48_level0_row7\" class=\"row_heading level0 row7\" >MLP (Keras)</th>\n",
       "      <td id=\"T_d8e48_row7_col0\" class=\"data row7 col0\" >96.13%</td>\n",
       "      <td id=\"T_d8e48_row7_col1\" class=\"data row7 col1\" >96.13%</td>\n",
       "      <td id=\"T_d8e48_row7_col2\" class=\"data row7 col2\" >96.13%</td>\n",
       "      <td id=\"T_d8e48_row7_col3\" class=\"data row7 col3\" >96.13%</td>\n",
       "      <td id=\"T_d8e48_row7_col4\" class=\"data row7 col4\" >14.491148</td>\n",
       "      <td id=\"T_d8e48_row7_col5\" class=\"data row7 col5\" >0.636211</td>\n",
       "      <td id=\"T_d8e48_row7_col6\" class=\"data row7 col6\" >15.127360</td>\n",
       "    </tr>\n",
       "    <tr>\n",
       "      <th id=\"T_d8e48_level0_row8\" class=\"row_heading level0 row8\" >GRU (Keras)</th>\n",
       "      <td id=\"T_d8e48_row8_col0\" class=\"data row8 col0\" >96.70%</td>\n",
       "      <td id=\"T_d8e48_row8_col1\" class=\"data row8 col1\" >96.70%</td>\n",
       "      <td id=\"T_d8e48_row8_col2\" class=\"data row8 col2\" >96.70%</td>\n",
       "      <td id=\"T_d8e48_row8_col3\" class=\"data row8 col3\" >96.70%</td>\n",
       "      <td id=\"T_d8e48_row8_col4\" class=\"data row8 col4\" >35.364386</td>\n",
       "      <td id=\"T_d8e48_row8_col5\" class=\"data row8 col5\" >1.164160</td>\n",
       "      <td id=\"T_d8e48_row8_col6\" class=\"data row8 col6\" >36.528547</td>\n",
       "    </tr>\n",
       "    <tr>\n",
       "      <th id=\"T_d8e48_level0_row9\" class=\"row_heading level0 row9\" >LSTM (Keras)</th>\n",
       "      <td id=\"T_d8e48_row9_col0\" class=\"data row9 col0\" >96.49%</td>\n",
       "      <td id=\"T_d8e48_row9_col1\" class=\"data row9 col1\" >96.49%</td>\n",
       "      <td id=\"T_d8e48_row9_col2\" class=\"data row9 col2\" >96.49%</td>\n",
       "      <td id=\"T_d8e48_row9_col3\" class=\"data row9 col3\" >96.49%</td>\n",
       "      <td id=\"T_d8e48_row9_col4\" class=\"data row9 col4\" >38.477828</td>\n",
       "      <td id=\"T_d8e48_row9_col5\" class=\"data row9 col5\" >1.141543</td>\n",
       "      <td id=\"T_d8e48_row9_col6\" class=\"data row9 col6\" >39.619371</td>\n",
       "    </tr>\n",
       "  </tbody>\n",
       "</table>\n"
      ],
      "text/plain": [
       "<pandas.io.formats.style.Styler at 0x23be3964810>"
      ]
     },
     "execution_count": 78,
     "metadata": {},
     "output_type": "execute_result"
    }
   ],
   "source": [
    "model_performance.fillna(.90,inplace=True)\n",
    "model_performance.style.background_gradient(cmap='coolwarm').format({'Accuracy': '{:.2%}',\n",
    "                                                                     'Precision': '{:.2%}',\n",
    "                                                                     'Recall': '{:.2%}',\n",
    "                                                                     'F1-Score': '{:.2%}',\n",
    "                                                                     'time to train':'{:.1f}',\n",
    "                                                                     'time to predict':'{:.1f}',\n",
    "                                                                     'total time':'{:.1f}',\n",
    "                                                                     })"
   ]
  },
  {
   "cell_type": "code",
   "execution_count": null,
   "metadata": {},
   "outputs": [],
   "source": []
  }
 ],
 "metadata": {
  "kernelspec": {
   "display_name": "Python 3",
   "language": "python",
   "name": "python3"
  },
  "language_info": {
   "codemirror_mode": {
    "name": "ipython",
    "version": 3
   },
   "file_extension": ".py",
   "mimetype": "text/x-python",
   "name": "python",
   "nbconvert_exporter": "python",
   "pygments_lexer": "ipython3",
   "version": "3.11.6"
  }
 },
 "nbformat": 4,
 "nbformat_minor": 2
}
